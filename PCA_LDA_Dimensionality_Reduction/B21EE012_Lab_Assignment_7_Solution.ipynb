{
  "nbformat": 4,
  "nbformat_minor": 0,
  "metadata": {
    "colab": {
      "provenance": []
    },
    "kernelspec": {
      "name": "python3",
      "display_name": "Python 3"
    },
    "language_info": {
      "name": "python"
    }
  },
  "cells": [
    {
      "cell_type": "markdown",
      "source": [
        "#Question 1"
      ],
      "metadata": {
        "id": "BDmftVnP76Cx"
      }
    },
    {
      "cell_type": "markdown",
      "source": [
        "#Part 1"
      ],
      "metadata": {
        "id": "E8TYevt579ru"
      }
    },
    {
      "cell_type": "code",
      "source": [
        "import pandas as pd\n",
        "import numpy as np\n",
        "from sklearn.model_selection import train_test_split\n",
        "from sklearn.preprocessing import StandardScaler\n",
        "from sklearn import svm\n",
        "from sklearn.tree import DecisionTreeClassifier\n",
        "from sklearn.model_selection import KFold\n",
        "from sklearn.model_selection import cross_val_score\n",
        "import matplotlib.pyplot as plt\n",
        "from sklearn.metrics import accuracy_score\n",
        "from sklearn.metrics import classification_report\n",
        "from sklearn.metrics import recall_score\n",
        "from sklearn.metrics import f1_score\n",
        "from sklearn.model_selection import train_test_split\n",
        "from sklearn.discriminant_analysis import LinearDiscriminantAnalysis\n",
        "from sklearn.metrics import roc_curve, auc"
      ],
      "metadata": {
        "id": "RzF_qliG7l-m"
      },
      "execution_count": 167,
      "outputs": []
    },
    {
      "cell_type": "code",
      "execution_count": 2,
      "metadata": {
        "id": "NIQ2fZHIzTv1",
        "colab": {
          "base_uri": "https://localhost:8080/",
          "height": 423
        },
        "outputId": "48db5bbd-bc65-4527-efa5-0817f75114d5"
      },
      "outputs": [
        {
          "output_type": "execute_result",
          "data": {
            "text/plain": [
              "    family product steel  carbon  hardness  strength  shape  thick   width  \\\n",
              "0        ?       C     A       8         0         0   COIL  0.700   610.0   \n",
              "1        ?       C     R       0         0         0   COIL  3.200   610.0   \n",
              "2        ?       C     R       0         0         0  SHEET  0.700  1300.0   \n",
              "3        ?       C     A       0        60         0   COIL  2.801   385.1   \n",
              "4        ?       C     A       0        60         0  SHEET  0.801   255.0   \n",
              "..     ...     ...   ...     ...       ...       ...    ...    ...     ...   \n",
              "793      ?       C     A       0        50         0   COIL  1.001    50.0   \n",
              "794      ?       C     ?       0         0         0  SHEET  0.699  1300.0   \n",
              "795      ?       C     A       0         0         0   COIL  0.400   609.9   \n",
              "796      ?       C     A       0         0         0  SHEET  3.200   610.0   \n",
              "797      ?       C     R       0         0         0  SHEET  1.599  1500.0   \n",
              "\n",
              "      len  bore classes  \n",
              "0       0     0       3  \n",
              "1       0     0       3  \n",
              "2     762     0       3  \n",
              "3       0     0       3  \n",
              "4     269     0       3  \n",
              "..    ...   ...     ...  \n",
              "793     0     0       3  \n",
              "794  4880     0       3  \n",
              "795     0     0       3  \n",
              "796  4880     0       3  \n",
              "797  4170     0       2  \n",
              "\n",
              "[798 rows x 12 columns]"
            ],
            "text/html": [
              "\n",
              "  <div id=\"df-5a0a3884-24d6-491a-9c93-622b55372372\">\n",
              "    <div class=\"colab-df-container\">\n",
              "      <div>\n",
              "<style scoped>\n",
              "    .dataframe tbody tr th:only-of-type {\n",
              "        vertical-align: middle;\n",
              "    }\n",
              "\n",
              "    .dataframe tbody tr th {\n",
              "        vertical-align: top;\n",
              "    }\n",
              "\n",
              "    .dataframe thead th {\n",
              "        text-align: right;\n",
              "    }\n",
              "</style>\n",
              "<table border=\"1\" class=\"dataframe\">\n",
              "  <thead>\n",
              "    <tr style=\"text-align: right;\">\n",
              "      <th></th>\n",
              "      <th>family</th>\n",
              "      <th>product</th>\n",
              "      <th>steel</th>\n",
              "      <th>carbon</th>\n",
              "      <th>hardness</th>\n",
              "      <th>strength</th>\n",
              "      <th>shape</th>\n",
              "      <th>thick</th>\n",
              "      <th>width</th>\n",
              "      <th>len</th>\n",
              "      <th>bore</th>\n",
              "      <th>classes</th>\n",
              "    </tr>\n",
              "  </thead>\n",
              "  <tbody>\n",
              "    <tr>\n",
              "      <th>0</th>\n",
              "      <td>?</td>\n",
              "      <td>C</td>\n",
              "      <td>A</td>\n",
              "      <td>8</td>\n",
              "      <td>0</td>\n",
              "      <td>0</td>\n",
              "      <td>COIL</td>\n",
              "      <td>0.700</td>\n",
              "      <td>610.0</td>\n",
              "      <td>0</td>\n",
              "      <td>0</td>\n",
              "      <td>3</td>\n",
              "    </tr>\n",
              "    <tr>\n",
              "      <th>1</th>\n",
              "      <td>?</td>\n",
              "      <td>C</td>\n",
              "      <td>R</td>\n",
              "      <td>0</td>\n",
              "      <td>0</td>\n",
              "      <td>0</td>\n",
              "      <td>COIL</td>\n",
              "      <td>3.200</td>\n",
              "      <td>610.0</td>\n",
              "      <td>0</td>\n",
              "      <td>0</td>\n",
              "      <td>3</td>\n",
              "    </tr>\n",
              "    <tr>\n",
              "      <th>2</th>\n",
              "      <td>?</td>\n",
              "      <td>C</td>\n",
              "      <td>R</td>\n",
              "      <td>0</td>\n",
              "      <td>0</td>\n",
              "      <td>0</td>\n",
              "      <td>SHEET</td>\n",
              "      <td>0.700</td>\n",
              "      <td>1300.0</td>\n",
              "      <td>762</td>\n",
              "      <td>0</td>\n",
              "      <td>3</td>\n",
              "    </tr>\n",
              "    <tr>\n",
              "      <th>3</th>\n",
              "      <td>?</td>\n",
              "      <td>C</td>\n",
              "      <td>A</td>\n",
              "      <td>0</td>\n",
              "      <td>60</td>\n",
              "      <td>0</td>\n",
              "      <td>COIL</td>\n",
              "      <td>2.801</td>\n",
              "      <td>385.1</td>\n",
              "      <td>0</td>\n",
              "      <td>0</td>\n",
              "      <td>3</td>\n",
              "    </tr>\n",
              "    <tr>\n",
              "      <th>4</th>\n",
              "      <td>?</td>\n",
              "      <td>C</td>\n",
              "      <td>A</td>\n",
              "      <td>0</td>\n",
              "      <td>60</td>\n",
              "      <td>0</td>\n",
              "      <td>SHEET</td>\n",
              "      <td>0.801</td>\n",
              "      <td>255.0</td>\n",
              "      <td>269</td>\n",
              "      <td>0</td>\n",
              "      <td>3</td>\n",
              "    </tr>\n",
              "    <tr>\n",
              "      <th>...</th>\n",
              "      <td>...</td>\n",
              "      <td>...</td>\n",
              "      <td>...</td>\n",
              "      <td>...</td>\n",
              "      <td>...</td>\n",
              "      <td>...</td>\n",
              "      <td>...</td>\n",
              "      <td>...</td>\n",
              "      <td>...</td>\n",
              "      <td>...</td>\n",
              "      <td>...</td>\n",
              "      <td>...</td>\n",
              "    </tr>\n",
              "    <tr>\n",
              "      <th>793</th>\n",
              "      <td>?</td>\n",
              "      <td>C</td>\n",
              "      <td>A</td>\n",
              "      <td>0</td>\n",
              "      <td>50</td>\n",
              "      <td>0</td>\n",
              "      <td>COIL</td>\n",
              "      <td>1.001</td>\n",
              "      <td>50.0</td>\n",
              "      <td>0</td>\n",
              "      <td>0</td>\n",
              "      <td>3</td>\n",
              "    </tr>\n",
              "    <tr>\n",
              "      <th>794</th>\n",
              "      <td>?</td>\n",
              "      <td>C</td>\n",
              "      <td>?</td>\n",
              "      <td>0</td>\n",
              "      <td>0</td>\n",
              "      <td>0</td>\n",
              "      <td>SHEET</td>\n",
              "      <td>0.699</td>\n",
              "      <td>1300.0</td>\n",
              "      <td>4880</td>\n",
              "      <td>0</td>\n",
              "      <td>3</td>\n",
              "    </tr>\n",
              "    <tr>\n",
              "      <th>795</th>\n",
              "      <td>?</td>\n",
              "      <td>C</td>\n",
              "      <td>A</td>\n",
              "      <td>0</td>\n",
              "      <td>0</td>\n",
              "      <td>0</td>\n",
              "      <td>COIL</td>\n",
              "      <td>0.400</td>\n",
              "      <td>609.9</td>\n",
              "      <td>0</td>\n",
              "      <td>0</td>\n",
              "      <td>3</td>\n",
              "    </tr>\n",
              "    <tr>\n",
              "      <th>796</th>\n",
              "      <td>?</td>\n",
              "      <td>C</td>\n",
              "      <td>A</td>\n",
              "      <td>0</td>\n",
              "      <td>0</td>\n",
              "      <td>0</td>\n",
              "      <td>SHEET</td>\n",
              "      <td>3.200</td>\n",
              "      <td>610.0</td>\n",
              "      <td>4880</td>\n",
              "      <td>0</td>\n",
              "      <td>3</td>\n",
              "    </tr>\n",
              "    <tr>\n",
              "      <th>797</th>\n",
              "      <td>?</td>\n",
              "      <td>C</td>\n",
              "      <td>R</td>\n",
              "      <td>0</td>\n",
              "      <td>0</td>\n",
              "      <td>0</td>\n",
              "      <td>SHEET</td>\n",
              "      <td>1.599</td>\n",
              "      <td>1500.0</td>\n",
              "      <td>4170</td>\n",
              "      <td>0</td>\n",
              "      <td>2</td>\n",
              "    </tr>\n",
              "  </tbody>\n",
              "</table>\n",
              "<p>798 rows × 12 columns</p>\n",
              "</div>\n",
              "      <button class=\"colab-df-convert\" onclick=\"convertToInteractive('df-5a0a3884-24d6-491a-9c93-622b55372372')\"\n",
              "              title=\"Convert this dataframe to an interactive table.\"\n",
              "              style=\"display:none;\">\n",
              "        \n",
              "  <svg xmlns=\"http://www.w3.org/2000/svg\" height=\"24px\"viewBox=\"0 0 24 24\"\n",
              "       width=\"24px\">\n",
              "    <path d=\"M0 0h24v24H0V0z\" fill=\"none\"/>\n",
              "    <path d=\"M18.56 5.44l.94 2.06.94-2.06 2.06-.94-2.06-.94-.94-2.06-.94 2.06-2.06.94zm-11 1L8.5 8.5l.94-2.06 2.06-.94-2.06-.94L8.5 2.5l-.94 2.06-2.06.94zm10 10l.94 2.06.94-2.06 2.06-.94-2.06-.94-.94-2.06-.94 2.06-2.06.94z\"/><path d=\"M17.41 7.96l-1.37-1.37c-.4-.4-.92-.59-1.43-.59-.52 0-1.04.2-1.43.59L10.3 9.45l-7.72 7.72c-.78.78-.78 2.05 0 2.83L4 21.41c.39.39.9.59 1.41.59.51 0 1.02-.2 1.41-.59l7.78-7.78 2.81-2.81c.8-.78.8-2.07 0-2.86zM5.41 20L4 18.59l7.72-7.72 1.47 1.35L5.41 20z\"/>\n",
              "  </svg>\n",
              "      </button>\n",
              "      \n",
              "  <style>\n",
              "    .colab-df-container {\n",
              "      display:flex;\n",
              "      flex-wrap:wrap;\n",
              "      gap: 12px;\n",
              "    }\n",
              "\n",
              "    .colab-df-convert {\n",
              "      background-color: #E8F0FE;\n",
              "      border: none;\n",
              "      border-radius: 50%;\n",
              "      cursor: pointer;\n",
              "      display: none;\n",
              "      fill: #1967D2;\n",
              "      height: 32px;\n",
              "      padding: 0 0 0 0;\n",
              "      width: 32px;\n",
              "    }\n",
              "\n",
              "    .colab-df-convert:hover {\n",
              "      background-color: #E2EBFA;\n",
              "      box-shadow: 0px 1px 2px rgba(60, 64, 67, 0.3), 0px 1px 3px 1px rgba(60, 64, 67, 0.15);\n",
              "      fill: #174EA6;\n",
              "    }\n",
              "\n",
              "    [theme=dark] .colab-df-convert {\n",
              "      background-color: #3B4455;\n",
              "      fill: #D2E3FC;\n",
              "    }\n",
              "\n",
              "    [theme=dark] .colab-df-convert:hover {\n",
              "      background-color: #434B5C;\n",
              "      box-shadow: 0px 1px 3px 1px rgba(0, 0, 0, 0.15);\n",
              "      filter: drop-shadow(0px 1px 2px rgba(0, 0, 0, 0.3));\n",
              "      fill: #FFFFFF;\n",
              "    }\n",
              "  </style>\n",
              "\n",
              "      <script>\n",
              "        const buttonEl =\n",
              "          document.querySelector('#df-5a0a3884-24d6-491a-9c93-622b55372372 button.colab-df-convert');\n",
              "        buttonEl.style.display =\n",
              "          google.colab.kernel.accessAllowed ? 'block' : 'none';\n",
              "\n",
              "        async function convertToInteractive(key) {\n",
              "          const element = document.querySelector('#df-5a0a3884-24d6-491a-9c93-622b55372372');\n",
              "          const dataTable =\n",
              "            await google.colab.kernel.invokeFunction('convertToInteractive',\n",
              "                                                     [key], {});\n",
              "          if (!dataTable) return;\n",
              "\n",
              "          const docLinkHtml = 'Like what you see? Visit the ' +\n",
              "            '<a target=\"_blank\" href=https://colab.research.google.com/notebooks/data_table.ipynb>data table notebook</a>'\n",
              "            + ' to learn more about interactive tables.';\n",
              "          element.innerHTML = '';\n",
              "          dataTable['output_type'] = 'display_data';\n",
              "          await google.colab.output.renderOutput(dataTable, element);\n",
              "          const docLink = document.createElement('div');\n",
              "          docLink.innerHTML = docLinkHtml;\n",
              "          element.appendChild(docLink);\n",
              "        }\n",
              "      </script>\n",
              "    </div>\n",
              "  </div>\n",
              "  "
            ]
          },
          "metadata": {},
          "execution_count": 2
        }
      ],
      "source": [
        "df = pd.read_csv('/content/drive/MyDrive/Lab_Data/anneal.csv')\n",
        "df"
      ]
    },
    {
      "cell_type": "code",
      "source": [
        "df = df.drop('family',axis=1)\n",
        "df"
      ],
      "metadata": {
        "id": "4bx19G2n7wUd",
        "colab": {
          "base_uri": "https://localhost:8080/",
          "height": 423
        },
        "outputId": "847326b9-2027-4a35-85fe-0dca22d39a21"
      },
      "execution_count": 3,
      "outputs": [
        {
          "output_type": "execute_result",
          "data": {
            "text/plain": [
              "    product steel  carbon  hardness  strength  shape  thick   width   len  \\\n",
              "0         C     A       8         0         0   COIL  0.700   610.0     0   \n",
              "1         C     R       0         0         0   COIL  3.200   610.0     0   \n",
              "2         C     R       0         0         0  SHEET  0.700  1300.0   762   \n",
              "3         C     A       0        60         0   COIL  2.801   385.1     0   \n",
              "4         C     A       0        60         0  SHEET  0.801   255.0   269   \n",
              "..      ...   ...     ...       ...       ...    ...    ...     ...   ...   \n",
              "793       C     A       0        50         0   COIL  1.001    50.0     0   \n",
              "794       C     ?       0         0         0  SHEET  0.699  1300.0  4880   \n",
              "795       C     A       0         0         0   COIL  0.400   609.9     0   \n",
              "796       C     A       0         0         0  SHEET  3.200   610.0  4880   \n",
              "797       C     R       0         0         0  SHEET  1.599  1500.0  4170   \n",
              "\n",
              "     bore classes  \n",
              "0       0       3  \n",
              "1       0       3  \n",
              "2       0       3  \n",
              "3       0       3  \n",
              "4       0       3  \n",
              "..    ...     ...  \n",
              "793     0       3  \n",
              "794     0       3  \n",
              "795     0       3  \n",
              "796     0       3  \n",
              "797     0       2  \n",
              "\n",
              "[798 rows x 11 columns]"
            ],
            "text/html": [
              "\n",
              "  <div id=\"df-a2d2bb7a-4648-42d3-aa59-fa80b10cdafd\">\n",
              "    <div class=\"colab-df-container\">\n",
              "      <div>\n",
              "<style scoped>\n",
              "    .dataframe tbody tr th:only-of-type {\n",
              "        vertical-align: middle;\n",
              "    }\n",
              "\n",
              "    .dataframe tbody tr th {\n",
              "        vertical-align: top;\n",
              "    }\n",
              "\n",
              "    .dataframe thead th {\n",
              "        text-align: right;\n",
              "    }\n",
              "</style>\n",
              "<table border=\"1\" class=\"dataframe\">\n",
              "  <thead>\n",
              "    <tr style=\"text-align: right;\">\n",
              "      <th></th>\n",
              "      <th>product</th>\n",
              "      <th>steel</th>\n",
              "      <th>carbon</th>\n",
              "      <th>hardness</th>\n",
              "      <th>strength</th>\n",
              "      <th>shape</th>\n",
              "      <th>thick</th>\n",
              "      <th>width</th>\n",
              "      <th>len</th>\n",
              "      <th>bore</th>\n",
              "      <th>classes</th>\n",
              "    </tr>\n",
              "  </thead>\n",
              "  <tbody>\n",
              "    <tr>\n",
              "      <th>0</th>\n",
              "      <td>C</td>\n",
              "      <td>A</td>\n",
              "      <td>8</td>\n",
              "      <td>0</td>\n",
              "      <td>0</td>\n",
              "      <td>COIL</td>\n",
              "      <td>0.700</td>\n",
              "      <td>610.0</td>\n",
              "      <td>0</td>\n",
              "      <td>0</td>\n",
              "      <td>3</td>\n",
              "    </tr>\n",
              "    <tr>\n",
              "      <th>1</th>\n",
              "      <td>C</td>\n",
              "      <td>R</td>\n",
              "      <td>0</td>\n",
              "      <td>0</td>\n",
              "      <td>0</td>\n",
              "      <td>COIL</td>\n",
              "      <td>3.200</td>\n",
              "      <td>610.0</td>\n",
              "      <td>0</td>\n",
              "      <td>0</td>\n",
              "      <td>3</td>\n",
              "    </tr>\n",
              "    <tr>\n",
              "      <th>2</th>\n",
              "      <td>C</td>\n",
              "      <td>R</td>\n",
              "      <td>0</td>\n",
              "      <td>0</td>\n",
              "      <td>0</td>\n",
              "      <td>SHEET</td>\n",
              "      <td>0.700</td>\n",
              "      <td>1300.0</td>\n",
              "      <td>762</td>\n",
              "      <td>0</td>\n",
              "      <td>3</td>\n",
              "    </tr>\n",
              "    <tr>\n",
              "      <th>3</th>\n",
              "      <td>C</td>\n",
              "      <td>A</td>\n",
              "      <td>0</td>\n",
              "      <td>60</td>\n",
              "      <td>0</td>\n",
              "      <td>COIL</td>\n",
              "      <td>2.801</td>\n",
              "      <td>385.1</td>\n",
              "      <td>0</td>\n",
              "      <td>0</td>\n",
              "      <td>3</td>\n",
              "    </tr>\n",
              "    <tr>\n",
              "      <th>4</th>\n",
              "      <td>C</td>\n",
              "      <td>A</td>\n",
              "      <td>0</td>\n",
              "      <td>60</td>\n",
              "      <td>0</td>\n",
              "      <td>SHEET</td>\n",
              "      <td>0.801</td>\n",
              "      <td>255.0</td>\n",
              "      <td>269</td>\n",
              "      <td>0</td>\n",
              "      <td>3</td>\n",
              "    </tr>\n",
              "    <tr>\n",
              "      <th>...</th>\n",
              "      <td>...</td>\n",
              "      <td>...</td>\n",
              "      <td>...</td>\n",
              "      <td>...</td>\n",
              "      <td>...</td>\n",
              "      <td>...</td>\n",
              "      <td>...</td>\n",
              "      <td>...</td>\n",
              "      <td>...</td>\n",
              "      <td>...</td>\n",
              "      <td>...</td>\n",
              "    </tr>\n",
              "    <tr>\n",
              "      <th>793</th>\n",
              "      <td>C</td>\n",
              "      <td>A</td>\n",
              "      <td>0</td>\n",
              "      <td>50</td>\n",
              "      <td>0</td>\n",
              "      <td>COIL</td>\n",
              "      <td>1.001</td>\n",
              "      <td>50.0</td>\n",
              "      <td>0</td>\n",
              "      <td>0</td>\n",
              "      <td>3</td>\n",
              "    </tr>\n",
              "    <tr>\n",
              "      <th>794</th>\n",
              "      <td>C</td>\n",
              "      <td>?</td>\n",
              "      <td>0</td>\n",
              "      <td>0</td>\n",
              "      <td>0</td>\n",
              "      <td>SHEET</td>\n",
              "      <td>0.699</td>\n",
              "      <td>1300.0</td>\n",
              "      <td>4880</td>\n",
              "      <td>0</td>\n",
              "      <td>3</td>\n",
              "    </tr>\n",
              "    <tr>\n",
              "      <th>795</th>\n",
              "      <td>C</td>\n",
              "      <td>A</td>\n",
              "      <td>0</td>\n",
              "      <td>0</td>\n",
              "      <td>0</td>\n",
              "      <td>COIL</td>\n",
              "      <td>0.400</td>\n",
              "      <td>609.9</td>\n",
              "      <td>0</td>\n",
              "      <td>0</td>\n",
              "      <td>3</td>\n",
              "    </tr>\n",
              "    <tr>\n",
              "      <th>796</th>\n",
              "      <td>C</td>\n",
              "      <td>A</td>\n",
              "      <td>0</td>\n",
              "      <td>0</td>\n",
              "      <td>0</td>\n",
              "      <td>SHEET</td>\n",
              "      <td>3.200</td>\n",
              "      <td>610.0</td>\n",
              "      <td>4880</td>\n",
              "      <td>0</td>\n",
              "      <td>3</td>\n",
              "    </tr>\n",
              "    <tr>\n",
              "      <th>797</th>\n",
              "      <td>C</td>\n",
              "      <td>R</td>\n",
              "      <td>0</td>\n",
              "      <td>0</td>\n",
              "      <td>0</td>\n",
              "      <td>SHEET</td>\n",
              "      <td>1.599</td>\n",
              "      <td>1500.0</td>\n",
              "      <td>4170</td>\n",
              "      <td>0</td>\n",
              "      <td>2</td>\n",
              "    </tr>\n",
              "  </tbody>\n",
              "</table>\n",
              "<p>798 rows × 11 columns</p>\n",
              "</div>\n",
              "      <button class=\"colab-df-convert\" onclick=\"convertToInteractive('df-a2d2bb7a-4648-42d3-aa59-fa80b10cdafd')\"\n",
              "              title=\"Convert this dataframe to an interactive table.\"\n",
              "              style=\"display:none;\">\n",
              "        \n",
              "  <svg xmlns=\"http://www.w3.org/2000/svg\" height=\"24px\"viewBox=\"0 0 24 24\"\n",
              "       width=\"24px\">\n",
              "    <path d=\"M0 0h24v24H0V0z\" fill=\"none\"/>\n",
              "    <path d=\"M18.56 5.44l.94 2.06.94-2.06 2.06-.94-2.06-.94-.94-2.06-.94 2.06-2.06.94zm-11 1L8.5 8.5l.94-2.06 2.06-.94-2.06-.94L8.5 2.5l-.94 2.06-2.06.94zm10 10l.94 2.06.94-2.06 2.06-.94-2.06-.94-.94-2.06-.94 2.06-2.06.94z\"/><path d=\"M17.41 7.96l-1.37-1.37c-.4-.4-.92-.59-1.43-.59-.52 0-1.04.2-1.43.59L10.3 9.45l-7.72 7.72c-.78.78-.78 2.05 0 2.83L4 21.41c.39.39.9.59 1.41.59.51 0 1.02-.2 1.41-.59l7.78-7.78 2.81-2.81c.8-.78.8-2.07 0-2.86zM5.41 20L4 18.59l7.72-7.72 1.47 1.35L5.41 20z\"/>\n",
              "  </svg>\n",
              "      </button>\n",
              "      \n",
              "  <style>\n",
              "    .colab-df-container {\n",
              "      display:flex;\n",
              "      flex-wrap:wrap;\n",
              "      gap: 12px;\n",
              "    }\n",
              "\n",
              "    .colab-df-convert {\n",
              "      background-color: #E8F0FE;\n",
              "      border: none;\n",
              "      border-radius: 50%;\n",
              "      cursor: pointer;\n",
              "      display: none;\n",
              "      fill: #1967D2;\n",
              "      height: 32px;\n",
              "      padding: 0 0 0 0;\n",
              "      width: 32px;\n",
              "    }\n",
              "\n",
              "    .colab-df-convert:hover {\n",
              "      background-color: #E2EBFA;\n",
              "      box-shadow: 0px 1px 2px rgba(60, 64, 67, 0.3), 0px 1px 3px 1px rgba(60, 64, 67, 0.15);\n",
              "      fill: #174EA6;\n",
              "    }\n",
              "\n",
              "    [theme=dark] .colab-df-convert {\n",
              "      background-color: #3B4455;\n",
              "      fill: #D2E3FC;\n",
              "    }\n",
              "\n",
              "    [theme=dark] .colab-df-convert:hover {\n",
              "      background-color: #434B5C;\n",
              "      box-shadow: 0px 1px 3px 1px rgba(0, 0, 0, 0.15);\n",
              "      filter: drop-shadow(0px 1px 2px rgba(0, 0, 0, 0.3));\n",
              "      fill: #FFFFFF;\n",
              "    }\n",
              "  </style>\n",
              "\n",
              "      <script>\n",
              "        const buttonEl =\n",
              "          document.querySelector('#df-a2d2bb7a-4648-42d3-aa59-fa80b10cdafd button.colab-df-convert');\n",
              "        buttonEl.style.display =\n",
              "          google.colab.kernel.accessAllowed ? 'block' : 'none';\n",
              "\n",
              "        async function convertToInteractive(key) {\n",
              "          const element = document.querySelector('#df-a2d2bb7a-4648-42d3-aa59-fa80b10cdafd');\n",
              "          const dataTable =\n",
              "            await google.colab.kernel.invokeFunction('convertToInteractive',\n",
              "                                                     [key], {});\n",
              "          if (!dataTable) return;\n",
              "\n",
              "          const docLinkHtml = 'Like what you see? Visit the ' +\n",
              "            '<a target=\"_blank\" href=https://colab.research.google.com/notebooks/data_table.ipynb>data table notebook</a>'\n",
              "            + ' to learn more about interactive tables.';\n",
              "          element.innerHTML = '';\n",
              "          dataTable['output_type'] = 'display_data';\n",
              "          await google.colab.output.renderOutput(dataTable, element);\n",
              "          const docLink = document.createElement('div');\n",
              "          docLink.innerHTML = docLinkHtml;\n",
              "          element.appendChild(docLink);\n",
              "        }\n",
              "      </script>\n",
              "    </div>\n",
              "  </div>\n",
              "  "
            ]
          },
          "metadata": {},
          "execution_count": 3
        }
      ]
    },
    {
      "cell_type": "code",
      "source": [
        "df['product'].unique()"
      ],
      "metadata": {
        "id": "yWo-bp0o_GNU",
        "colab": {
          "base_uri": "https://localhost:8080/"
        },
        "outputId": "775dd7d8-7232-461e-e60e-0a681b8ac118"
      },
      "execution_count": 4,
      "outputs": [
        {
          "output_type": "execute_result",
          "data": {
            "text/plain": [
              "array(['C'], dtype=object)"
            ]
          },
          "metadata": {},
          "execution_count": 4
        }
      ]
    },
    {
      "cell_type": "code",
      "source": [
        "df = df.drop('product',axis=1)\n",
        "df"
      ],
      "metadata": {
        "id": "2NH-Suex_BTF",
        "colab": {
          "base_uri": "https://localhost:8080/",
          "height": 423
        },
        "outputId": "5ffc4c6f-0ebc-41be-b40b-9c0eafa50708"
      },
      "execution_count": 5,
      "outputs": [
        {
          "output_type": "execute_result",
          "data": {
            "text/plain": [
              "    steel  carbon  hardness  strength  shape  thick   width   len  bore  \\\n",
              "0       A       8         0         0   COIL  0.700   610.0     0     0   \n",
              "1       R       0         0         0   COIL  3.200   610.0     0     0   \n",
              "2       R       0         0         0  SHEET  0.700  1300.0   762     0   \n",
              "3       A       0        60         0   COIL  2.801   385.1     0     0   \n",
              "4       A       0        60         0  SHEET  0.801   255.0   269     0   \n",
              "..    ...     ...       ...       ...    ...    ...     ...   ...   ...   \n",
              "793     A       0        50         0   COIL  1.001    50.0     0     0   \n",
              "794     ?       0         0         0  SHEET  0.699  1300.0  4880     0   \n",
              "795     A       0         0         0   COIL  0.400   609.9     0     0   \n",
              "796     A       0         0         0  SHEET  3.200   610.0  4880     0   \n",
              "797     R       0         0         0  SHEET  1.599  1500.0  4170     0   \n",
              "\n",
              "    classes  \n",
              "0         3  \n",
              "1         3  \n",
              "2         3  \n",
              "3         3  \n",
              "4         3  \n",
              "..      ...  \n",
              "793       3  \n",
              "794       3  \n",
              "795       3  \n",
              "796       3  \n",
              "797       2  \n",
              "\n",
              "[798 rows x 10 columns]"
            ],
            "text/html": [
              "\n",
              "  <div id=\"df-e49b988e-2cbb-40df-9977-3e39a8755bf9\">\n",
              "    <div class=\"colab-df-container\">\n",
              "      <div>\n",
              "<style scoped>\n",
              "    .dataframe tbody tr th:only-of-type {\n",
              "        vertical-align: middle;\n",
              "    }\n",
              "\n",
              "    .dataframe tbody tr th {\n",
              "        vertical-align: top;\n",
              "    }\n",
              "\n",
              "    .dataframe thead th {\n",
              "        text-align: right;\n",
              "    }\n",
              "</style>\n",
              "<table border=\"1\" class=\"dataframe\">\n",
              "  <thead>\n",
              "    <tr style=\"text-align: right;\">\n",
              "      <th></th>\n",
              "      <th>steel</th>\n",
              "      <th>carbon</th>\n",
              "      <th>hardness</th>\n",
              "      <th>strength</th>\n",
              "      <th>shape</th>\n",
              "      <th>thick</th>\n",
              "      <th>width</th>\n",
              "      <th>len</th>\n",
              "      <th>bore</th>\n",
              "      <th>classes</th>\n",
              "    </tr>\n",
              "  </thead>\n",
              "  <tbody>\n",
              "    <tr>\n",
              "      <th>0</th>\n",
              "      <td>A</td>\n",
              "      <td>8</td>\n",
              "      <td>0</td>\n",
              "      <td>0</td>\n",
              "      <td>COIL</td>\n",
              "      <td>0.700</td>\n",
              "      <td>610.0</td>\n",
              "      <td>0</td>\n",
              "      <td>0</td>\n",
              "      <td>3</td>\n",
              "    </tr>\n",
              "    <tr>\n",
              "      <th>1</th>\n",
              "      <td>R</td>\n",
              "      <td>0</td>\n",
              "      <td>0</td>\n",
              "      <td>0</td>\n",
              "      <td>COIL</td>\n",
              "      <td>3.200</td>\n",
              "      <td>610.0</td>\n",
              "      <td>0</td>\n",
              "      <td>0</td>\n",
              "      <td>3</td>\n",
              "    </tr>\n",
              "    <tr>\n",
              "      <th>2</th>\n",
              "      <td>R</td>\n",
              "      <td>0</td>\n",
              "      <td>0</td>\n",
              "      <td>0</td>\n",
              "      <td>SHEET</td>\n",
              "      <td>0.700</td>\n",
              "      <td>1300.0</td>\n",
              "      <td>762</td>\n",
              "      <td>0</td>\n",
              "      <td>3</td>\n",
              "    </tr>\n",
              "    <tr>\n",
              "      <th>3</th>\n",
              "      <td>A</td>\n",
              "      <td>0</td>\n",
              "      <td>60</td>\n",
              "      <td>0</td>\n",
              "      <td>COIL</td>\n",
              "      <td>2.801</td>\n",
              "      <td>385.1</td>\n",
              "      <td>0</td>\n",
              "      <td>0</td>\n",
              "      <td>3</td>\n",
              "    </tr>\n",
              "    <tr>\n",
              "      <th>4</th>\n",
              "      <td>A</td>\n",
              "      <td>0</td>\n",
              "      <td>60</td>\n",
              "      <td>0</td>\n",
              "      <td>SHEET</td>\n",
              "      <td>0.801</td>\n",
              "      <td>255.0</td>\n",
              "      <td>269</td>\n",
              "      <td>0</td>\n",
              "      <td>3</td>\n",
              "    </tr>\n",
              "    <tr>\n",
              "      <th>...</th>\n",
              "      <td>...</td>\n",
              "      <td>...</td>\n",
              "      <td>...</td>\n",
              "      <td>...</td>\n",
              "      <td>...</td>\n",
              "      <td>...</td>\n",
              "      <td>...</td>\n",
              "      <td>...</td>\n",
              "      <td>...</td>\n",
              "      <td>...</td>\n",
              "    </tr>\n",
              "    <tr>\n",
              "      <th>793</th>\n",
              "      <td>A</td>\n",
              "      <td>0</td>\n",
              "      <td>50</td>\n",
              "      <td>0</td>\n",
              "      <td>COIL</td>\n",
              "      <td>1.001</td>\n",
              "      <td>50.0</td>\n",
              "      <td>0</td>\n",
              "      <td>0</td>\n",
              "      <td>3</td>\n",
              "    </tr>\n",
              "    <tr>\n",
              "      <th>794</th>\n",
              "      <td>?</td>\n",
              "      <td>0</td>\n",
              "      <td>0</td>\n",
              "      <td>0</td>\n",
              "      <td>SHEET</td>\n",
              "      <td>0.699</td>\n",
              "      <td>1300.0</td>\n",
              "      <td>4880</td>\n",
              "      <td>0</td>\n",
              "      <td>3</td>\n",
              "    </tr>\n",
              "    <tr>\n",
              "      <th>795</th>\n",
              "      <td>A</td>\n",
              "      <td>0</td>\n",
              "      <td>0</td>\n",
              "      <td>0</td>\n",
              "      <td>COIL</td>\n",
              "      <td>0.400</td>\n",
              "      <td>609.9</td>\n",
              "      <td>0</td>\n",
              "      <td>0</td>\n",
              "      <td>3</td>\n",
              "    </tr>\n",
              "    <tr>\n",
              "      <th>796</th>\n",
              "      <td>A</td>\n",
              "      <td>0</td>\n",
              "      <td>0</td>\n",
              "      <td>0</td>\n",
              "      <td>SHEET</td>\n",
              "      <td>3.200</td>\n",
              "      <td>610.0</td>\n",
              "      <td>4880</td>\n",
              "      <td>0</td>\n",
              "      <td>3</td>\n",
              "    </tr>\n",
              "    <tr>\n",
              "      <th>797</th>\n",
              "      <td>R</td>\n",
              "      <td>0</td>\n",
              "      <td>0</td>\n",
              "      <td>0</td>\n",
              "      <td>SHEET</td>\n",
              "      <td>1.599</td>\n",
              "      <td>1500.0</td>\n",
              "      <td>4170</td>\n",
              "      <td>0</td>\n",
              "      <td>2</td>\n",
              "    </tr>\n",
              "  </tbody>\n",
              "</table>\n",
              "<p>798 rows × 10 columns</p>\n",
              "</div>\n",
              "      <button class=\"colab-df-convert\" onclick=\"convertToInteractive('df-e49b988e-2cbb-40df-9977-3e39a8755bf9')\"\n",
              "              title=\"Convert this dataframe to an interactive table.\"\n",
              "              style=\"display:none;\">\n",
              "        \n",
              "  <svg xmlns=\"http://www.w3.org/2000/svg\" height=\"24px\"viewBox=\"0 0 24 24\"\n",
              "       width=\"24px\">\n",
              "    <path d=\"M0 0h24v24H0V0z\" fill=\"none\"/>\n",
              "    <path d=\"M18.56 5.44l.94 2.06.94-2.06 2.06-.94-2.06-.94-.94-2.06-.94 2.06-2.06.94zm-11 1L8.5 8.5l.94-2.06 2.06-.94-2.06-.94L8.5 2.5l-.94 2.06-2.06.94zm10 10l.94 2.06.94-2.06 2.06-.94-2.06-.94-.94-2.06-.94 2.06-2.06.94z\"/><path d=\"M17.41 7.96l-1.37-1.37c-.4-.4-.92-.59-1.43-.59-.52 0-1.04.2-1.43.59L10.3 9.45l-7.72 7.72c-.78.78-.78 2.05 0 2.83L4 21.41c.39.39.9.59 1.41.59.51 0 1.02-.2 1.41-.59l7.78-7.78 2.81-2.81c.8-.78.8-2.07 0-2.86zM5.41 20L4 18.59l7.72-7.72 1.47 1.35L5.41 20z\"/>\n",
              "  </svg>\n",
              "      </button>\n",
              "      \n",
              "  <style>\n",
              "    .colab-df-container {\n",
              "      display:flex;\n",
              "      flex-wrap:wrap;\n",
              "      gap: 12px;\n",
              "    }\n",
              "\n",
              "    .colab-df-convert {\n",
              "      background-color: #E8F0FE;\n",
              "      border: none;\n",
              "      border-radius: 50%;\n",
              "      cursor: pointer;\n",
              "      display: none;\n",
              "      fill: #1967D2;\n",
              "      height: 32px;\n",
              "      padding: 0 0 0 0;\n",
              "      width: 32px;\n",
              "    }\n",
              "\n",
              "    .colab-df-convert:hover {\n",
              "      background-color: #E2EBFA;\n",
              "      box-shadow: 0px 1px 2px rgba(60, 64, 67, 0.3), 0px 1px 3px 1px rgba(60, 64, 67, 0.15);\n",
              "      fill: #174EA6;\n",
              "    }\n",
              "\n",
              "    [theme=dark] .colab-df-convert {\n",
              "      background-color: #3B4455;\n",
              "      fill: #D2E3FC;\n",
              "    }\n",
              "\n",
              "    [theme=dark] .colab-df-convert:hover {\n",
              "      background-color: #434B5C;\n",
              "      box-shadow: 0px 1px 3px 1px rgba(0, 0, 0, 0.15);\n",
              "      filter: drop-shadow(0px 1px 2px rgba(0, 0, 0, 0.3));\n",
              "      fill: #FFFFFF;\n",
              "    }\n",
              "  </style>\n",
              "\n",
              "      <script>\n",
              "        const buttonEl =\n",
              "          document.querySelector('#df-e49b988e-2cbb-40df-9977-3e39a8755bf9 button.colab-df-convert');\n",
              "        buttonEl.style.display =\n",
              "          google.colab.kernel.accessAllowed ? 'block' : 'none';\n",
              "\n",
              "        async function convertToInteractive(key) {\n",
              "          const element = document.querySelector('#df-e49b988e-2cbb-40df-9977-3e39a8755bf9');\n",
              "          const dataTable =\n",
              "            await google.colab.kernel.invokeFunction('convertToInteractive',\n",
              "                                                     [key], {});\n",
              "          if (!dataTable) return;\n",
              "\n",
              "          const docLinkHtml = 'Like what you see? Visit the ' +\n",
              "            '<a target=\"_blank\" href=https://colab.research.google.com/notebooks/data_table.ipynb>data table notebook</a>'\n",
              "            + ' to learn more about interactive tables.';\n",
              "          element.innerHTML = '';\n",
              "          dataTable['output_type'] = 'display_data';\n",
              "          await google.colab.output.renderOutput(dataTable, element);\n",
              "          const docLink = document.createElement('div');\n",
              "          docLink.innerHTML = docLinkHtml;\n",
              "          element.appendChild(docLink);\n",
              "        }\n",
              "      </script>\n",
              "    </div>\n",
              "  </div>\n",
              "  "
            ]
          },
          "metadata": {},
          "execution_count": 5
        }
      ]
    },
    {
      "cell_type": "markdown",
      "source": [
        "#Part 2"
      ],
      "metadata": {
        "id": "7Yb2z--08DuM"
      }
    },
    {
      "cell_type": "code",
      "source": [
        "df['steel'].mode()"
      ],
      "metadata": {
        "id": "YYo2-Veg-ctp",
        "colab": {
          "base_uri": "https://localhost:8080/"
        },
        "outputId": "2d812b8c-4ffb-4e54-bc93-ee25c9f31990"
      },
      "execution_count": 6,
      "outputs": [
        {
          "output_type": "execute_result",
          "data": {
            "text/plain": [
              "0    A\n",
              "Name: steel, dtype: object"
            ]
          },
          "metadata": {},
          "execution_count": 6
        }
      ]
    },
    {
      "cell_type": "code",
      "source": [
        "df['steel'] = df['steel'].replace(to_replace=\"?\",value=\"A\")\n",
        "df"
      ],
      "metadata": {
        "id": "a4aMsxf28InV",
        "colab": {
          "base_uri": "https://localhost:8080/",
          "height": 423
        },
        "outputId": "48e067c8-7b86-4954-c794-e54c53b220f2"
      },
      "execution_count": 7,
      "outputs": [
        {
          "output_type": "execute_result",
          "data": {
            "text/plain": [
              "    steel  carbon  hardness  strength  shape  thick   width   len  bore  \\\n",
              "0       A       8         0         0   COIL  0.700   610.0     0     0   \n",
              "1       R       0         0         0   COIL  3.200   610.0     0     0   \n",
              "2       R       0         0         0  SHEET  0.700  1300.0   762     0   \n",
              "3       A       0        60         0   COIL  2.801   385.1     0     0   \n",
              "4       A       0        60         0  SHEET  0.801   255.0   269     0   \n",
              "..    ...     ...       ...       ...    ...    ...     ...   ...   ...   \n",
              "793     A       0        50         0   COIL  1.001    50.0     0     0   \n",
              "794     A       0         0         0  SHEET  0.699  1300.0  4880     0   \n",
              "795     A       0         0         0   COIL  0.400   609.9     0     0   \n",
              "796     A       0         0         0  SHEET  3.200   610.0  4880     0   \n",
              "797     R       0         0         0  SHEET  1.599  1500.0  4170     0   \n",
              "\n",
              "    classes  \n",
              "0         3  \n",
              "1         3  \n",
              "2         3  \n",
              "3         3  \n",
              "4         3  \n",
              "..      ...  \n",
              "793       3  \n",
              "794       3  \n",
              "795       3  \n",
              "796       3  \n",
              "797       2  \n",
              "\n",
              "[798 rows x 10 columns]"
            ],
            "text/html": [
              "\n",
              "  <div id=\"df-09405c51-4340-47e9-9f8c-f334ea131281\">\n",
              "    <div class=\"colab-df-container\">\n",
              "      <div>\n",
              "<style scoped>\n",
              "    .dataframe tbody tr th:only-of-type {\n",
              "        vertical-align: middle;\n",
              "    }\n",
              "\n",
              "    .dataframe tbody tr th {\n",
              "        vertical-align: top;\n",
              "    }\n",
              "\n",
              "    .dataframe thead th {\n",
              "        text-align: right;\n",
              "    }\n",
              "</style>\n",
              "<table border=\"1\" class=\"dataframe\">\n",
              "  <thead>\n",
              "    <tr style=\"text-align: right;\">\n",
              "      <th></th>\n",
              "      <th>steel</th>\n",
              "      <th>carbon</th>\n",
              "      <th>hardness</th>\n",
              "      <th>strength</th>\n",
              "      <th>shape</th>\n",
              "      <th>thick</th>\n",
              "      <th>width</th>\n",
              "      <th>len</th>\n",
              "      <th>bore</th>\n",
              "      <th>classes</th>\n",
              "    </tr>\n",
              "  </thead>\n",
              "  <tbody>\n",
              "    <tr>\n",
              "      <th>0</th>\n",
              "      <td>A</td>\n",
              "      <td>8</td>\n",
              "      <td>0</td>\n",
              "      <td>0</td>\n",
              "      <td>COIL</td>\n",
              "      <td>0.700</td>\n",
              "      <td>610.0</td>\n",
              "      <td>0</td>\n",
              "      <td>0</td>\n",
              "      <td>3</td>\n",
              "    </tr>\n",
              "    <tr>\n",
              "      <th>1</th>\n",
              "      <td>R</td>\n",
              "      <td>0</td>\n",
              "      <td>0</td>\n",
              "      <td>0</td>\n",
              "      <td>COIL</td>\n",
              "      <td>3.200</td>\n",
              "      <td>610.0</td>\n",
              "      <td>0</td>\n",
              "      <td>0</td>\n",
              "      <td>3</td>\n",
              "    </tr>\n",
              "    <tr>\n",
              "      <th>2</th>\n",
              "      <td>R</td>\n",
              "      <td>0</td>\n",
              "      <td>0</td>\n",
              "      <td>0</td>\n",
              "      <td>SHEET</td>\n",
              "      <td>0.700</td>\n",
              "      <td>1300.0</td>\n",
              "      <td>762</td>\n",
              "      <td>0</td>\n",
              "      <td>3</td>\n",
              "    </tr>\n",
              "    <tr>\n",
              "      <th>3</th>\n",
              "      <td>A</td>\n",
              "      <td>0</td>\n",
              "      <td>60</td>\n",
              "      <td>0</td>\n",
              "      <td>COIL</td>\n",
              "      <td>2.801</td>\n",
              "      <td>385.1</td>\n",
              "      <td>0</td>\n",
              "      <td>0</td>\n",
              "      <td>3</td>\n",
              "    </tr>\n",
              "    <tr>\n",
              "      <th>4</th>\n",
              "      <td>A</td>\n",
              "      <td>0</td>\n",
              "      <td>60</td>\n",
              "      <td>0</td>\n",
              "      <td>SHEET</td>\n",
              "      <td>0.801</td>\n",
              "      <td>255.0</td>\n",
              "      <td>269</td>\n",
              "      <td>0</td>\n",
              "      <td>3</td>\n",
              "    </tr>\n",
              "    <tr>\n",
              "      <th>...</th>\n",
              "      <td>...</td>\n",
              "      <td>...</td>\n",
              "      <td>...</td>\n",
              "      <td>...</td>\n",
              "      <td>...</td>\n",
              "      <td>...</td>\n",
              "      <td>...</td>\n",
              "      <td>...</td>\n",
              "      <td>...</td>\n",
              "      <td>...</td>\n",
              "    </tr>\n",
              "    <tr>\n",
              "      <th>793</th>\n",
              "      <td>A</td>\n",
              "      <td>0</td>\n",
              "      <td>50</td>\n",
              "      <td>0</td>\n",
              "      <td>COIL</td>\n",
              "      <td>1.001</td>\n",
              "      <td>50.0</td>\n",
              "      <td>0</td>\n",
              "      <td>0</td>\n",
              "      <td>3</td>\n",
              "    </tr>\n",
              "    <tr>\n",
              "      <th>794</th>\n",
              "      <td>A</td>\n",
              "      <td>0</td>\n",
              "      <td>0</td>\n",
              "      <td>0</td>\n",
              "      <td>SHEET</td>\n",
              "      <td>0.699</td>\n",
              "      <td>1300.0</td>\n",
              "      <td>4880</td>\n",
              "      <td>0</td>\n",
              "      <td>3</td>\n",
              "    </tr>\n",
              "    <tr>\n",
              "      <th>795</th>\n",
              "      <td>A</td>\n",
              "      <td>0</td>\n",
              "      <td>0</td>\n",
              "      <td>0</td>\n",
              "      <td>COIL</td>\n",
              "      <td>0.400</td>\n",
              "      <td>609.9</td>\n",
              "      <td>0</td>\n",
              "      <td>0</td>\n",
              "      <td>3</td>\n",
              "    </tr>\n",
              "    <tr>\n",
              "      <th>796</th>\n",
              "      <td>A</td>\n",
              "      <td>0</td>\n",
              "      <td>0</td>\n",
              "      <td>0</td>\n",
              "      <td>SHEET</td>\n",
              "      <td>3.200</td>\n",
              "      <td>610.0</td>\n",
              "      <td>4880</td>\n",
              "      <td>0</td>\n",
              "      <td>3</td>\n",
              "    </tr>\n",
              "    <tr>\n",
              "      <th>797</th>\n",
              "      <td>R</td>\n",
              "      <td>0</td>\n",
              "      <td>0</td>\n",
              "      <td>0</td>\n",
              "      <td>SHEET</td>\n",
              "      <td>1.599</td>\n",
              "      <td>1500.0</td>\n",
              "      <td>4170</td>\n",
              "      <td>0</td>\n",
              "      <td>2</td>\n",
              "    </tr>\n",
              "  </tbody>\n",
              "</table>\n",
              "<p>798 rows × 10 columns</p>\n",
              "</div>\n",
              "      <button class=\"colab-df-convert\" onclick=\"convertToInteractive('df-09405c51-4340-47e9-9f8c-f334ea131281')\"\n",
              "              title=\"Convert this dataframe to an interactive table.\"\n",
              "              style=\"display:none;\">\n",
              "        \n",
              "  <svg xmlns=\"http://www.w3.org/2000/svg\" height=\"24px\"viewBox=\"0 0 24 24\"\n",
              "       width=\"24px\">\n",
              "    <path d=\"M0 0h24v24H0V0z\" fill=\"none\"/>\n",
              "    <path d=\"M18.56 5.44l.94 2.06.94-2.06 2.06-.94-2.06-.94-.94-2.06-.94 2.06-2.06.94zm-11 1L8.5 8.5l.94-2.06 2.06-.94-2.06-.94L8.5 2.5l-.94 2.06-2.06.94zm10 10l.94 2.06.94-2.06 2.06-.94-2.06-.94-.94-2.06-.94 2.06-2.06.94z\"/><path d=\"M17.41 7.96l-1.37-1.37c-.4-.4-.92-.59-1.43-.59-.52 0-1.04.2-1.43.59L10.3 9.45l-7.72 7.72c-.78.78-.78 2.05 0 2.83L4 21.41c.39.39.9.59 1.41.59.51 0 1.02-.2 1.41-.59l7.78-7.78 2.81-2.81c.8-.78.8-2.07 0-2.86zM5.41 20L4 18.59l7.72-7.72 1.47 1.35L5.41 20z\"/>\n",
              "  </svg>\n",
              "      </button>\n",
              "      \n",
              "  <style>\n",
              "    .colab-df-container {\n",
              "      display:flex;\n",
              "      flex-wrap:wrap;\n",
              "      gap: 12px;\n",
              "    }\n",
              "\n",
              "    .colab-df-convert {\n",
              "      background-color: #E8F0FE;\n",
              "      border: none;\n",
              "      border-radius: 50%;\n",
              "      cursor: pointer;\n",
              "      display: none;\n",
              "      fill: #1967D2;\n",
              "      height: 32px;\n",
              "      padding: 0 0 0 0;\n",
              "      width: 32px;\n",
              "    }\n",
              "\n",
              "    .colab-df-convert:hover {\n",
              "      background-color: #E2EBFA;\n",
              "      box-shadow: 0px 1px 2px rgba(60, 64, 67, 0.3), 0px 1px 3px 1px rgba(60, 64, 67, 0.15);\n",
              "      fill: #174EA6;\n",
              "    }\n",
              "\n",
              "    [theme=dark] .colab-df-convert {\n",
              "      background-color: #3B4455;\n",
              "      fill: #D2E3FC;\n",
              "    }\n",
              "\n",
              "    [theme=dark] .colab-df-convert:hover {\n",
              "      background-color: #434B5C;\n",
              "      box-shadow: 0px 1px 3px 1px rgba(0, 0, 0, 0.15);\n",
              "      filter: drop-shadow(0px 1px 2px rgba(0, 0, 0, 0.3));\n",
              "      fill: #FFFFFF;\n",
              "    }\n",
              "  </style>\n",
              "\n",
              "      <script>\n",
              "        const buttonEl =\n",
              "          document.querySelector('#df-09405c51-4340-47e9-9f8c-f334ea131281 button.colab-df-convert');\n",
              "        buttonEl.style.display =\n",
              "          google.colab.kernel.accessAllowed ? 'block' : 'none';\n",
              "\n",
              "        async function convertToInteractive(key) {\n",
              "          const element = document.querySelector('#df-09405c51-4340-47e9-9f8c-f334ea131281');\n",
              "          const dataTable =\n",
              "            await google.colab.kernel.invokeFunction('convertToInteractive',\n",
              "                                                     [key], {});\n",
              "          if (!dataTable) return;\n",
              "\n",
              "          const docLinkHtml = 'Like what you see? Visit the ' +\n",
              "            '<a target=\"_blank\" href=https://colab.research.google.com/notebooks/data_table.ipynb>data table notebook</a>'\n",
              "            + ' to learn more about interactive tables.';\n",
              "          element.innerHTML = '';\n",
              "          dataTable['output_type'] = 'display_data';\n",
              "          await google.colab.output.renderOutput(dataTable, element);\n",
              "          const docLink = document.createElement('div');\n",
              "          docLink.innerHTML = docLinkHtml;\n",
              "          element.appendChild(docLink);\n",
              "        }\n",
              "      </script>\n",
              "    </div>\n",
              "  </div>\n",
              "  "
            ]
          },
          "metadata": {},
          "execution_count": 7
        }
      ]
    },
    {
      "cell_type": "code",
      "source": [
        "X = df.drop('classes',axis=1)\n",
        "y = df['classes']"
      ],
      "metadata": {
        "id": "8Fq-VYyF_kg6"
      },
      "execution_count": 8,
      "outputs": []
    },
    {
      "cell_type": "code",
      "source": [
        "def normalize(df):\n",
        "  #using The min-max feature scaling for normalizating columns individuallly whose data type is integer\n",
        "  df2 = df.copy()\n",
        "  for column in df2.columns:\n",
        "    if df2[column].dtype != object and column != 'bore':\n",
        "      df2[column] = (df2[column] - df2[column].mean())/(df2[column].std())\n",
        "  return df2\n",
        "\n",
        "X_std = normalize(X)\n",
        "X_std"
      ],
      "metadata": {
        "id": "A8825oByA_p2",
        "colab": {
          "base_uri": "https://localhost:8080/",
          "height": 423
        },
        "outputId": "ed074605-246f-40e3-a7bf-19f702f9740a"
      },
      "execution_count": 9,
      "outputs": [
        {
          "output_type": "execute_result",
          "data": {
            "text/plain": [
              "    steel    carbon  hardness  strength  shape     thick     width       len  \\\n",
              "0       A  0.327558 -0.477159 -0.266999   COIL -0.559242 -0.424351 -0.674719   \n",
              "1       R -0.260996 -0.477159 -0.266999   COIL  2.342311 -0.424351 -0.674719   \n",
              "2       R -0.260996 -0.477159 -0.266999  SHEET -0.559242  1.280521 -0.270853   \n",
              "3       A -0.260996  1.959785 -0.266999   COIL  1.879223 -0.980041 -0.674719   \n",
              "4       A -0.260996  1.959785 -0.266999  SHEET -0.442019 -1.301496 -0.532147   \n",
              "..    ...       ...       ...       ...    ...       ...       ...       ...   \n",
              "793     A -0.260996  1.553628 -0.266999   COIL -0.209895 -1.808016 -0.674719   \n",
              "794     A -0.260996 -0.477159 -0.266999  SHEET -0.560403  1.280521  1.911715   \n",
              "795     A -0.260996 -0.477159 -0.266999   COIL -0.907428 -0.424598 -0.674719   \n",
              "796     A -0.260996 -0.477159 -0.266999  SHEET  2.342311 -0.424351  1.911715   \n",
              "797     R -0.260996 -0.477159 -0.266999  SHEET  0.484156  1.774687  1.535410   \n",
              "\n",
              "     bore  \n",
              "0       0  \n",
              "1       0  \n",
              "2       0  \n",
              "3       0  \n",
              "4       0  \n",
              "..    ...  \n",
              "793     0  \n",
              "794     0  \n",
              "795     0  \n",
              "796     0  \n",
              "797     0  \n",
              "\n",
              "[798 rows x 9 columns]"
            ],
            "text/html": [
              "\n",
              "  <div id=\"df-0f09c775-8747-4caf-b4db-41e63046c257\">\n",
              "    <div class=\"colab-df-container\">\n",
              "      <div>\n",
              "<style scoped>\n",
              "    .dataframe tbody tr th:only-of-type {\n",
              "        vertical-align: middle;\n",
              "    }\n",
              "\n",
              "    .dataframe tbody tr th {\n",
              "        vertical-align: top;\n",
              "    }\n",
              "\n",
              "    .dataframe thead th {\n",
              "        text-align: right;\n",
              "    }\n",
              "</style>\n",
              "<table border=\"1\" class=\"dataframe\">\n",
              "  <thead>\n",
              "    <tr style=\"text-align: right;\">\n",
              "      <th></th>\n",
              "      <th>steel</th>\n",
              "      <th>carbon</th>\n",
              "      <th>hardness</th>\n",
              "      <th>strength</th>\n",
              "      <th>shape</th>\n",
              "      <th>thick</th>\n",
              "      <th>width</th>\n",
              "      <th>len</th>\n",
              "      <th>bore</th>\n",
              "    </tr>\n",
              "  </thead>\n",
              "  <tbody>\n",
              "    <tr>\n",
              "      <th>0</th>\n",
              "      <td>A</td>\n",
              "      <td>0.327558</td>\n",
              "      <td>-0.477159</td>\n",
              "      <td>-0.266999</td>\n",
              "      <td>COIL</td>\n",
              "      <td>-0.559242</td>\n",
              "      <td>-0.424351</td>\n",
              "      <td>-0.674719</td>\n",
              "      <td>0</td>\n",
              "    </tr>\n",
              "    <tr>\n",
              "      <th>1</th>\n",
              "      <td>R</td>\n",
              "      <td>-0.260996</td>\n",
              "      <td>-0.477159</td>\n",
              "      <td>-0.266999</td>\n",
              "      <td>COIL</td>\n",
              "      <td>2.342311</td>\n",
              "      <td>-0.424351</td>\n",
              "      <td>-0.674719</td>\n",
              "      <td>0</td>\n",
              "    </tr>\n",
              "    <tr>\n",
              "      <th>2</th>\n",
              "      <td>R</td>\n",
              "      <td>-0.260996</td>\n",
              "      <td>-0.477159</td>\n",
              "      <td>-0.266999</td>\n",
              "      <td>SHEET</td>\n",
              "      <td>-0.559242</td>\n",
              "      <td>1.280521</td>\n",
              "      <td>-0.270853</td>\n",
              "      <td>0</td>\n",
              "    </tr>\n",
              "    <tr>\n",
              "      <th>3</th>\n",
              "      <td>A</td>\n",
              "      <td>-0.260996</td>\n",
              "      <td>1.959785</td>\n",
              "      <td>-0.266999</td>\n",
              "      <td>COIL</td>\n",
              "      <td>1.879223</td>\n",
              "      <td>-0.980041</td>\n",
              "      <td>-0.674719</td>\n",
              "      <td>0</td>\n",
              "    </tr>\n",
              "    <tr>\n",
              "      <th>4</th>\n",
              "      <td>A</td>\n",
              "      <td>-0.260996</td>\n",
              "      <td>1.959785</td>\n",
              "      <td>-0.266999</td>\n",
              "      <td>SHEET</td>\n",
              "      <td>-0.442019</td>\n",
              "      <td>-1.301496</td>\n",
              "      <td>-0.532147</td>\n",
              "      <td>0</td>\n",
              "    </tr>\n",
              "    <tr>\n",
              "      <th>...</th>\n",
              "      <td>...</td>\n",
              "      <td>...</td>\n",
              "      <td>...</td>\n",
              "      <td>...</td>\n",
              "      <td>...</td>\n",
              "      <td>...</td>\n",
              "      <td>...</td>\n",
              "      <td>...</td>\n",
              "      <td>...</td>\n",
              "    </tr>\n",
              "    <tr>\n",
              "      <th>793</th>\n",
              "      <td>A</td>\n",
              "      <td>-0.260996</td>\n",
              "      <td>1.553628</td>\n",
              "      <td>-0.266999</td>\n",
              "      <td>COIL</td>\n",
              "      <td>-0.209895</td>\n",
              "      <td>-1.808016</td>\n",
              "      <td>-0.674719</td>\n",
              "      <td>0</td>\n",
              "    </tr>\n",
              "    <tr>\n",
              "      <th>794</th>\n",
              "      <td>A</td>\n",
              "      <td>-0.260996</td>\n",
              "      <td>-0.477159</td>\n",
              "      <td>-0.266999</td>\n",
              "      <td>SHEET</td>\n",
              "      <td>-0.560403</td>\n",
              "      <td>1.280521</td>\n",
              "      <td>1.911715</td>\n",
              "      <td>0</td>\n",
              "    </tr>\n",
              "    <tr>\n",
              "      <th>795</th>\n",
              "      <td>A</td>\n",
              "      <td>-0.260996</td>\n",
              "      <td>-0.477159</td>\n",
              "      <td>-0.266999</td>\n",
              "      <td>COIL</td>\n",
              "      <td>-0.907428</td>\n",
              "      <td>-0.424598</td>\n",
              "      <td>-0.674719</td>\n",
              "      <td>0</td>\n",
              "    </tr>\n",
              "    <tr>\n",
              "      <th>796</th>\n",
              "      <td>A</td>\n",
              "      <td>-0.260996</td>\n",
              "      <td>-0.477159</td>\n",
              "      <td>-0.266999</td>\n",
              "      <td>SHEET</td>\n",
              "      <td>2.342311</td>\n",
              "      <td>-0.424351</td>\n",
              "      <td>1.911715</td>\n",
              "      <td>0</td>\n",
              "    </tr>\n",
              "    <tr>\n",
              "      <th>797</th>\n",
              "      <td>R</td>\n",
              "      <td>-0.260996</td>\n",
              "      <td>-0.477159</td>\n",
              "      <td>-0.266999</td>\n",
              "      <td>SHEET</td>\n",
              "      <td>0.484156</td>\n",
              "      <td>1.774687</td>\n",
              "      <td>1.535410</td>\n",
              "      <td>0</td>\n",
              "    </tr>\n",
              "  </tbody>\n",
              "</table>\n",
              "<p>798 rows × 9 columns</p>\n",
              "</div>\n",
              "      <button class=\"colab-df-convert\" onclick=\"convertToInteractive('df-0f09c775-8747-4caf-b4db-41e63046c257')\"\n",
              "              title=\"Convert this dataframe to an interactive table.\"\n",
              "              style=\"display:none;\">\n",
              "        \n",
              "  <svg xmlns=\"http://www.w3.org/2000/svg\" height=\"24px\"viewBox=\"0 0 24 24\"\n",
              "       width=\"24px\">\n",
              "    <path d=\"M0 0h24v24H0V0z\" fill=\"none\"/>\n",
              "    <path d=\"M18.56 5.44l.94 2.06.94-2.06 2.06-.94-2.06-.94-.94-2.06-.94 2.06-2.06.94zm-11 1L8.5 8.5l.94-2.06 2.06-.94-2.06-.94L8.5 2.5l-.94 2.06-2.06.94zm10 10l.94 2.06.94-2.06 2.06-.94-2.06-.94-.94-2.06-.94 2.06-2.06.94z\"/><path d=\"M17.41 7.96l-1.37-1.37c-.4-.4-.92-.59-1.43-.59-.52 0-1.04.2-1.43.59L10.3 9.45l-7.72 7.72c-.78.78-.78 2.05 0 2.83L4 21.41c.39.39.9.59 1.41.59.51 0 1.02-.2 1.41-.59l7.78-7.78 2.81-2.81c.8-.78.8-2.07 0-2.86zM5.41 20L4 18.59l7.72-7.72 1.47 1.35L5.41 20z\"/>\n",
              "  </svg>\n",
              "      </button>\n",
              "      \n",
              "  <style>\n",
              "    .colab-df-container {\n",
              "      display:flex;\n",
              "      flex-wrap:wrap;\n",
              "      gap: 12px;\n",
              "    }\n",
              "\n",
              "    .colab-df-convert {\n",
              "      background-color: #E8F0FE;\n",
              "      border: none;\n",
              "      border-radius: 50%;\n",
              "      cursor: pointer;\n",
              "      display: none;\n",
              "      fill: #1967D2;\n",
              "      height: 32px;\n",
              "      padding: 0 0 0 0;\n",
              "      width: 32px;\n",
              "    }\n",
              "\n",
              "    .colab-df-convert:hover {\n",
              "      background-color: #E2EBFA;\n",
              "      box-shadow: 0px 1px 2px rgba(60, 64, 67, 0.3), 0px 1px 3px 1px rgba(60, 64, 67, 0.15);\n",
              "      fill: #174EA6;\n",
              "    }\n",
              "\n",
              "    [theme=dark] .colab-df-convert {\n",
              "      background-color: #3B4455;\n",
              "      fill: #D2E3FC;\n",
              "    }\n",
              "\n",
              "    [theme=dark] .colab-df-convert:hover {\n",
              "      background-color: #434B5C;\n",
              "      box-shadow: 0px 1px 3px 1px rgba(0, 0, 0, 0.15);\n",
              "      filter: drop-shadow(0px 1px 2px rgba(0, 0, 0, 0.3));\n",
              "      fill: #FFFFFF;\n",
              "    }\n",
              "  </style>\n",
              "\n",
              "      <script>\n",
              "        const buttonEl =\n",
              "          document.querySelector('#df-0f09c775-8747-4caf-b4db-41e63046c257 button.colab-df-convert');\n",
              "        buttonEl.style.display =\n",
              "          google.colab.kernel.accessAllowed ? 'block' : 'none';\n",
              "\n",
              "        async function convertToInteractive(key) {\n",
              "          const element = document.querySelector('#df-0f09c775-8747-4caf-b4db-41e63046c257');\n",
              "          const dataTable =\n",
              "            await google.colab.kernel.invokeFunction('convertToInteractive',\n",
              "                                                     [key], {});\n",
              "          if (!dataTable) return;\n",
              "\n",
              "          const docLinkHtml = 'Like what you see? Visit the ' +\n",
              "            '<a target=\"_blank\" href=https://colab.research.google.com/notebooks/data_table.ipynb>data table notebook</a>'\n",
              "            + ' to learn more about interactive tables.';\n",
              "          element.innerHTML = '';\n",
              "          dataTable['output_type'] = 'display_data';\n",
              "          await google.colab.output.renderOutput(dataTable, element);\n",
              "          const docLink = document.createElement('div');\n",
              "          docLink.innerHTML = docLinkHtml;\n",
              "          element.appendChild(docLink);\n",
              "        }\n",
              "      </script>\n",
              "    </div>\n",
              "  </div>\n",
              "  "
            ]
          },
          "metadata": {},
          "execution_count": 9
        }
      ]
    },
    {
      "cell_type": "code",
      "source": [
        "X"
      ],
      "metadata": {
        "id": "o7ofxjaxgmQD",
        "colab": {
          "base_uri": "https://localhost:8080/",
          "height": 423
        },
        "outputId": "a1fa0d98-dcee-4675-a481-cc926b209549"
      },
      "execution_count": 10,
      "outputs": [
        {
          "output_type": "execute_result",
          "data": {
            "text/plain": [
              "    steel  carbon  hardness  strength  shape  thick   width   len  bore\n",
              "0       A       8         0         0   COIL  0.700   610.0     0     0\n",
              "1       R       0         0         0   COIL  3.200   610.0     0     0\n",
              "2       R       0         0         0  SHEET  0.700  1300.0   762     0\n",
              "3       A       0        60         0   COIL  2.801   385.1     0     0\n",
              "4       A       0        60         0  SHEET  0.801   255.0   269     0\n",
              "..    ...     ...       ...       ...    ...    ...     ...   ...   ...\n",
              "793     A       0        50         0   COIL  1.001    50.0     0     0\n",
              "794     A       0         0         0  SHEET  0.699  1300.0  4880     0\n",
              "795     A       0         0         0   COIL  0.400   609.9     0     0\n",
              "796     A       0         0         0  SHEET  3.200   610.0  4880     0\n",
              "797     R       0         0         0  SHEET  1.599  1500.0  4170     0\n",
              "\n",
              "[798 rows x 9 columns]"
            ],
            "text/html": [
              "\n",
              "  <div id=\"df-8976f44c-4658-47e1-853b-4282710c69af\">\n",
              "    <div class=\"colab-df-container\">\n",
              "      <div>\n",
              "<style scoped>\n",
              "    .dataframe tbody tr th:only-of-type {\n",
              "        vertical-align: middle;\n",
              "    }\n",
              "\n",
              "    .dataframe tbody tr th {\n",
              "        vertical-align: top;\n",
              "    }\n",
              "\n",
              "    .dataframe thead th {\n",
              "        text-align: right;\n",
              "    }\n",
              "</style>\n",
              "<table border=\"1\" class=\"dataframe\">\n",
              "  <thead>\n",
              "    <tr style=\"text-align: right;\">\n",
              "      <th></th>\n",
              "      <th>steel</th>\n",
              "      <th>carbon</th>\n",
              "      <th>hardness</th>\n",
              "      <th>strength</th>\n",
              "      <th>shape</th>\n",
              "      <th>thick</th>\n",
              "      <th>width</th>\n",
              "      <th>len</th>\n",
              "      <th>bore</th>\n",
              "    </tr>\n",
              "  </thead>\n",
              "  <tbody>\n",
              "    <tr>\n",
              "      <th>0</th>\n",
              "      <td>A</td>\n",
              "      <td>8</td>\n",
              "      <td>0</td>\n",
              "      <td>0</td>\n",
              "      <td>COIL</td>\n",
              "      <td>0.700</td>\n",
              "      <td>610.0</td>\n",
              "      <td>0</td>\n",
              "      <td>0</td>\n",
              "    </tr>\n",
              "    <tr>\n",
              "      <th>1</th>\n",
              "      <td>R</td>\n",
              "      <td>0</td>\n",
              "      <td>0</td>\n",
              "      <td>0</td>\n",
              "      <td>COIL</td>\n",
              "      <td>3.200</td>\n",
              "      <td>610.0</td>\n",
              "      <td>0</td>\n",
              "      <td>0</td>\n",
              "    </tr>\n",
              "    <tr>\n",
              "      <th>2</th>\n",
              "      <td>R</td>\n",
              "      <td>0</td>\n",
              "      <td>0</td>\n",
              "      <td>0</td>\n",
              "      <td>SHEET</td>\n",
              "      <td>0.700</td>\n",
              "      <td>1300.0</td>\n",
              "      <td>762</td>\n",
              "      <td>0</td>\n",
              "    </tr>\n",
              "    <tr>\n",
              "      <th>3</th>\n",
              "      <td>A</td>\n",
              "      <td>0</td>\n",
              "      <td>60</td>\n",
              "      <td>0</td>\n",
              "      <td>COIL</td>\n",
              "      <td>2.801</td>\n",
              "      <td>385.1</td>\n",
              "      <td>0</td>\n",
              "      <td>0</td>\n",
              "    </tr>\n",
              "    <tr>\n",
              "      <th>4</th>\n",
              "      <td>A</td>\n",
              "      <td>0</td>\n",
              "      <td>60</td>\n",
              "      <td>0</td>\n",
              "      <td>SHEET</td>\n",
              "      <td>0.801</td>\n",
              "      <td>255.0</td>\n",
              "      <td>269</td>\n",
              "      <td>0</td>\n",
              "    </tr>\n",
              "    <tr>\n",
              "      <th>...</th>\n",
              "      <td>...</td>\n",
              "      <td>...</td>\n",
              "      <td>...</td>\n",
              "      <td>...</td>\n",
              "      <td>...</td>\n",
              "      <td>...</td>\n",
              "      <td>...</td>\n",
              "      <td>...</td>\n",
              "      <td>...</td>\n",
              "    </tr>\n",
              "    <tr>\n",
              "      <th>793</th>\n",
              "      <td>A</td>\n",
              "      <td>0</td>\n",
              "      <td>50</td>\n",
              "      <td>0</td>\n",
              "      <td>COIL</td>\n",
              "      <td>1.001</td>\n",
              "      <td>50.0</td>\n",
              "      <td>0</td>\n",
              "      <td>0</td>\n",
              "    </tr>\n",
              "    <tr>\n",
              "      <th>794</th>\n",
              "      <td>A</td>\n",
              "      <td>0</td>\n",
              "      <td>0</td>\n",
              "      <td>0</td>\n",
              "      <td>SHEET</td>\n",
              "      <td>0.699</td>\n",
              "      <td>1300.0</td>\n",
              "      <td>4880</td>\n",
              "      <td>0</td>\n",
              "    </tr>\n",
              "    <tr>\n",
              "      <th>795</th>\n",
              "      <td>A</td>\n",
              "      <td>0</td>\n",
              "      <td>0</td>\n",
              "      <td>0</td>\n",
              "      <td>COIL</td>\n",
              "      <td>0.400</td>\n",
              "      <td>609.9</td>\n",
              "      <td>0</td>\n",
              "      <td>0</td>\n",
              "    </tr>\n",
              "    <tr>\n",
              "      <th>796</th>\n",
              "      <td>A</td>\n",
              "      <td>0</td>\n",
              "      <td>0</td>\n",
              "      <td>0</td>\n",
              "      <td>SHEET</td>\n",
              "      <td>3.200</td>\n",
              "      <td>610.0</td>\n",
              "      <td>4880</td>\n",
              "      <td>0</td>\n",
              "    </tr>\n",
              "    <tr>\n",
              "      <th>797</th>\n",
              "      <td>R</td>\n",
              "      <td>0</td>\n",
              "      <td>0</td>\n",
              "      <td>0</td>\n",
              "      <td>SHEET</td>\n",
              "      <td>1.599</td>\n",
              "      <td>1500.0</td>\n",
              "      <td>4170</td>\n",
              "      <td>0</td>\n",
              "    </tr>\n",
              "  </tbody>\n",
              "</table>\n",
              "<p>798 rows × 9 columns</p>\n",
              "</div>\n",
              "      <button class=\"colab-df-convert\" onclick=\"convertToInteractive('df-8976f44c-4658-47e1-853b-4282710c69af')\"\n",
              "              title=\"Convert this dataframe to an interactive table.\"\n",
              "              style=\"display:none;\">\n",
              "        \n",
              "  <svg xmlns=\"http://www.w3.org/2000/svg\" height=\"24px\"viewBox=\"0 0 24 24\"\n",
              "       width=\"24px\">\n",
              "    <path d=\"M0 0h24v24H0V0z\" fill=\"none\"/>\n",
              "    <path d=\"M18.56 5.44l.94 2.06.94-2.06 2.06-.94-2.06-.94-.94-2.06-.94 2.06-2.06.94zm-11 1L8.5 8.5l.94-2.06 2.06-.94-2.06-.94L8.5 2.5l-.94 2.06-2.06.94zm10 10l.94 2.06.94-2.06 2.06-.94-2.06-.94-.94-2.06-.94 2.06-2.06.94z\"/><path d=\"M17.41 7.96l-1.37-1.37c-.4-.4-.92-.59-1.43-.59-.52 0-1.04.2-1.43.59L10.3 9.45l-7.72 7.72c-.78.78-.78 2.05 0 2.83L4 21.41c.39.39.9.59 1.41.59.51 0 1.02-.2 1.41-.59l7.78-7.78 2.81-2.81c.8-.78.8-2.07 0-2.86zM5.41 20L4 18.59l7.72-7.72 1.47 1.35L5.41 20z\"/>\n",
              "  </svg>\n",
              "      </button>\n",
              "      \n",
              "  <style>\n",
              "    .colab-df-container {\n",
              "      display:flex;\n",
              "      flex-wrap:wrap;\n",
              "      gap: 12px;\n",
              "    }\n",
              "\n",
              "    .colab-df-convert {\n",
              "      background-color: #E8F0FE;\n",
              "      border: none;\n",
              "      border-radius: 50%;\n",
              "      cursor: pointer;\n",
              "      display: none;\n",
              "      fill: #1967D2;\n",
              "      height: 32px;\n",
              "      padding: 0 0 0 0;\n",
              "      width: 32px;\n",
              "    }\n",
              "\n",
              "    .colab-df-convert:hover {\n",
              "      background-color: #E2EBFA;\n",
              "      box-shadow: 0px 1px 2px rgba(60, 64, 67, 0.3), 0px 1px 3px 1px rgba(60, 64, 67, 0.15);\n",
              "      fill: #174EA6;\n",
              "    }\n",
              "\n",
              "    [theme=dark] .colab-df-convert {\n",
              "      background-color: #3B4455;\n",
              "      fill: #D2E3FC;\n",
              "    }\n",
              "\n",
              "    [theme=dark] .colab-df-convert:hover {\n",
              "      background-color: #434B5C;\n",
              "      box-shadow: 0px 1px 3px 1px rgba(0, 0, 0, 0.15);\n",
              "      filter: drop-shadow(0px 1px 2px rgba(0, 0, 0, 0.3));\n",
              "      fill: #FFFFFF;\n",
              "    }\n",
              "  </style>\n",
              "\n",
              "      <script>\n",
              "        const buttonEl =\n",
              "          document.querySelector('#df-8976f44c-4658-47e1-853b-4282710c69af button.colab-df-convert');\n",
              "        buttonEl.style.display =\n",
              "          google.colab.kernel.accessAllowed ? 'block' : 'none';\n",
              "\n",
              "        async function convertToInteractive(key) {\n",
              "          const element = document.querySelector('#df-8976f44c-4658-47e1-853b-4282710c69af');\n",
              "          const dataTable =\n",
              "            await google.colab.kernel.invokeFunction('convertToInteractive',\n",
              "                                                     [key], {});\n",
              "          if (!dataTable) return;\n",
              "\n",
              "          const docLinkHtml = 'Like what you see? Visit the ' +\n",
              "            '<a target=\"_blank\" href=https://colab.research.google.com/notebooks/data_table.ipynb>data table notebook</a>'\n",
              "            + ' to learn more about interactive tables.';\n",
              "          element.innerHTML = '';\n",
              "          dataTable['output_type'] = 'display_data';\n",
              "          await google.colab.output.renderOutput(dataTable, element);\n",
              "          const docLink = document.createElement('div');\n",
              "          docLink.innerHTML = docLinkHtml;\n",
              "          element.appendChild(docLink);\n",
              "        }\n",
              "      </script>\n",
              "    </div>\n",
              "  </div>\n",
              "  "
            ]
          },
          "metadata": {},
          "execution_count": 10
        }
      ]
    },
    {
      "cell_type": "code",
      "source": [
        "def encode_categorical(df):\n",
        "  df2 = df.copy()\n",
        "  for column in df2.columns:\n",
        "    if df2[column].dtype == object:\n",
        "      dic = {}\n",
        "      cnt = 0\n",
        "      for i in range(len(df2[column])):\n",
        "        if df2[column][i] not in dic:\n",
        "          dic[df2[column][i]] = cnt\n",
        "          cnt+=1\n",
        "\n",
        "      df2[column] = df2[column].replace(dic)\n",
        "\n",
        "  return df2\n",
        "\n",
        "X_std = encode_categorical(X_std)\n",
        "X_std\n",
        "X = encode_categorical(X)"
      ],
      "metadata": {
        "id": "YCcovD_lBgSC"
      },
      "execution_count": 11,
      "outputs": []
    },
    {
      "cell_type": "code",
      "source": [
        "X = X.astype(float)"
      ],
      "metadata": {
        "id": "2h-VyunKIxE-"
      },
      "execution_count": 12,
      "outputs": []
    },
    {
      "cell_type": "code",
      "source": [
        "X_std"
      ],
      "metadata": {
        "colab": {
          "base_uri": "https://localhost:8080/",
          "height": 423
        },
        "id": "mX4jOWaDUq0s",
        "outputId": "b6486f3f-a62f-41fe-8699-3e432342a749"
      },
      "execution_count": 13,
      "outputs": [
        {
          "output_type": "execute_result",
          "data": {
            "text/plain": [
              "     steel    carbon  hardness  strength  shape     thick     width       len  \\\n",
              "0        0  0.327558 -0.477159 -0.266999      0 -0.559242 -0.424351 -0.674719   \n",
              "1        1 -0.260996 -0.477159 -0.266999      0  2.342311 -0.424351 -0.674719   \n",
              "2        1 -0.260996 -0.477159 -0.266999      1 -0.559242  1.280521 -0.270853   \n",
              "3        0 -0.260996  1.959785 -0.266999      0  1.879223 -0.980041 -0.674719   \n",
              "4        0 -0.260996  1.959785 -0.266999      1 -0.442019 -1.301496 -0.532147   \n",
              "..     ...       ...       ...       ...    ...       ...       ...       ...   \n",
              "793      0 -0.260996  1.553628 -0.266999      0 -0.209895 -1.808016 -0.674719   \n",
              "794      0 -0.260996 -0.477159 -0.266999      1 -0.560403  1.280521  1.911715   \n",
              "795      0 -0.260996 -0.477159 -0.266999      0 -0.907428 -0.424598 -0.674719   \n",
              "796      0 -0.260996 -0.477159 -0.266999      1  2.342311 -0.424351  1.911715   \n",
              "797      1 -0.260996 -0.477159 -0.266999      1  0.484156  1.774687  1.535410   \n",
              "\n",
              "     bore  \n",
              "0       0  \n",
              "1       0  \n",
              "2       0  \n",
              "3       0  \n",
              "4       0  \n",
              "..    ...  \n",
              "793     0  \n",
              "794     0  \n",
              "795     0  \n",
              "796     0  \n",
              "797     0  \n",
              "\n",
              "[798 rows x 9 columns]"
            ],
            "text/html": [
              "\n",
              "  <div id=\"df-681ccf8c-04a9-4df3-a648-49067552688f\">\n",
              "    <div class=\"colab-df-container\">\n",
              "      <div>\n",
              "<style scoped>\n",
              "    .dataframe tbody tr th:only-of-type {\n",
              "        vertical-align: middle;\n",
              "    }\n",
              "\n",
              "    .dataframe tbody tr th {\n",
              "        vertical-align: top;\n",
              "    }\n",
              "\n",
              "    .dataframe thead th {\n",
              "        text-align: right;\n",
              "    }\n",
              "</style>\n",
              "<table border=\"1\" class=\"dataframe\">\n",
              "  <thead>\n",
              "    <tr style=\"text-align: right;\">\n",
              "      <th></th>\n",
              "      <th>steel</th>\n",
              "      <th>carbon</th>\n",
              "      <th>hardness</th>\n",
              "      <th>strength</th>\n",
              "      <th>shape</th>\n",
              "      <th>thick</th>\n",
              "      <th>width</th>\n",
              "      <th>len</th>\n",
              "      <th>bore</th>\n",
              "    </tr>\n",
              "  </thead>\n",
              "  <tbody>\n",
              "    <tr>\n",
              "      <th>0</th>\n",
              "      <td>0</td>\n",
              "      <td>0.327558</td>\n",
              "      <td>-0.477159</td>\n",
              "      <td>-0.266999</td>\n",
              "      <td>0</td>\n",
              "      <td>-0.559242</td>\n",
              "      <td>-0.424351</td>\n",
              "      <td>-0.674719</td>\n",
              "      <td>0</td>\n",
              "    </tr>\n",
              "    <tr>\n",
              "      <th>1</th>\n",
              "      <td>1</td>\n",
              "      <td>-0.260996</td>\n",
              "      <td>-0.477159</td>\n",
              "      <td>-0.266999</td>\n",
              "      <td>0</td>\n",
              "      <td>2.342311</td>\n",
              "      <td>-0.424351</td>\n",
              "      <td>-0.674719</td>\n",
              "      <td>0</td>\n",
              "    </tr>\n",
              "    <tr>\n",
              "      <th>2</th>\n",
              "      <td>1</td>\n",
              "      <td>-0.260996</td>\n",
              "      <td>-0.477159</td>\n",
              "      <td>-0.266999</td>\n",
              "      <td>1</td>\n",
              "      <td>-0.559242</td>\n",
              "      <td>1.280521</td>\n",
              "      <td>-0.270853</td>\n",
              "      <td>0</td>\n",
              "    </tr>\n",
              "    <tr>\n",
              "      <th>3</th>\n",
              "      <td>0</td>\n",
              "      <td>-0.260996</td>\n",
              "      <td>1.959785</td>\n",
              "      <td>-0.266999</td>\n",
              "      <td>0</td>\n",
              "      <td>1.879223</td>\n",
              "      <td>-0.980041</td>\n",
              "      <td>-0.674719</td>\n",
              "      <td>0</td>\n",
              "    </tr>\n",
              "    <tr>\n",
              "      <th>4</th>\n",
              "      <td>0</td>\n",
              "      <td>-0.260996</td>\n",
              "      <td>1.959785</td>\n",
              "      <td>-0.266999</td>\n",
              "      <td>1</td>\n",
              "      <td>-0.442019</td>\n",
              "      <td>-1.301496</td>\n",
              "      <td>-0.532147</td>\n",
              "      <td>0</td>\n",
              "    </tr>\n",
              "    <tr>\n",
              "      <th>...</th>\n",
              "      <td>...</td>\n",
              "      <td>...</td>\n",
              "      <td>...</td>\n",
              "      <td>...</td>\n",
              "      <td>...</td>\n",
              "      <td>...</td>\n",
              "      <td>...</td>\n",
              "      <td>...</td>\n",
              "      <td>...</td>\n",
              "    </tr>\n",
              "    <tr>\n",
              "      <th>793</th>\n",
              "      <td>0</td>\n",
              "      <td>-0.260996</td>\n",
              "      <td>1.553628</td>\n",
              "      <td>-0.266999</td>\n",
              "      <td>0</td>\n",
              "      <td>-0.209895</td>\n",
              "      <td>-1.808016</td>\n",
              "      <td>-0.674719</td>\n",
              "      <td>0</td>\n",
              "    </tr>\n",
              "    <tr>\n",
              "      <th>794</th>\n",
              "      <td>0</td>\n",
              "      <td>-0.260996</td>\n",
              "      <td>-0.477159</td>\n",
              "      <td>-0.266999</td>\n",
              "      <td>1</td>\n",
              "      <td>-0.560403</td>\n",
              "      <td>1.280521</td>\n",
              "      <td>1.911715</td>\n",
              "      <td>0</td>\n",
              "    </tr>\n",
              "    <tr>\n",
              "      <th>795</th>\n",
              "      <td>0</td>\n",
              "      <td>-0.260996</td>\n",
              "      <td>-0.477159</td>\n",
              "      <td>-0.266999</td>\n",
              "      <td>0</td>\n",
              "      <td>-0.907428</td>\n",
              "      <td>-0.424598</td>\n",
              "      <td>-0.674719</td>\n",
              "      <td>0</td>\n",
              "    </tr>\n",
              "    <tr>\n",
              "      <th>796</th>\n",
              "      <td>0</td>\n",
              "      <td>-0.260996</td>\n",
              "      <td>-0.477159</td>\n",
              "      <td>-0.266999</td>\n",
              "      <td>1</td>\n",
              "      <td>2.342311</td>\n",
              "      <td>-0.424351</td>\n",
              "      <td>1.911715</td>\n",
              "      <td>0</td>\n",
              "    </tr>\n",
              "    <tr>\n",
              "      <th>797</th>\n",
              "      <td>1</td>\n",
              "      <td>-0.260996</td>\n",
              "      <td>-0.477159</td>\n",
              "      <td>-0.266999</td>\n",
              "      <td>1</td>\n",
              "      <td>0.484156</td>\n",
              "      <td>1.774687</td>\n",
              "      <td>1.535410</td>\n",
              "      <td>0</td>\n",
              "    </tr>\n",
              "  </tbody>\n",
              "</table>\n",
              "<p>798 rows × 9 columns</p>\n",
              "</div>\n",
              "      <button class=\"colab-df-convert\" onclick=\"convertToInteractive('df-681ccf8c-04a9-4df3-a648-49067552688f')\"\n",
              "              title=\"Convert this dataframe to an interactive table.\"\n",
              "              style=\"display:none;\">\n",
              "        \n",
              "  <svg xmlns=\"http://www.w3.org/2000/svg\" height=\"24px\"viewBox=\"0 0 24 24\"\n",
              "       width=\"24px\">\n",
              "    <path d=\"M0 0h24v24H0V0z\" fill=\"none\"/>\n",
              "    <path d=\"M18.56 5.44l.94 2.06.94-2.06 2.06-.94-2.06-.94-.94-2.06-.94 2.06-2.06.94zm-11 1L8.5 8.5l.94-2.06 2.06-.94-2.06-.94L8.5 2.5l-.94 2.06-2.06.94zm10 10l.94 2.06.94-2.06 2.06-.94-2.06-.94-.94-2.06-.94 2.06-2.06.94z\"/><path d=\"M17.41 7.96l-1.37-1.37c-.4-.4-.92-.59-1.43-.59-.52 0-1.04.2-1.43.59L10.3 9.45l-7.72 7.72c-.78.78-.78 2.05 0 2.83L4 21.41c.39.39.9.59 1.41.59.51 0 1.02-.2 1.41-.59l7.78-7.78 2.81-2.81c.8-.78.8-2.07 0-2.86zM5.41 20L4 18.59l7.72-7.72 1.47 1.35L5.41 20z\"/>\n",
              "  </svg>\n",
              "      </button>\n",
              "      \n",
              "  <style>\n",
              "    .colab-df-container {\n",
              "      display:flex;\n",
              "      flex-wrap:wrap;\n",
              "      gap: 12px;\n",
              "    }\n",
              "\n",
              "    .colab-df-convert {\n",
              "      background-color: #E8F0FE;\n",
              "      border: none;\n",
              "      border-radius: 50%;\n",
              "      cursor: pointer;\n",
              "      display: none;\n",
              "      fill: #1967D2;\n",
              "      height: 32px;\n",
              "      padding: 0 0 0 0;\n",
              "      width: 32px;\n",
              "    }\n",
              "\n",
              "    .colab-df-convert:hover {\n",
              "      background-color: #E2EBFA;\n",
              "      box-shadow: 0px 1px 2px rgba(60, 64, 67, 0.3), 0px 1px 3px 1px rgba(60, 64, 67, 0.15);\n",
              "      fill: #174EA6;\n",
              "    }\n",
              "\n",
              "    [theme=dark] .colab-df-convert {\n",
              "      background-color: #3B4455;\n",
              "      fill: #D2E3FC;\n",
              "    }\n",
              "\n",
              "    [theme=dark] .colab-df-convert:hover {\n",
              "      background-color: #434B5C;\n",
              "      box-shadow: 0px 1px 3px 1px rgba(0, 0, 0, 0.15);\n",
              "      filter: drop-shadow(0px 1px 2px rgba(0, 0, 0, 0.3));\n",
              "      fill: #FFFFFF;\n",
              "    }\n",
              "  </style>\n",
              "\n",
              "      <script>\n",
              "        const buttonEl =\n",
              "          document.querySelector('#df-681ccf8c-04a9-4df3-a648-49067552688f button.colab-df-convert');\n",
              "        buttonEl.style.display =\n",
              "          google.colab.kernel.accessAllowed ? 'block' : 'none';\n",
              "\n",
              "        async function convertToInteractive(key) {\n",
              "          const element = document.querySelector('#df-681ccf8c-04a9-4df3-a648-49067552688f');\n",
              "          const dataTable =\n",
              "            await google.colab.kernel.invokeFunction('convertToInteractive',\n",
              "                                                     [key], {});\n",
              "          if (!dataTable) return;\n",
              "\n",
              "          const docLinkHtml = 'Like what you see? Visit the ' +\n",
              "            '<a target=\"_blank\" href=https://colab.research.google.com/notebooks/data_table.ipynb>data table notebook</a>'\n",
              "            + ' to learn more about interactive tables.';\n",
              "          element.innerHTML = '';\n",
              "          dataTable['output_type'] = 'display_data';\n",
              "          await google.colab.output.renderOutput(dataTable, element);\n",
              "          const docLink = document.createElement('div');\n",
              "          docLink.innerHTML = docLinkHtml;\n",
              "          element.appendChild(docLink);\n",
              "        }\n",
              "      </script>\n",
              "    </div>\n",
              "  </div>\n",
              "  "
            ]
          },
          "metadata": {},
          "execution_count": 13
        }
      ]
    },
    {
      "cell_type": "code",
      "source": [
        "X"
      ],
      "metadata": {
        "colab": {
          "base_uri": "https://localhost:8080/",
          "height": 423
        },
        "id": "Sjw7cpEmUuWM",
        "outputId": "fbe34683-2a73-42d6-a53c-84940fb1d622"
      },
      "execution_count": 14,
      "outputs": [
        {
          "output_type": "execute_result",
          "data": {
            "text/plain": [
              "     steel  carbon  hardness  strength  shape  thick   width     len  bore\n",
              "0      0.0     8.0       0.0       0.0    0.0  0.700   610.0     0.0   0.0\n",
              "1      1.0     0.0       0.0       0.0    0.0  3.200   610.0     0.0   0.0\n",
              "2      1.0     0.0       0.0       0.0    1.0  0.700  1300.0   762.0   0.0\n",
              "3      0.0     0.0      60.0       0.0    0.0  2.801   385.1     0.0   0.0\n",
              "4      0.0     0.0      60.0       0.0    1.0  0.801   255.0   269.0   0.0\n",
              "..     ...     ...       ...       ...    ...    ...     ...     ...   ...\n",
              "793    0.0     0.0      50.0       0.0    0.0  1.001    50.0     0.0   0.0\n",
              "794    0.0     0.0       0.0       0.0    1.0  0.699  1300.0  4880.0   0.0\n",
              "795    0.0     0.0       0.0       0.0    0.0  0.400   609.9     0.0   0.0\n",
              "796    0.0     0.0       0.0       0.0    1.0  3.200   610.0  4880.0   0.0\n",
              "797    1.0     0.0       0.0       0.0    1.0  1.599  1500.0  4170.0   0.0\n",
              "\n",
              "[798 rows x 9 columns]"
            ],
            "text/html": [
              "\n",
              "  <div id=\"df-24744c2e-8e1c-4cc2-ac8b-bd512cde1296\">\n",
              "    <div class=\"colab-df-container\">\n",
              "      <div>\n",
              "<style scoped>\n",
              "    .dataframe tbody tr th:only-of-type {\n",
              "        vertical-align: middle;\n",
              "    }\n",
              "\n",
              "    .dataframe tbody tr th {\n",
              "        vertical-align: top;\n",
              "    }\n",
              "\n",
              "    .dataframe thead th {\n",
              "        text-align: right;\n",
              "    }\n",
              "</style>\n",
              "<table border=\"1\" class=\"dataframe\">\n",
              "  <thead>\n",
              "    <tr style=\"text-align: right;\">\n",
              "      <th></th>\n",
              "      <th>steel</th>\n",
              "      <th>carbon</th>\n",
              "      <th>hardness</th>\n",
              "      <th>strength</th>\n",
              "      <th>shape</th>\n",
              "      <th>thick</th>\n",
              "      <th>width</th>\n",
              "      <th>len</th>\n",
              "      <th>bore</th>\n",
              "    </tr>\n",
              "  </thead>\n",
              "  <tbody>\n",
              "    <tr>\n",
              "      <th>0</th>\n",
              "      <td>0.0</td>\n",
              "      <td>8.0</td>\n",
              "      <td>0.0</td>\n",
              "      <td>0.0</td>\n",
              "      <td>0.0</td>\n",
              "      <td>0.700</td>\n",
              "      <td>610.0</td>\n",
              "      <td>0.0</td>\n",
              "      <td>0.0</td>\n",
              "    </tr>\n",
              "    <tr>\n",
              "      <th>1</th>\n",
              "      <td>1.0</td>\n",
              "      <td>0.0</td>\n",
              "      <td>0.0</td>\n",
              "      <td>0.0</td>\n",
              "      <td>0.0</td>\n",
              "      <td>3.200</td>\n",
              "      <td>610.0</td>\n",
              "      <td>0.0</td>\n",
              "      <td>0.0</td>\n",
              "    </tr>\n",
              "    <tr>\n",
              "      <th>2</th>\n",
              "      <td>1.0</td>\n",
              "      <td>0.0</td>\n",
              "      <td>0.0</td>\n",
              "      <td>0.0</td>\n",
              "      <td>1.0</td>\n",
              "      <td>0.700</td>\n",
              "      <td>1300.0</td>\n",
              "      <td>762.0</td>\n",
              "      <td>0.0</td>\n",
              "    </tr>\n",
              "    <tr>\n",
              "      <th>3</th>\n",
              "      <td>0.0</td>\n",
              "      <td>0.0</td>\n",
              "      <td>60.0</td>\n",
              "      <td>0.0</td>\n",
              "      <td>0.0</td>\n",
              "      <td>2.801</td>\n",
              "      <td>385.1</td>\n",
              "      <td>0.0</td>\n",
              "      <td>0.0</td>\n",
              "    </tr>\n",
              "    <tr>\n",
              "      <th>4</th>\n",
              "      <td>0.0</td>\n",
              "      <td>0.0</td>\n",
              "      <td>60.0</td>\n",
              "      <td>0.0</td>\n",
              "      <td>1.0</td>\n",
              "      <td>0.801</td>\n",
              "      <td>255.0</td>\n",
              "      <td>269.0</td>\n",
              "      <td>0.0</td>\n",
              "    </tr>\n",
              "    <tr>\n",
              "      <th>...</th>\n",
              "      <td>...</td>\n",
              "      <td>...</td>\n",
              "      <td>...</td>\n",
              "      <td>...</td>\n",
              "      <td>...</td>\n",
              "      <td>...</td>\n",
              "      <td>...</td>\n",
              "      <td>...</td>\n",
              "      <td>...</td>\n",
              "    </tr>\n",
              "    <tr>\n",
              "      <th>793</th>\n",
              "      <td>0.0</td>\n",
              "      <td>0.0</td>\n",
              "      <td>50.0</td>\n",
              "      <td>0.0</td>\n",
              "      <td>0.0</td>\n",
              "      <td>1.001</td>\n",
              "      <td>50.0</td>\n",
              "      <td>0.0</td>\n",
              "      <td>0.0</td>\n",
              "    </tr>\n",
              "    <tr>\n",
              "      <th>794</th>\n",
              "      <td>0.0</td>\n",
              "      <td>0.0</td>\n",
              "      <td>0.0</td>\n",
              "      <td>0.0</td>\n",
              "      <td>1.0</td>\n",
              "      <td>0.699</td>\n",
              "      <td>1300.0</td>\n",
              "      <td>4880.0</td>\n",
              "      <td>0.0</td>\n",
              "    </tr>\n",
              "    <tr>\n",
              "      <th>795</th>\n",
              "      <td>0.0</td>\n",
              "      <td>0.0</td>\n",
              "      <td>0.0</td>\n",
              "      <td>0.0</td>\n",
              "      <td>0.0</td>\n",
              "      <td>0.400</td>\n",
              "      <td>609.9</td>\n",
              "      <td>0.0</td>\n",
              "      <td>0.0</td>\n",
              "    </tr>\n",
              "    <tr>\n",
              "      <th>796</th>\n",
              "      <td>0.0</td>\n",
              "      <td>0.0</td>\n",
              "      <td>0.0</td>\n",
              "      <td>0.0</td>\n",
              "      <td>1.0</td>\n",
              "      <td>3.200</td>\n",
              "      <td>610.0</td>\n",
              "      <td>4880.0</td>\n",
              "      <td>0.0</td>\n",
              "    </tr>\n",
              "    <tr>\n",
              "      <th>797</th>\n",
              "      <td>1.0</td>\n",
              "      <td>0.0</td>\n",
              "      <td>0.0</td>\n",
              "      <td>0.0</td>\n",
              "      <td>1.0</td>\n",
              "      <td>1.599</td>\n",
              "      <td>1500.0</td>\n",
              "      <td>4170.0</td>\n",
              "      <td>0.0</td>\n",
              "    </tr>\n",
              "  </tbody>\n",
              "</table>\n",
              "<p>798 rows × 9 columns</p>\n",
              "</div>\n",
              "      <button class=\"colab-df-convert\" onclick=\"convertToInteractive('df-24744c2e-8e1c-4cc2-ac8b-bd512cde1296')\"\n",
              "              title=\"Convert this dataframe to an interactive table.\"\n",
              "              style=\"display:none;\">\n",
              "        \n",
              "  <svg xmlns=\"http://www.w3.org/2000/svg\" height=\"24px\"viewBox=\"0 0 24 24\"\n",
              "       width=\"24px\">\n",
              "    <path d=\"M0 0h24v24H0V0z\" fill=\"none\"/>\n",
              "    <path d=\"M18.56 5.44l.94 2.06.94-2.06 2.06-.94-2.06-.94-.94-2.06-.94 2.06-2.06.94zm-11 1L8.5 8.5l.94-2.06 2.06-.94-2.06-.94L8.5 2.5l-.94 2.06-2.06.94zm10 10l.94 2.06.94-2.06 2.06-.94-2.06-.94-.94-2.06-.94 2.06-2.06.94z\"/><path d=\"M17.41 7.96l-1.37-1.37c-.4-.4-.92-.59-1.43-.59-.52 0-1.04.2-1.43.59L10.3 9.45l-7.72 7.72c-.78.78-.78 2.05 0 2.83L4 21.41c.39.39.9.59 1.41.59.51 0 1.02-.2 1.41-.59l7.78-7.78 2.81-2.81c.8-.78.8-2.07 0-2.86zM5.41 20L4 18.59l7.72-7.72 1.47 1.35L5.41 20z\"/>\n",
              "  </svg>\n",
              "      </button>\n",
              "      \n",
              "  <style>\n",
              "    .colab-df-container {\n",
              "      display:flex;\n",
              "      flex-wrap:wrap;\n",
              "      gap: 12px;\n",
              "    }\n",
              "\n",
              "    .colab-df-convert {\n",
              "      background-color: #E8F0FE;\n",
              "      border: none;\n",
              "      border-radius: 50%;\n",
              "      cursor: pointer;\n",
              "      display: none;\n",
              "      fill: #1967D2;\n",
              "      height: 32px;\n",
              "      padding: 0 0 0 0;\n",
              "      width: 32px;\n",
              "    }\n",
              "\n",
              "    .colab-df-convert:hover {\n",
              "      background-color: #E2EBFA;\n",
              "      box-shadow: 0px 1px 2px rgba(60, 64, 67, 0.3), 0px 1px 3px 1px rgba(60, 64, 67, 0.15);\n",
              "      fill: #174EA6;\n",
              "    }\n",
              "\n",
              "    [theme=dark] .colab-df-convert {\n",
              "      background-color: #3B4455;\n",
              "      fill: #D2E3FC;\n",
              "    }\n",
              "\n",
              "    [theme=dark] .colab-df-convert:hover {\n",
              "      background-color: #434B5C;\n",
              "      box-shadow: 0px 1px 3px 1px rgba(0, 0, 0, 0.15);\n",
              "      filter: drop-shadow(0px 1px 2px rgba(0, 0, 0, 0.3));\n",
              "      fill: #FFFFFF;\n",
              "    }\n",
              "  </style>\n",
              "\n",
              "      <script>\n",
              "        const buttonEl =\n",
              "          document.querySelector('#df-24744c2e-8e1c-4cc2-ac8b-bd512cde1296 button.colab-df-convert');\n",
              "        buttonEl.style.display =\n",
              "          google.colab.kernel.accessAllowed ? 'block' : 'none';\n",
              "\n",
              "        async function convertToInteractive(key) {\n",
              "          const element = document.querySelector('#df-24744c2e-8e1c-4cc2-ac8b-bd512cde1296');\n",
              "          const dataTable =\n",
              "            await google.colab.kernel.invokeFunction('convertToInteractive',\n",
              "                                                     [key], {});\n",
              "          if (!dataTable) return;\n",
              "\n",
              "          const docLinkHtml = 'Like what you see? Visit the ' +\n",
              "            '<a target=\"_blank\" href=https://colab.research.google.com/notebooks/data_table.ipynb>data table notebook</a>'\n",
              "            + ' to learn more about interactive tables.';\n",
              "          element.innerHTML = '';\n",
              "          dataTable['output_type'] = 'display_data';\n",
              "          await google.colab.output.renderOutput(dataTable, element);\n",
              "          const docLink = document.createElement('div');\n",
              "          docLink.innerHTML = docLinkHtml;\n",
              "          element.appendChild(docLink);\n",
              "        }\n",
              "      </script>\n",
              "    </div>\n",
              "  </div>\n",
              "  "
            ]
          },
          "metadata": {},
          "execution_count": 14
        }
      ]
    },
    {
      "cell_type": "code",
      "source": [
        "y = y.replace(to_replace = \"U\",value=int(6))\n",
        "y = y.astype(int)\n",
        "y.dtype"
      ],
      "metadata": {
        "id": "Wckj2cCrB-iN",
        "colab": {
          "base_uri": "https://localhost:8080/"
        },
        "outputId": "69f7aab2-eca5-427e-a5de-006bf559ef33"
      },
      "execution_count": 15,
      "outputs": [
        {
          "output_type": "execute_result",
          "data": {
            "text/plain": [
              "dtype('int64')"
            ]
          },
          "metadata": {},
          "execution_count": 15
        }
      ]
    },
    {
      "cell_type": "code",
      "source": [
        "y.unique()"
      ],
      "metadata": {
        "colab": {
          "base_uri": "https://localhost:8080/"
        },
        "id": "Thttf1rEUzEV",
        "outputId": "c064c20a-5cb0-483b-ec65-f12ac0274178"
      },
      "execution_count": 16,
      "outputs": [
        {
          "output_type": "execute_result",
          "data": {
            "text/plain": [
              "array([3, 6, 1, 5, 2])"
            ]
          },
          "metadata": {},
          "execution_count": 16
        }
      ]
    },
    {
      "cell_type": "code",
      "source": [
        "X_std['bore'].unique()"
      ],
      "metadata": {
        "id": "7l8NOZSKC8w1",
        "colab": {
          "base_uri": "https://localhost:8080/"
        },
        "outputId": "0be16273-17cc-449c-fb99-5494d0106900"
      },
      "execution_count": 17,
      "outputs": [
        {
          "output_type": "execute_result",
          "data": {
            "text/plain": [
              "array([  0, 500, 600])"
            ]
          },
          "metadata": {},
          "execution_count": 17
        }
      ]
    },
    {
      "cell_type": "code",
      "source": [
        "X_train_std, X_test_std, y_train_std, y_test_std = train_test_split(X_std, y, test_size=0.35)"
      ],
      "metadata": {
        "id": "YA2aspvE-iaF"
      },
      "execution_count": 18,
      "outputs": []
    },
    {
      "cell_type": "code",
      "source": [
        "X_train, X_test, y_train, y_test = train_test_split(X, y, test_size=0.35)"
      ],
      "metadata": {
        "id": "jzrGmY53yVeR"
      },
      "execution_count": 19,
      "outputs": []
    },
    {
      "cell_type": "markdown",
      "source": [
        "#Part 3"
      ],
      "metadata": {
        "id": "Xn0-XeUUDG_N"
      }
    },
    {
      "cell_type": "markdown",
      "source": [
        "#Support Vector Machine"
      ],
      "metadata": {
        "id": "MNOVav9FE4Qf"
      }
    },
    {
      "cell_type": "markdown",
      "source": [
        "Standardized data"
      ],
      "metadata": {
        "id": "tTjgXmuFyfW5"
      }
    },
    {
      "cell_type": "code",
      "source": [
        "clf = svm.SVC()\n",
        "clf.fit(X_train_std.to_numpy(), y_train_std.to_numpy())\n",
        "y_pred = clf.predict(X_test_std.to_numpy())\n",
        "clf.score(X_test_std,y_test_std.to_numpy())"
      ],
      "metadata": {
        "id": "rou-AC3UDIgl",
        "colab": {
          "base_uri": "https://localhost:8080/"
        },
        "outputId": "c00cd8c5-2abc-4515-e67a-0a1babaf5b40"
      },
      "execution_count": 20,
      "outputs": [
        {
          "output_type": "stream",
          "name": "stderr",
          "text": [
            "/usr/local/lib/python3.9/dist-packages/sklearn/base.py:432: UserWarning: X has feature names, but SVC was fitted without feature names\n",
            "  warnings.warn(\n"
          ]
        },
        {
          "output_type": "execute_result",
          "data": {
            "text/plain": [
              "0.7321428571428571"
            ]
          },
          "metadata": {},
          "execution_count": 20
        }
      ]
    },
    {
      "cell_type": "code",
      "source": [
        "kfold_validation = KFold(5)\n",
        "results_score = cross_val_score(clf,X_std.to_numpy(),y.to_numpy(),cv=kfold_validation)\n",
        "print(\"accuracy scores:\", results_score)\n",
        "print(\"average Accuracy score:\", np.mean(results_score))"
      ],
      "metadata": {
        "id": "bK_xw_NRGsBt",
        "colab": {
          "base_uri": "https://localhost:8080/"
        },
        "outputId": "4c8b8c6a-6d9b-4352-c333-979a2700635d"
      },
      "execution_count": 21,
      "outputs": [
        {
          "output_type": "stream",
          "name": "stdout",
          "text": [
            "accuracy scores: [0.75       0.76875    0.7375     0.77987421 0.77358491]\n",
            "average Accuracy score: 0.7619418238993712\n"
          ]
        }
      ]
    },
    {
      "cell_type": "code",
      "source": [
        "X_ax = [1,2,3,4,5]"
      ],
      "metadata": {
        "id": "ClyxL9Cczdkr"
      },
      "execution_count": 22,
      "outputs": []
    },
    {
      "cell_type": "code",
      "source": [
        "plt.plot(X_ax,results_score)"
      ],
      "metadata": {
        "id": "m3KKPRImJkLf",
        "colab": {
          "base_uri": "https://localhost:8080/",
          "height": 282
        },
        "outputId": "ce46d028-7281-4052-ace1-ef6bd803ce9b"
      },
      "execution_count": 23,
      "outputs": [
        {
          "output_type": "execute_result",
          "data": {
            "text/plain": [
              "[<matplotlib.lines.Line2D at 0x7f0c40d4d2b0>]"
            ]
          },
          "metadata": {},
          "execution_count": 23
        },
        {
          "output_type": "display_data",
          "data": {
            "text/plain": [
              "<Figure size 432x288 with 1 Axes>"
            ],
            "image/png": "[encoded data removed]"
          },
          "metadata": {
            "needs_background": "light"
          }
        }
      ]
    },
    {
      "cell_type": "markdown",
      "source": [
        "Without Standardized Data"
      ],
      "metadata": {
        "id": "SVT2RqTayr44"
      }
    },
    {
      "cell_type": "code",
      "source": [
        "clf_nstd = svm.SVC()\n",
        "clf_nstd.fit(X_train.to_numpy(), y_train.to_numpy())\n",
        "y_pred_nstd = clf_nstd.predict(X_test.to_numpy())\n",
        "clf_nstd.score(X_test.to_numpy(),y_test.to_numpy())"
      ],
      "metadata": {
        "id": "uTouzdJOyyec",
        "colab": {
          "base_uri": "https://localhost:8080/"
        },
        "outputId": "f5863c12-3408-4d92-c554-16e3cab39b36"
      },
      "execution_count": 24,
      "outputs": [
        {
          "output_type": "execute_result",
          "data": {
            "text/plain": [
              "0.75"
            ]
          },
          "metadata": {},
          "execution_count": 24
        }
      ]
    },
    {
      "cell_type": "code",
      "source": [
        "kfold_validation = KFold(5)\n",
        "results_score_nstd = cross_val_score(clf_nstd,X.to_numpy(),y.to_numpy(),cv=kfold_validation)\n",
        "print(\"accuracy scores:\", results_score_nstd)\n",
        "print(\"average Accuracy score:\", np.mean(results_score_nstd))"
      ],
      "metadata": {
        "id": "Rumkatp1zC9M",
        "colab": {
          "base_uri": "https://localhost:8080/"
        },
        "outputId": "5752ceae-9c0a-4c23-943e-ee5e06d3b127"
      },
      "execution_count": 25,
      "outputs": [
        {
          "output_type": "stream",
          "name": "stdout",
          "text": [
            "accuracy scores: [0.75       0.76875    0.7375     0.77987421 0.77358491]\n",
            "average Accuracy score: 0.7619418238993712\n"
          ]
        }
      ]
    },
    {
      "cell_type": "code",
      "source": [
        "plt.plot(X_ax,results_score_nstd)"
      ],
      "metadata": {
        "id": "GL137i-z0OEw",
        "colab": {
          "base_uri": "https://localhost:8080/",
          "height": 282
        },
        "outputId": "ac1b5736-c5f4-49a3-9693-2d4802bead1f"
      },
      "execution_count": 26,
      "outputs": [
        {
          "output_type": "execute_result",
          "data": {
            "text/plain": [
              "[<matplotlib.lines.Line2D at 0x7f0c3e446a00>]"
            ]
          },
          "metadata": {},
          "execution_count": 26
        },
        {
          "output_type": "display_data",
          "data": {
            "text/plain": [
              "<Figure size 432x288 with 1 Axes>"
            ],
            "image/png": "[encoded data removed]"
          },
          "metadata": {
            "needs_background": "light"
          }
        }
      ]
    },
    {
      "cell_type": "markdown",
      "source": [
        "#Decision  Tree Classifier"
      ],
      "metadata": {
        "id": "NGX-WWWvE7j_"
      }
    },
    {
      "cell_type": "markdown",
      "source": [
        "Standardized data"
      ],
      "metadata": {
        "id": "pz2RN-Jq0S-Q"
      }
    },
    {
      "cell_type": "code",
      "source": [
        "clf2 = DecisionTreeClassifier()\n",
        "clf2.fit(X_train_std, y_train_std)\n",
        "y_pred2 = clf2.predict(X_test_std)\n",
        "clf2.score(X_test_std,y_test_std)"
      ],
      "metadata": {
        "id": "c7y1jcwHFJoP",
        "colab": {
          "base_uri": "https://localhost:8080/"
        },
        "outputId": "e752b676-ac69-4056-dc50-dc39cc2494dd"
      },
      "execution_count": 27,
      "outputs": [
        {
          "output_type": "execute_result",
          "data": {
            "text/plain": [
              "0.8857142857142857"
            ]
          },
          "metadata": {},
          "execution_count": 27
        }
      ]
    },
    {
      "cell_type": "code",
      "source": [
        "kfold_validation = KFold(5)\n",
        "results_score2 = cross_val_score(clf2,X_std,y,cv=kfold_validation)\n",
        "print(\"accuracy scores:\", results_score2)\n",
        "print(\"average Accuracy score:\", np.mean(results_score2))"
      ],
      "metadata": {
        "id": "sgdxuXIsHDdG",
        "colab": {
          "base_uri": "https://localhost:8080/"
        },
        "outputId": "874ffc25-50e5-42b9-b058-143adcfceee7"
      },
      "execution_count": 28,
      "outputs": [
        {
          "output_type": "stream",
          "name": "stdout",
          "text": [
            "accuracy scores: [0.875      0.9375     0.925      0.89308176 0.87421384]\n",
            "average Accuracy score: 0.9009591194968554\n"
          ]
        }
      ]
    },
    {
      "cell_type": "code",
      "source": [
        "plt.plot(X_ax,results_score2)"
      ],
      "metadata": {
        "id": "KZ9w_16bJzzf",
        "colab": {
          "base_uri": "https://localhost:8080/",
          "height": 284
        },
        "outputId": "58345774-e565-434c-abf5-529c02fe9fbc"
      },
      "execution_count": 29,
      "outputs": [
        {
          "output_type": "execute_result",
          "data": {
            "text/plain": [
              "[<matplotlib.lines.Line2D at 0x7f0c3e4609d0>]"
            ]
          },
          "metadata": {},
          "execution_count": 29
        },
        {
          "output_type": "display_data",
          "data": {
            "text/plain": [
              "<Figure size 432x288 with 1 Axes>"
            ],
            "image/png": "[encoded data removed]"
          },
          "metadata": {
            "needs_background": "light"
          }
        }
      ]
    },
    {
      "cell_type": "markdown",
      "source": [
        "Without Standardized Data"
      ],
      "metadata": {
        "id": "fH9hSO3C0f9B"
      }
    },
    {
      "cell_type": "code",
      "source": [
        "clf2_nstd = DecisionTreeClassifier()\n",
        "clf2_nstd.fit(X_train, y_train)\n",
        "y_pred2_nstd = clf2.predict(X_test)\n",
        "clf2_nstd.score(X_test,y_test)"
      ],
      "metadata": {
        "id": "WEkyGLRl0itR",
        "colab": {
          "base_uri": "https://localhost:8080/"
        },
        "outputId": "a68d6ab1-1bb8-4c48-9d58-6d25b74a61ad"
      },
      "execution_count": 30,
      "outputs": [
        {
          "output_type": "execute_result",
          "data": {
            "text/plain": [
              "0.8785714285714286"
            ]
          },
          "metadata": {},
          "execution_count": 30
        }
      ]
    },
    {
      "cell_type": "code",
      "source": [
        "kfold_validation = KFold(5)\n",
        "results_score2_nstd = cross_val_score(clf2_nstd,X,y,cv=kfold_validation,scoring='r2')\n",
        "print(\"accuracy scores:\", results_score2_nstd)\n",
        "print(\"average Accuracy score:\", np.mean(results_score2_nstd))"
      ],
      "metadata": {
        "id": "bU-yTWxR0yNz",
        "colab": {
          "base_uri": "https://localhost:8080/"
        },
        "outputId": "309168db-b3d0-4b95-8e50-6b21cac5aa28"
      },
      "execution_count": 31,
      "outputs": [
        {
          "output_type": "stream",
          "name": "stdout",
          "text": [
            "accuracy scores: [0.49175824 0.72590628 0.80642039 0.58562358 0.50981502]\n",
            "average Accuracy score: 0.6239047025560602\n"
          ]
        }
      ]
    },
    {
      "cell_type": "code",
      "source": [
        "plt.plot(X_ax,results_score2_nstd)"
      ],
      "metadata": {
        "id": "wNqI7bay09xB",
        "colab": {
          "base_uri": "https://localhost:8080/",
          "height": 282
        },
        "outputId": "8e8423e1-d29e-4eed-eb65-2efc0274b0a3"
      },
      "execution_count": 32,
      "outputs": [
        {
          "output_type": "execute_result",
          "data": {
            "text/plain": [
              "[<matplotlib.lines.Line2D at 0x7f0c3e3549a0>]"
            ]
          },
          "metadata": {},
          "execution_count": 32
        },
        {
          "output_type": "display_data",
          "data": {
            "text/plain": [
              "<Figure size 432x288 with 1 Axes>"
            ],
            "image/png": "[encoded data removed]"
          },
          "metadata": {
            "needs_background": "light"
          }
        }
      ]
    },
    {
      "cell_type": "markdown",
      "source": [
        "#Part 4"
      ],
      "metadata": {
        "id": "VWAb1l2R89Jw"
      }
    },
    {
      "cell_type": "code",
      "source": [
        "def covar(data):\n",
        "  N = data.shape[0]\n",
        "  n_dim = data.shape[1]\n",
        "  cov = np.zeros((n_dim, n_dim))\n",
        "\n",
        "  avg = []\n",
        "  for i in range(n_dim):\n",
        "      avg.append(sum([d[i] for d in data]) / N)\n",
        "\n",
        "  for i in range(n_dim):\n",
        "      for j in range(n_dim):\n",
        "          var = 0\n",
        "          for d in data:\n",
        "              var += (d[i] - avg[i]) * (d[j] - avg[j])\n",
        "          var /= (N - 1)\n",
        "          cov[i, j] = var\n",
        "\n",
        "  return cov"
      ],
      "metadata": {
        "id": "Eu9wAkdT-AAH"
      },
      "execution_count": 33,
      "outputs": []
    },
    {
      "cell_type": "code",
      "source": [
        "def PCA(X, n_components,*,plot=False):\n",
        "  X1 = X.copy()\n",
        "  X_meaned = X1 - np.mean(X1,axis=0)\n",
        "  cov_mat = covar(X_meaned)\n",
        "  eigen_values , eigen_vectors = np.linalg.eigh(cov_mat)\n",
        "  sorted_index = np.argsort(eigen_values)[::-1]\n",
        "  sorted_eigenvalue = eigen_values[sorted_index]\n",
        "  sorted_eigenvectors = eigen_vectors[:,sorted_index]\n",
        "  eigenvector_subset = sorted_eigenvectors[:,0:n_components]\n",
        "  X_reduced = np.dot(eigenvector_subset.transpose() , X_meaned.transpose() ).transpose()\n",
        "  if(plot==True):\n",
        "    mu = np.mean(X1,axis=0)\n",
        "    plt.scatter(X[:,1], X[:,2], color='b')\n",
        "    plt.arrow(mu[0], mu[1], eigen_vectors[0,0], eigen_vectors[0,1], color='r', width=0.03)\n",
        "    plt.arrow(mu[0], mu[1], eigen_vectors[1,0], eigen_vectors[1,1], color='g', width=0.03)\n",
        "    plt.show()\n",
        "\n",
        "  return X_reduced"
      ],
      "metadata": {
        "id": "ZCfcqb5E9I0X"
      },
      "execution_count": 34,
      "outputs": []
    },
    {
      "cell_type": "markdown",
      "source": [
        "#Part 5"
      ],
      "metadata": {
        "id": "UWb-X0tOKPfB"
      }
    },
    {
      "cell_type": "markdown",
      "source": [
        "Without Standardized Data"
      ],
      "metadata": {
        "id": "oZcaVK0LMyMn"
      }
    },
    {
      "cell_type": "code",
      "source": [
        "y_axes = []\n",
        "X_axes = []\n",
        "\n",
        "for n in range(1,11):\n",
        "  X_temp = PCA(X.to_numpy(),n)\n",
        "  X_axes.append(n)\n",
        "  y_axes.append(np.var(X_temp))\n",
        "\n",
        "plt.bar(X_axes,y_axes)"
      ],
      "metadata": {
        "colab": {
          "base_uri": "https://localhost:8080/",
          "height": 293
        },
        "id": "MAI9DFrtKpxd",
        "outputId": "7aaf7409-8c68-4a25-e219-37b54d133594"
      },
      "execution_count": 35,
      "outputs": [
        {
          "output_type": "execute_result",
          "data": {
            "text/plain": [
              "<BarContainer object of 10 artists>"
            ]
          },
          "metadata": {},
          "execution_count": 35
        },
        {
          "output_type": "display_data",
          "data": {
            "text/plain": [
              "<Figure size 432x288 with 1 Axes>"
            ],
            "image/png": "[encoded data removed]"
          },
          "metadata": {
            "needs_background": "light"
          }
        }
      ]
    },
    {
      "cell_type": "markdown",
      "source": [
        "Standardized Data"
      ],
      "metadata": {
        "id": "l88s0IuWM3b3"
      }
    },
    {
      "cell_type": "code",
      "source": [
        "y_axes_std = []\n",
        "X_axes_std = []\n",
        "\n",
        "for n in range(1,11):\n",
        "  X_temp = PCA(X_std.to_numpy(),n)\n",
        "  X_axes_std.append(n)\n",
        "  y_axes_std.append(np.var(X_temp))\n",
        "\n",
        "plt.bar(X_axes_std,y_axes_std)"
      ],
      "metadata": {
        "colab": {
          "base_uri": "https://localhost:8080/",
          "height": 282
        },
        "id": "v-ZnydIRM10W",
        "outputId": "51659a3a-2050-4529-bea4-da7d95110684"
      },
      "execution_count": 36,
      "outputs": [
        {
          "output_type": "execute_result",
          "data": {
            "text/plain": [
              "<BarContainer object of 10 artists>"
            ]
          },
          "metadata": {},
          "execution_count": 36
        },
        {
          "output_type": "display_data",
          "data": {
            "text/plain": [
              "<Figure size 432x288 with 1 Axes>"
            ],
            "image/png": "[encoded data removed]"
          },
          "metadata": {
            "needs_background": "light"
          }
        }
      ]
    },
    {
      "cell_type": "markdown",
      "source": [
        "#Part 6"
      ],
      "metadata": {
        "id": "C_Wpe4ZOQ_Ah"
      }
    },
    {
      "cell_type": "markdown",
      "source": [
        "Standardized Data"
      ],
      "metadata": {
        "id": "EVpLstqsRTqZ"
      }
    },
    {
      "cell_type": "code",
      "source": [
        "X_std_pca = PCA(X_std.to_numpy(),9)"
      ],
      "metadata": {
        "id": "C98jb42rThVC"
      },
      "execution_count": 37,
      "outputs": []
    },
    {
      "cell_type": "code",
      "source": [
        "X_pca_std_train = PCA(X_train_std.to_numpy(),9)\n",
        "X_pca_std_test = PCA(X_test_std.to_numpy(),9)"
      ],
      "metadata": {
        "id": "o9GPMz5mRCAA"
      },
      "execution_count": 38,
      "outputs": []
    },
    {
      "cell_type": "code",
      "source": [
        "clf_pca = svm.SVC()\n",
        "clf_pca.fit(X_pca_std_train, y_train_std)\n",
        "y_pred_pca = clf_pca.predict(X_pca_std_test)\n",
        "clf_pca.score(X_pca_std_test,y_test_std)"
      ],
      "metadata": {
        "colab": {
          "base_uri": "https://localhost:8080/"
        },
        "id": "vuOgm05YRhIf",
        "outputId": "3212fa34-3df9-4a8d-ff29-6387a61ad4e3"
      },
      "execution_count": 39,
      "outputs": [
        {
          "output_type": "execute_result",
          "data": {
            "text/plain": [
              "0.7321428571428571"
            ]
          },
          "metadata": {},
          "execution_count": 39
        }
      ]
    },
    {
      "cell_type": "code",
      "source": [
        "kfold_validation = KFold(5)\n",
        "results_score_std_pca = cross_val_score(clf_pca,X_std_pca,y,cv=kfold_validation)\n",
        "print(\"accuracy scores:\", results_score_std_pca)\n",
        "print(\"average Accuracy score:\", np.mean(results_score_std_pca))"
      ],
      "metadata": {
        "colab": {
          "base_uri": "https://localhost:8080/"
        },
        "id": "FusqsQKcTEhJ",
        "outputId": "cd57a163-2c56-41cf-ec1c-7629b174a1e3"
      },
      "execution_count": 40,
      "outputs": [
        {
          "output_type": "stream",
          "name": "stdout",
          "text": [
            "accuracy scores: [0.75       0.76875    0.7375     0.77987421 0.77358491]\n",
            "average Accuracy score: 0.7619418238993712\n"
          ]
        }
      ]
    },
    {
      "cell_type": "code",
      "source": [
        "clf2_pca = DecisionTreeClassifier()\n",
        "clf2_pca.fit(X_pca_std_train, y_train_std)\n",
        "y_pred2_pca = clf2_pca.predict(X_pca_std_test)\n",
        "clf2_pca.score(X_pca_std_test,y_test_std)"
      ],
      "metadata": {
        "colab": {
          "base_uri": "https://localhost:8080/"
        },
        "id": "95mClwcIXa67",
        "outputId": "598a3dd2-842e-4a58-dc09-43a6fd0c64b6"
      },
      "execution_count": 41,
      "outputs": [
        {
          "output_type": "execute_result",
          "data": {
            "text/plain": [
              "0.7"
            ]
          },
          "metadata": {},
          "execution_count": 41
        }
      ]
    },
    {
      "cell_type": "code",
      "source": [
        "kfold_validation = KFold(5)\n",
        "results_score2_std_pca = cross_val_score(clf2_pca,X_std_pca,y,cv=kfold_validation)\n",
        "print(\"accuracy scores:\", results_score2_std_pca)\n",
        "print(\"average Accuracy score:\", np.mean(results_score2_std_pca))"
      ],
      "metadata": {
        "colab": {
          "base_uri": "https://localhost:8080/"
        },
        "id": "JBKiqQPwYK-6",
        "outputId": "0d40ca5f-0b05-4281-a95e-8e67f48687c7"
      },
      "execution_count": 42,
      "outputs": [
        {
          "output_type": "stream",
          "name": "stdout",
          "text": [
            "accuracy scores: [0.8625     0.88125    0.85625    0.8490566  0.86163522]\n",
            "average Accuracy score: 0.862138364779874\n"
          ]
        }
      ]
    },
    {
      "cell_type": "markdown",
      "source": [
        "Without Standardized Data"
      ],
      "metadata": {
        "id": "wjpYzbdqXQSp"
      }
    },
    {
      "cell_type": "code",
      "source": [
        "X_pca = PCA(X.to_numpy(),9)\n",
        "X_train_pca = PCA(X_train.to_numpy(),9)\n",
        "X_test_pca = PCA(X_test.to_numpy(),9)"
      ],
      "metadata": {
        "id": "b_PnFvveWVp8"
      },
      "execution_count": 43,
      "outputs": []
    },
    {
      "cell_type": "code",
      "source": [
        "clf_pca_nstd = svm.SVC()\n",
        "clf_pca_nstd.fit(X_train_pca, y_train)\n",
        "y_pred_pca_nstd = clf_pca_nstd.predict(X_test_pca)\n",
        "clf_pca_nstd.score(X_test_pca,y_test)"
      ],
      "metadata": {
        "colab": {
          "base_uri": "https://localhost:8080/"
        },
        "id": "Xn1BQsjkY8i6",
        "outputId": "e71a20cd-9fd9-4e86-a866-04a4b94b2b05"
      },
      "execution_count": 44,
      "outputs": [
        {
          "output_type": "execute_result",
          "data": {
            "text/plain": [
              "0.75"
            ]
          },
          "metadata": {},
          "execution_count": 44
        }
      ]
    },
    {
      "cell_type": "code",
      "source": [
        "kfold_validation = KFold(5)\n",
        "results_score_nstd_pca = cross_val_score(clf_pca_nstd,X_pca,y,cv=kfold_validation)\n",
        "print(\"accuracy scores:\", results_score_nstd_pca)\n",
        "print(\"average Accuracy score:\", np.mean(results_score_nstd_pca))"
      ],
      "metadata": {
        "colab": {
          "base_uri": "https://localhost:8080/"
        },
        "id": "I4dBYw4GZ41j",
        "outputId": "29b76188-6e39-463a-c396-4dd3deb551c7"
      },
      "execution_count": 45,
      "outputs": [
        {
          "output_type": "stream",
          "name": "stdout",
          "text": [
            "accuracy scores: [0.75       0.76875    0.7375     0.77987421 0.77358491]\n",
            "average Accuracy score: 0.7619418238993712\n"
          ]
        }
      ]
    },
    {
      "cell_type": "code",
      "source": [
        "clf2_pca_nstd = DecisionTreeClassifier()\n",
        "clf2_pca_nstd.fit(X_train_pca, y_train)\n",
        "y_pred2_pca_nstd = clf2_pca_nstd.predict(X_test_pca)\n",
        "clf2_pca_nstd.score(X_test_pca,y_test)"
      ],
      "metadata": {
        "colab": {
          "base_uri": "https://localhost:8080/"
        },
        "id": "uadtZil8aNc7",
        "outputId": "b07bdeda-6ffa-474d-cad3-223e37ee4dae"
      },
      "execution_count": 46,
      "outputs": [
        {
          "output_type": "execute_result",
          "data": {
            "text/plain": [
              "0.525"
            ]
          },
          "metadata": {},
          "execution_count": 46
        }
      ]
    },
    {
      "cell_type": "code",
      "source": [
        "kfold_validation = KFold(5)\n",
        "results_score2_nstd_pca = cross_val_score(clf2_pca_nstd,X_pca,y,cv=kfold_validation)\n",
        "print(\"accuracy scores:\", results_score2_nstd_pca)\n",
        "print(\"average Accuracy score:\", np.mean(results_score2_nstd_pca))"
      ],
      "metadata": {
        "colab": {
          "base_uri": "https://localhost:8080/"
        },
        "id": "C-SVJyTUa0MI",
        "outputId": "18334096-a1e4-45b4-c61a-b74ae3043dc4"
      },
      "execution_count": 47,
      "outputs": [
        {
          "output_type": "stream",
          "name": "stdout",
          "text": [
            "accuracy scores: [0.875      0.9375     0.89375    0.88679245 0.86163522]\n",
            "average Accuracy score: 0.8909355345911949\n"
          ]
        }
      ]
    },
    {
      "cell_type": "markdown",
      "source": [
        "#Part 7"
      ],
      "metadata": {
        "id": "E6Y3EJanbGDj"
      }
    },
    {
      "cell_type": "markdown",
      "source": [
        "Standardized Data"
      ],
      "metadata": {
        "id": "FrnLCi7YbHy7"
      }
    },
    {
      "cell_type": "code",
      "source": [
        "print(\"SVM Accuracy Score:\",accuracy_score(y_test_std,y_pred_pca))"
      ],
      "metadata": {
        "colab": {
          "base_uri": "https://localhost:8080/"
        },
        "id": "KVfVTJplbLvL",
        "outputId": "da996f5b-b9ba-4d07-b774-fcaf5cac748a"
      },
      "execution_count": 51,
      "outputs": [
        {
          "output_type": "stream",
          "name": "stdout",
          "text": [
            "SVM Accuracy Score: 0.7321428571428571\n"
          ]
        }
      ]
    },
    {
      "cell_type": "code",
      "source": [
        "print(\"Decision Tree Accuracy Score:\",accuracy_score(y_test_std,y_pred2_pca))"
      ],
      "metadata": {
        "colab": {
          "base_uri": "https://localhost:8080/"
        },
        "id": "nMIzj5f8cFh6",
        "outputId": "fa94c152-cbdc-47b7-9ed1-d4f39d53c2c2"
      },
      "execution_count": 52,
      "outputs": [
        {
          "output_type": "stream",
          "name": "stdout",
          "text": [
            "Decision Tree Accuracy Score: 0.7\n"
          ]
        }
      ]
    },
    {
      "cell_type": "code",
      "source": [
        "print(\"SVM Sensitivity:\", recall_score(y_test_std,y_pred_pca,average='weighted'))"
      ],
      "metadata": {
        "colab": {
          "base_uri": "https://localhost:8080/"
        },
        "id": "HfqK4FzkLvw4",
        "outputId": "ac8e3b67-1f69-4efd-deac-8cbf9579a442"
      },
      "execution_count": 56,
      "outputs": [
        {
          "output_type": "stream",
          "name": "stdout",
          "text": [
            "SVM Sensitivity: 0.7321428571428571\n"
          ]
        }
      ]
    },
    {
      "cell_type": "code",
      "source": [
        "print(\"Decision Tree Sensitivity:\", recall_score(y_test_std,y_pred2_pca,average='weighted'))"
      ],
      "metadata": {
        "colab": {
          "base_uri": "https://localhost:8080/"
        },
        "id": "zHKlqFAVMsvu",
        "outputId": "1a470f12-6a71-4900-9eee-9b25be86be06"
      },
      "execution_count": 57,
      "outputs": [
        {
          "output_type": "stream",
          "name": "stdout",
          "text": [
            "Decision Tree Sensitivity: 0.7\n"
          ]
        }
      ]
    },
    {
      "cell_type": "code",
      "source": [
        "print(\"F1-Score SVM:\", f1_score(y_test_std,y_pred_pca,average='weighted'))"
      ],
      "metadata": {
        "colab": {
          "base_uri": "https://localhost:8080/"
        },
        "id": "dNc25CZxMxtD",
        "outputId": "70a4150e-0692-4aa9-a5d2-c0db635a5645"
      },
      "execution_count": 60,
      "outputs": [
        {
          "output_type": "stream",
          "name": "stdout",
          "text": [
            "F1-Score SVM: 0.6189248895434462\n"
          ]
        }
      ]
    },
    {
      "cell_type": "code",
      "source": [
        "print(\"F1-Score Decision Tree:\", f1_score(y_test_std,y_pred2_pca,average='weighted'))"
      ],
      "metadata": {
        "colab": {
          "base_uri": "https://localhost:8080/"
        },
        "id": "0cBTP-ItNVu5",
        "outputId": "47934f9a-6b56-4415-a485-2b1626477913"
      },
      "execution_count": 61,
      "outputs": [
        {
          "output_type": "stream",
          "name": "stdout",
          "text": [
            "F1-Score Decision Tree: 0.6291829586184426\n"
          ]
        }
      ]
    },
    {
      "cell_type": "markdown",
      "source": [
        "Without Standardized Data"
      ],
      "metadata": {
        "id": "NpNqO_2uNc_m"
      }
    },
    {
      "cell_type": "code",
      "source": [
        "print(\"SVM Accuracy Score:\",accuracy_score(y_test,y_pred_pca_nstd))"
      ],
      "metadata": {
        "colab": {
          "base_uri": "https://localhost:8080/"
        },
        "id": "0vvBB_kRNjcK",
        "outputId": "aa2505b1-9a5c-40b4-ffba-a65e19d27c55"
      },
      "execution_count": 62,
      "outputs": [
        {
          "output_type": "stream",
          "name": "stdout",
          "text": [
            "SVM Accuracy Score: 0.75\n"
          ]
        }
      ]
    },
    {
      "cell_type": "code",
      "source": [
        "print(\"Decision Tree Accuracy Score:\",accuracy_score(y_test,y_pred2_pca_nstd))"
      ],
      "metadata": {
        "colab": {
          "base_uri": "https://localhost:8080/"
        },
        "id": "ts4Ii0tTNwM5",
        "outputId": "74272b12-6b0a-4f76-cb47-19f03a33846e"
      },
      "execution_count": 63,
      "outputs": [
        {
          "output_type": "stream",
          "name": "stdout",
          "text": [
            "SVM Accuracy Score: 0.525\n"
          ]
        }
      ]
    },
    {
      "cell_type": "code",
      "source": [
        "print(\"SVM Sensitivity:\", recall_score(y_test,y_pred_pca_nstd,average='weighted'))"
      ],
      "metadata": {
        "colab": {
          "base_uri": "https://localhost:8080/"
        },
        "id": "3AUP36slN488",
        "outputId": "49ab9010-60aa-4630-c45f-07cc464e3314"
      },
      "execution_count": 65,
      "outputs": [
        {
          "output_type": "stream",
          "name": "stdout",
          "text": [
            "SVM Sensitivity: 0.75\n"
          ]
        }
      ]
    },
    {
      "cell_type": "code",
      "source": [
        "print(\"Decision Tree Sensitivity:\", recall_score(y_test,y_pred2_pca_nstd,average='weighted'))"
      ],
      "metadata": {
        "colab": {
          "base_uri": "https://localhost:8080/"
        },
        "id": "wvx19YGNOFyv",
        "outputId": "6849d454-98db-4421-daaa-d76373fe7140"
      },
      "execution_count": 66,
      "outputs": [
        {
          "output_type": "stream",
          "name": "stdout",
          "text": [
            "SVM Sensitivity: 0.525\n"
          ]
        }
      ]
    },
    {
      "cell_type": "code",
      "source": [
        "print(\"F1-Score SVM:\", f1_score(y_test,y_pred_pca_nstd,average='weighted'))"
      ],
      "metadata": {
        "colab": {
          "base_uri": "https://localhost:8080/"
        },
        "id": "9u7elzB0OIdC",
        "outputId": "8c616327-dbd9-4d52-d93c-872867aab856"
      },
      "execution_count": 67,
      "outputs": [
        {
          "output_type": "stream",
          "name": "stdout",
          "text": [
            "F1-Score SVM: 0.6428571428571429\n"
          ]
        }
      ]
    },
    {
      "cell_type": "code",
      "source": [
        "print(\"F1-Score Decision Tree:\", f1_score(y_test,y_pred2_pca_nstd,average='weighted'))"
      ],
      "metadata": {
        "colab": {
          "base_uri": "https://localhost:8080/"
        },
        "id": "01po-J0COYTE",
        "outputId": "1a675a10-6210-4896-ebb8-457e2c1bcb31"
      },
      "execution_count": 68,
      "outputs": [
        {
          "output_type": "stream",
          "name": "stdout",
          "text": [
            "F1-Score Decision Tree: 0.5428837346008697\n"
          ]
        }
      ]
    },
    {
      "cell_type": "markdown",
      "source": [
        "#Question 2"
      ],
      "metadata": {
        "id": "1vRfBPkQOgoN"
      }
    },
    {
      "cell_type": "code",
      "source": [
        "df2 = pd.read_csv('/content/drive/MyDrive/Lab_Data/wine.csv')\n",
        "df2"
      ],
      "metadata": {
        "colab": {
          "base_uri": "https://localhost:8080/",
          "height": 485
        },
        "id": "WoQEtBPdOjYS",
        "outputId": "44075566-1536-4539-ece1-d5e1a6b5ef25"
      },
      "execution_count": 117,
      "outputs": [
        {
          "output_type": "execute_result",
          "data": {
            "text/plain": [
              "     class  Alcohol  Malic acid   Ash  Alcalinity of ash  Magnesium  \\\n",
              "0        1    14.23        1.71  2.43               15.6        127   \n",
              "1        1    13.20        1.78  2.14               11.2        100   \n",
              "2        1    13.16        2.36  2.67               18.6        101   \n",
              "3        1    14.37        1.95  2.50               16.8        113   \n",
              "4        1    13.24        2.59  2.87               21.0        118   \n",
              "..     ...      ...         ...   ...                ...        ...   \n",
              "173      3    13.71        5.65  2.45               20.5         95   \n",
              "174      3    13.40        3.91  2.48               23.0        102   \n",
              "175      3    13.27        4.28  2.26               20.0        120   \n",
              "176      3    13.17        2.59  2.37               20.0        120   \n",
              "177      3    14.13        4.10  2.74               24.5         96   \n",
              "\n",
              "     Total phenols  Flavanoids  Nonflavanoid phenols  Proanthocyanins  \\\n",
              "0             2.80        3.06                  0.28             2.29   \n",
              "1             2.65        2.76                  0.26             1.28   \n",
              "2             2.80        3.24                  0.30             2.81   \n",
              "3             3.85        3.49                  0.24             2.18   \n",
              "4             2.80        2.69                  0.39             1.82   \n",
              "..             ...         ...                   ...              ...   \n",
              "173           1.68        0.61                  0.52             1.06   \n",
              "174           1.80        0.75                  0.43             1.41   \n",
              "175           1.59        0.69                  0.43             1.35   \n",
              "176           1.65        0.68                  0.53             1.46   \n",
              "177           2.05        0.76                  0.56             1.35   \n",
              "\n",
              "     Color intensity   Hue  OD280/OD315 of diluted wines  Proline  \n",
              "0               5.64  1.04                          3.92     1065  \n",
              "1               4.38  1.05                          3.40     1050  \n",
              "2               5.68  1.03                          3.17     1185  \n",
              "3               7.80  0.86                          3.45     1480  \n",
              "4               4.32  1.04                          2.93      735  \n",
              "..               ...   ...                           ...      ...  \n",
              "173             7.70  0.64                          1.74      740  \n",
              "174             7.30  0.70                          1.56      750  \n",
              "175            10.20  0.59                          1.56      835  \n",
              "176             9.30  0.60                          1.62      840  \n",
              "177             9.20  0.61                          1.60      560  \n",
              "\n",
              "[178 rows x 14 columns]"
            ],
            "text/html": [
              "\n",
              "  <div id=\"df-f94b0b55-e8f0-4d48-afa3-51a485f73903\">\n",
              "    <div class=\"colab-df-container\">\n",
              "      <div>\n",
              "<style scoped>\n",
              "    .dataframe tbody tr th:only-of-type {\n",
              "        vertical-align: middle;\n",
              "    }\n",
              "\n",
              "    .dataframe tbody tr th {\n",
              "        vertical-align: top;\n",
              "    }\n",
              "\n",
              "    .dataframe thead th {\n",
              "        text-align: right;\n",
              "    }\n",
              "</style>\n",
              "<table border=\"1\" class=\"dataframe\">\n",
              "  <thead>\n",
              "    <tr style=\"text-align: right;\">\n",
              "      <th></th>\n",
              "      <th>class</th>\n",
              "      <th>Alcohol</th>\n",
              "      <th>Malic acid</th>\n",
              "      <th>Ash</th>\n",
              "      <th>Alcalinity of ash</th>\n",
              "      <th>Magnesium</th>\n",
              "      <th>Total phenols</th>\n",
              "      <th>Flavanoids</th>\n",
              "      <th>Nonflavanoid phenols</th>\n",
              "      <th>Proanthocyanins</th>\n",
              "      <th>Color intensity</th>\n",
              "      <th>Hue</th>\n",
              "      <th>OD280/OD315 of diluted wines</th>\n",
              "      <th>Proline</th>\n",
              "    </tr>\n",
              "  </thead>\n",
              "  <tbody>\n",
              "    <tr>\n",
              "      <th>0</th>\n",
              "      <td>1</td>\n",
              "      <td>14.23</td>\n",
              "      <td>1.71</td>\n",
              "      <td>2.43</td>\n",
              "      <td>15.6</td>\n",
              "      <td>127</td>\n",
              "      <td>2.80</td>\n",
              "      <td>3.06</td>\n",
              "      <td>0.28</td>\n",
              "      <td>2.29</td>\n",
              "      <td>5.64</td>\n",
              "      <td>1.04</td>\n",
              "      <td>3.92</td>\n",
              "      <td>1065</td>\n",
              "    </tr>\n",
              "    <tr>\n",
              "      <th>1</th>\n",
              "      <td>1</td>\n",
              "      <td>13.20</td>\n",
              "      <td>1.78</td>\n",
              "      <td>2.14</td>\n",
              "      <td>11.2</td>\n",
              "      <td>100</td>\n",
              "      <td>2.65</td>\n",
              "      <td>2.76</td>\n",
              "      <td>0.26</td>\n",
              "      <td>1.28</td>\n",
              "      <td>4.38</td>\n",
              "      <td>1.05</td>\n",
              "      <td>3.40</td>\n",
              "      <td>1050</td>\n",
              "    </tr>\n",
              "    <tr>\n",
              "      <th>2</th>\n",
              "      <td>1</td>\n",
              "      <td>13.16</td>\n",
              "      <td>2.36</td>\n",
              "      <td>2.67</td>\n",
              "      <td>18.6</td>\n",
              "      <td>101</td>\n",
              "      <td>2.80</td>\n",
              "      <td>3.24</td>\n",
              "      <td>0.30</td>\n",
              "      <td>2.81</td>\n",
              "      <td>5.68</td>\n",
              "      <td>1.03</td>\n",
              "      <td>3.17</td>\n",
              "      <td>1185</td>\n",
              "    </tr>\n",
              "    <tr>\n",
              "      <th>3</th>\n",
              "      <td>1</td>\n",
              "      <td>14.37</td>\n",
              "      <td>1.95</td>\n",
              "      <td>2.50</td>\n",
              "      <td>16.8</td>\n",
              "      <td>113</td>\n",
              "      <td>3.85</td>\n",
              "      <td>3.49</td>\n",
              "      <td>0.24</td>\n",
              "      <td>2.18</td>\n",
              "      <td>7.80</td>\n",
              "      <td>0.86</td>\n",
              "      <td>3.45</td>\n",
              "      <td>1480</td>\n",
              "    </tr>\n",
              "    <tr>\n",
              "      <th>4</th>\n",
              "      <td>1</td>\n",
              "      <td>13.24</td>\n",
              "      <td>2.59</td>\n",
              "      <td>2.87</td>\n",
              "      <td>21.0</td>\n",
              "      <td>118</td>\n",
              "      <td>2.80</td>\n",
              "      <td>2.69</td>\n",
              "      <td>0.39</td>\n",
              "      <td>1.82</td>\n",
              "      <td>4.32</td>\n",
              "      <td>1.04</td>\n",
              "      <td>2.93</td>\n",
              "      <td>735</td>\n",
              "    </tr>\n",
              "    <tr>\n",
              "      <th>...</th>\n",
              "      <td>...</td>\n",
              "      <td>...</td>\n",
              "      <td>...</td>\n",
              "      <td>...</td>\n",
              "      <td>...</td>\n",
              "      <td>...</td>\n",
              "      <td>...</td>\n",
              "      <td>...</td>\n",
              "      <td>...</td>\n",
              "      <td>...</td>\n",
              "      <td>...</td>\n",
              "      <td>...</td>\n",
              "      <td>...</td>\n",
              "      <td>...</td>\n",
              "    </tr>\n",
              "    <tr>\n",
              "      <th>173</th>\n",
              "      <td>3</td>\n",
              "      <td>13.71</td>\n",
              "      <td>5.65</td>\n",
              "      <td>2.45</td>\n",
              "      <td>20.5</td>\n",
              "      <td>95</td>\n",
              "      <td>1.68</td>\n",
              "      <td>0.61</td>\n",
              "      <td>0.52</td>\n",
              "      <td>1.06</td>\n",
              "      <td>7.70</td>\n",
              "      <td>0.64</td>\n",
              "      <td>1.74</td>\n",
              "      <td>740</td>\n",
              "    </tr>\n",
              "    <tr>\n",
              "      <th>174</th>\n",
              "      <td>3</td>\n",
              "      <td>13.40</td>\n",
              "      <td>3.91</td>\n",
              "      <td>2.48</td>\n",
              "      <td>23.0</td>\n",
              "      <td>102</td>\n",
              "      <td>1.80</td>\n",
              "      <td>0.75</td>\n",
              "      <td>0.43</td>\n",
              "      <td>1.41</td>\n",
              "      <td>7.30</td>\n",
              "      <td>0.70</td>\n",
              "      <td>1.56</td>\n",
              "      <td>750</td>\n",
              "    </tr>\n",
              "    <tr>\n",
              "      <th>175</th>\n",
              "      <td>3</td>\n",
              "      <td>13.27</td>\n",
              "      <td>4.28</td>\n",
              "      <td>2.26</td>\n",
              "      <td>20.0</td>\n",
              "      <td>120</td>\n",
              "      <td>1.59</td>\n",
              "      <td>0.69</td>\n",
              "      <td>0.43</td>\n",
              "      <td>1.35</td>\n",
              "      <td>10.20</td>\n",
              "      <td>0.59</td>\n",
              "      <td>1.56</td>\n",
              "      <td>835</td>\n",
              "    </tr>\n",
              "    <tr>\n",
              "      <th>176</th>\n",
              "      <td>3</td>\n",
              "      <td>13.17</td>\n",
              "      <td>2.59</td>\n",
              "      <td>2.37</td>\n",
              "      <td>20.0</td>\n",
              "      <td>120</td>\n",
              "      <td>1.65</td>\n",
              "      <td>0.68</td>\n",
              "      <td>0.53</td>\n",
              "      <td>1.46</td>\n",
              "      <td>9.30</td>\n",
              "      <td>0.60</td>\n",
              "      <td>1.62</td>\n",
              "      <td>840</td>\n",
              "    </tr>\n",
              "    <tr>\n",
              "      <th>177</th>\n",
              "      <td>3</td>\n",
              "      <td>14.13</td>\n",
              "      <td>4.10</td>\n",
              "      <td>2.74</td>\n",
              "      <td>24.5</td>\n",
              "      <td>96</td>\n",
              "      <td>2.05</td>\n",
              "      <td>0.76</td>\n",
              "      <td>0.56</td>\n",
              "      <td>1.35</td>\n",
              "      <td>9.20</td>\n",
              "      <td>0.61</td>\n",
              "      <td>1.60</td>\n",
              "      <td>560</td>\n",
              "    </tr>\n",
              "  </tbody>\n",
              "</table>\n",
              "<p>178 rows × 14 columns</p>\n",
              "</div>\n",
              "      <button class=\"colab-df-convert\" onclick=\"convertToInteractive('df-f94b0b55-e8f0-4d48-afa3-51a485f73903')\"\n",
              "              title=\"Convert this dataframe to an interactive table.\"\n",
              "              style=\"display:none;\">\n",
              "        \n",
              "  <svg xmlns=\"http://www.w3.org/2000/svg\" height=\"24px\"viewBox=\"0 0 24 24\"\n",
              "       width=\"24px\">\n",
              "    <path d=\"M0 0h24v24H0V0z\" fill=\"none\"/>\n",
              "    <path d=\"M18.56 5.44l.94 2.06.94-2.06 2.06-.94-2.06-.94-.94-2.06-.94 2.06-2.06.94zm-11 1L8.5 8.5l.94-2.06 2.06-.94-2.06-.94L8.5 2.5l-.94 2.06-2.06.94zm10 10l.94 2.06.94-2.06 2.06-.94-2.06-.94-.94-2.06-.94 2.06-2.06.94z\"/><path d=\"M17.41 7.96l-1.37-1.37c-.4-.4-.92-.59-1.43-.59-.52 0-1.04.2-1.43.59L10.3 9.45l-7.72 7.72c-.78.78-.78 2.05 0 2.83L4 21.41c.39.39.9.59 1.41.59.51 0 1.02-.2 1.41-.59l7.78-7.78 2.81-2.81c.8-.78.8-2.07 0-2.86zM5.41 20L4 18.59l7.72-7.72 1.47 1.35L5.41 20z\"/>\n",
              "  </svg>\n",
              "      </button>\n",
              "      \n",
              "  <style>\n",
              "    .colab-df-container {\n",
              "      display:flex;\n",
              "      flex-wrap:wrap;\n",
              "      gap: 12px;\n",
              "    }\n",
              "\n",
              "    .colab-df-convert {\n",
              "      background-color: #E8F0FE;\n",
              "      border: none;\n",
              "      border-radius: 50%;\n",
              "      cursor: pointer;\n",
              "      display: none;\n",
              "      fill: #1967D2;\n",
              "      height: 32px;\n",
              "      padding: 0 0 0 0;\n",
              "      width: 32px;\n",
              "    }\n",
              "\n",
              "    .colab-df-convert:hover {\n",
              "      background-color: #E2EBFA;\n",
              "      box-shadow: 0px 1px 2px rgba(60, 64, 67, 0.3), 0px 1px 3px 1px rgba(60, 64, 67, 0.15);\n",
              "      fill: #174EA6;\n",
              "    }\n",
              "\n",
              "    [theme=dark] .colab-df-convert {\n",
              "      background-color: #3B4455;\n",
              "      fill: #D2E3FC;\n",
              "    }\n",
              "\n",
              "    [theme=dark] .colab-df-convert:hover {\n",
              "      background-color: #434B5C;\n",
              "      box-shadow: 0px 1px 3px 1px rgba(0, 0, 0, 0.15);\n",
              "      filter: drop-shadow(0px 1px 2px rgba(0, 0, 0, 0.3));\n",
              "      fill: #FFFFFF;\n",
              "    }\n",
              "  </style>\n",
              "\n",
              "      <script>\n",
              "        const buttonEl =\n",
              "          document.querySelector('#df-f94b0b55-e8f0-4d48-afa3-51a485f73903 button.colab-df-convert');\n",
              "        buttonEl.style.display =\n",
              "          google.colab.kernel.accessAllowed ? 'block' : 'none';\n",
              "\n",
              "        async function convertToInteractive(key) {\n",
              "          const element = document.querySelector('#df-f94b0b55-e8f0-4d48-afa3-51a485f73903');\n",
              "          const dataTable =\n",
              "            await google.colab.kernel.invokeFunction('convertToInteractive',\n",
              "                                                     [key], {});\n",
              "          if (!dataTable) return;\n",
              "\n",
              "          const docLinkHtml = 'Like what you see? Visit the ' +\n",
              "            '<a target=\"_blank\" href=https://colab.research.google.com/notebooks/data_table.ipynb>data table notebook</a>'\n",
              "            + ' to learn more about interactive tables.';\n",
              "          element.innerHTML = '';\n",
              "          dataTable['output_type'] = 'display_data';\n",
              "          await google.colab.output.renderOutput(dataTable, element);\n",
              "          const docLink = document.createElement('div');\n",
              "          docLink.innerHTML = docLinkHtml;\n",
              "          element.appendChild(docLink);\n",
              "        }\n",
              "      </script>\n",
              "    </div>\n",
              "  </div>\n",
              "  "
            ]
          },
          "metadata": {},
          "execution_count": 117
        }
      ]
    },
    {
      "cell_type": "code",
      "source": [
        "X = df2.drop('class',axis=1)\n",
        "y = df2['class']"
      ],
      "metadata": {
        "id": "5mid7Bn6SIur"
      },
      "execution_count": 118,
      "outputs": []
    },
    {
      "cell_type": "code",
      "source": [
        "X = normalize(X)\n",
        "X"
      ],
      "metadata": {
        "colab": {
          "base_uri": "https://localhost:8080/",
          "height": 485
        },
        "id": "syfo__SGSdCz",
        "outputId": "fc7831ec-acc1-408c-a2a0-8f05a8c4f8df"
      },
      "execution_count": 119,
      "outputs": [
        {
          "output_type": "execute_result",
          "data": {
            "text/plain": [
              "      Alcohol  Malic acid       Ash  Alcalinity of ash  Magnesium  \\\n",
              "0    1.514341   -0.560668  0.231400          -1.166303   1.908522   \n",
              "1    0.245597   -0.498009 -0.825667          -2.483841   0.018094   \n",
              "2    0.196325    0.021172  1.106214          -0.267982   0.088110   \n",
              "3    1.686791   -0.345835  0.486554          -0.806975   0.928300   \n",
              "4    0.294868    0.227053  1.835226           0.450674   1.278379   \n",
              "..        ...         ...       ...                ...        ...   \n",
              "173  0.873810    2.966176  0.304301           0.300954  -0.331985   \n",
              "174  0.491955    1.408636  0.413653           1.049555   0.158126   \n",
              "175  0.331822    1.739837 -0.388260           0.151234   1.418411   \n",
              "176  0.208643    0.227053  0.012696           0.151234   1.418411   \n",
              "177  1.391162    1.578712  1.361368           1.498716  -0.261969   \n",
              "\n",
              "     Total phenols  Flavanoids  Nonflavanoid phenols  Proanthocyanins  \\\n",
              "0         0.806722    1.031908             -0.657708         1.221438   \n",
              "1         0.567048    0.731565             -0.818411        -0.543189   \n",
              "2         0.806722    1.212114             -0.497005         2.129959   \n",
              "3         2.484437    1.462399             -0.979113         1.029251   \n",
              "4         0.806722    0.661485              0.226158         0.400275   \n",
              "..             ...         ...                   ...              ...   \n",
              "173      -0.982841   -1.420891              1.270726        -0.927563   \n",
              "174      -0.791103   -1.280731              0.547563        -0.316058   \n",
              "175      -1.126646   -1.340800              0.547563        -0.420888   \n",
              "176      -1.030776   -1.350811              1.351077        -0.228701   \n",
              "177      -0.391646   -1.270720              1.592131        -0.420888   \n",
              "\n",
              "     Color intensity       Hue  OD280/OD315 of diluted wines   Proline  \n",
              "0           0.251009  0.361158                      1.842721  1.010159  \n",
              "1          -0.292496  0.404908                      1.110317  0.962526  \n",
              "2           0.268263  0.317409                      0.786369  1.391224  \n",
              "3           1.182732 -0.426341                      1.180741  2.328007  \n",
              "4          -0.318377  0.361158                      0.448336 -0.037767  \n",
              "..               ...       ...                           ...       ...  \n",
              "173         1.139596 -1.388840                     -1.227742 -0.021890  \n",
              "174         0.967055 -1.126341                     -1.481267  0.009866  \n",
              "175         2.217979 -1.607590                     -1.481267  0.279786  \n",
              "176         1.829761 -1.563840                     -1.396759  0.295664  \n",
              "177         1.786626 -1.520090                     -1.424928 -0.593486  \n",
              "\n",
              "[178 rows x 13 columns]"
            ],
            "text/html": [
              "\n",
              "  <div id=\"df-1ca4b531-65c3-4b32-9a03-237b374e87b3\">\n",
              "    <div class=\"colab-df-container\">\n",
              "      <div>\n",
              "<style scoped>\n",
              "    .dataframe tbody tr th:only-of-type {\n",
              "        vertical-align: middle;\n",
              "    }\n",
              "\n",
              "    .dataframe tbody tr th {\n",
              "        vertical-align: top;\n",
              "    }\n",
              "\n",
              "    .dataframe thead th {\n",
              "        text-align: right;\n",
              "    }\n",
              "</style>\n",
              "<table border=\"1\" class=\"dataframe\">\n",
              "  <thead>\n",
              "    <tr style=\"text-align: right;\">\n",
              "      <th></th>\n",
              "      <th>Alcohol</th>\n",
              "      <th>Malic acid</th>\n",
              "      <th>Ash</th>\n",
              "      <th>Alcalinity of ash</th>\n",
              "      <th>Magnesium</th>\n",
              "      <th>Total phenols</th>\n",
              "      <th>Flavanoids</th>\n",
              "      <th>Nonflavanoid phenols</th>\n",
              "      <th>Proanthocyanins</th>\n",
              "      <th>Color intensity</th>\n",
              "      <th>Hue</th>\n",
              "      <th>OD280/OD315 of diluted wines</th>\n",
              "      <th>Proline</th>\n",
              "    </tr>\n",
              "  </thead>\n",
              "  <tbody>\n",
              "    <tr>\n",
              "      <th>0</th>\n",
              "      <td>1.514341</td>\n",
              "      <td>-0.560668</td>\n",
              "      <td>0.231400</td>\n",
              "      <td>-1.166303</td>\n",
              "      <td>1.908522</td>\n",
              "      <td>0.806722</td>\n",
              "      <td>1.031908</td>\n",
              "      <td>-0.657708</td>\n",
              "      <td>1.221438</td>\n",
              "      <td>0.251009</td>\n",
              "      <td>0.361158</td>\n",
              "      <td>1.842721</td>\n",
              "      <td>1.010159</td>\n",
              "    </tr>\n",
              "    <tr>\n",
              "      <th>1</th>\n",
              "      <td>0.245597</td>\n",
              "      <td>-0.498009</td>\n",
              "      <td>-0.825667</td>\n",
              "      <td>-2.483841</td>\n",
              "      <td>0.018094</td>\n",
              "      <td>0.567048</td>\n",
              "      <td>0.731565</td>\n",
              "      <td>-0.818411</td>\n",
              "      <td>-0.543189</td>\n",
              "      <td>-0.292496</td>\n",
              "      <td>0.404908</td>\n",
              "      <td>1.110317</td>\n",
              "      <td>0.962526</td>\n",
              "    </tr>\n",
              "    <tr>\n",
              "      <th>2</th>\n",
              "      <td>0.196325</td>\n",
              "      <td>0.021172</td>\n",
              "      <td>1.106214</td>\n",
              "      <td>-0.267982</td>\n",
              "      <td>0.088110</td>\n",
              "      <td>0.806722</td>\n",
              "      <td>1.212114</td>\n",
              "      <td>-0.497005</td>\n",
              "      <td>2.129959</td>\n",
              "      <td>0.268263</td>\n",
              "      <td>0.317409</td>\n",
              "      <td>0.786369</td>\n",
              "      <td>1.391224</td>\n",
              "    </tr>\n",
              "    <tr>\n",
              "      <th>3</th>\n",
              "      <td>1.686791</td>\n",
              "      <td>-0.345835</td>\n",
              "      <td>0.486554</td>\n",
              "      <td>-0.806975</td>\n",
              "      <td>0.928300</td>\n",
              "      <td>2.484437</td>\n",
              "      <td>1.462399</td>\n",
              "      <td>-0.979113</td>\n",
              "      <td>1.029251</td>\n",
              "      <td>1.182732</td>\n",
              "      <td>-0.426341</td>\n",
              "      <td>1.180741</td>\n",
              "      <td>2.328007</td>\n",
              "    </tr>\n",
              "    <tr>\n",
              "      <th>4</th>\n",
              "      <td>0.294868</td>\n",
              "      <td>0.227053</td>\n",
              "      <td>1.835226</td>\n",
              "      <td>0.450674</td>\n",
              "      <td>1.278379</td>\n",
              "      <td>0.806722</td>\n",
              "      <td>0.661485</td>\n",
              "      <td>0.226158</td>\n",
              "      <td>0.400275</td>\n",
              "      <td>-0.318377</td>\n",
              "      <td>0.361158</td>\n",
              "      <td>0.448336</td>\n",
              "      <td>-0.037767</td>\n",
              "    </tr>\n",
              "    <tr>\n",
              "      <th>...</th>\n",
              "      <td>...</td>\n",
              "      <td>...</td>\n",
              "      <td>...</td>\n",
              "      <td>...</td>\n",
              "      <td>...</td>\n",
              "      <td>...</td>\n",
              "      <td>...</td>\n",
              "      <td>...</td>\n",
              "      <td>...</td>\n",
              "      <td>...</td>\n",
              "      <td>...</td>\n",
              "      <td>...</td>\n",
              "      <td>...</td>\n",
              "    </tr>\n",
              "    <tr>\n",
              "      <th>173</th>\n",
              "      <td>0.873810</td>\n",
              "      <td>2.966176</td>\n",
              "      <td>0.304301</td>\n",
              "      <td>0.300954</td>\n",
              "      <td>-0.331985</td>\n",
              "      <td>-0.982841</td>\n",
              "      <td>-1.420891</td>\n",
              "      <td>1.270726</td>\n",
              "      <td>-0.927563</td>\n",
              "      <td>1.139596</td>\n",
              "      <td>-1.388840</td>\n",
              "      <td>-1.227742</td>\n",
              "      <td>-0.021890</td>\n",
              "    </tr>\n",
              "    <tr>\n",
              "      <th>174</th>\n",
              "      <td>0.491955</td>\n",
              "      <td>1.408636</td>\n",
              "      <td>0.413653</td>\n",
              "      <td>1.049555</td>\n",
              "      <td>0.158126</td>\n",
              "      <td>-0.791103</td>\n",
              "      <td>-1.280731</td>\n",
              "      <td>0.547563</td>\n",
              "      <td>-0.316058</td>\n",
              "      <td>0.967055</td>\n",
              "      <td>-1.126341</td>\n",
              "      <td>-1.481267</td>\n",
              "      <td>0.009866</td>\n",
              "    </tr>\n",
              "    <tr>\n",
              "      <th>175</th>\n",
              "      <td>0.331822</td>\n",
              "      <td>1.739837</td>\n",
              "      <td>-0.388260</td>\n",
              "      <td>0.151234</td>\n",
              "      <td>1.418411</td>\n",
              "      <td>-1.126646</td>\n",
              "      <td>-1.340800</td>\n",
              "      <td>0.547563</td>\n",
              "      <td>-0.420888</td>\n",
              "      <td>2.217979</td>\n",
              "      <td>-1.607590</td>\n",
              "      <td>-1.481267</td>\n",
              "      <td>0.279786</td>\n",
              "    </tr>\n",
              "    <tr>\n",
              "      <th>176</th>\n",
              "      <td>0.208643</td>\n",
              "      <td>0.227053</td>\n",
              "      <td>0.012696</td>\n",
              "      <td>0.151234</td>\n",
              "      <td>1.418411</td>\n",
              "      <td>-1.030776</td>\n",
              "      <td>-1.350811</td>\n",
              "      <td>1.351077</td>\n",
              "      <td>-0.228701</td>\n",
              "      <td>1.829761</td>\n",
              "      <td>-1.563840</td>\n",
              "      <td>-1.396759</td>\n",
              "      <td>0.295664</td>\n",
              "    </tr>\n",
              "    <tr>\n",
              "      <th>177</th>\n",
              "      <td>1.391162</td>\n",
              "      <td>1.578712</td>\n",
              "      <td>1.361368</td>\n",
              "      <td>1.498716</td>\n",
              "      <td>-0.261969</td>\n",
              "      <td>-0.391646</td>\n",
              "      <td>-1.270720</td>\n",
              "      <td>1.592131</td>\n",
              "      <td>-0.420888</td>\n",
              "      <td>1.786626</td>\n",
              "      <td>-1.520090</td>\n",
              "      <td>-1.424928</td>\n",
              "      <td>-0.593486</td>\n",
              "    </tr>\n",
              "  </tbody>\n",
              "</table>\n",
              "<p>178 rows × 13 columns</p>\n",
              "</div>\n",
              "      <button class=\"colab-df-convert\" onclick=\"convertToInteractive('df-1ca4b531-65c3-4b32-9a03-237b374e87b3')\"\n",
              "              title=\"Convert this dataframe to an interactive table.\"\n",
              "              style=\"display:none;\">\n",
              "        \n",
              "  <svg xmlns=\"http://www.w3.org/2000/svg\" height=\"24px\"viewBox=\"0 0 24 24\"\n",
              "       width=\"24px\">\n",
              "    <path d=\"M0 0h24v24H0V0z\" fill=\"none\"/>\n",
              "    <path d=\"M18.56 5.44l.94 2.06.94-2.06 2.06-.94-2.06-.94-.94-2.06-.94 2.06-2.06.94zm-11 1L8.5 8.5l.94-2.06 2.06-.94-2.06-.94L8.5 2.5l-.94 2.06-2.06.94zm10 10l.94 2.06.94-2.06 2.06-.94-2.06-.94-.94-2.06-.94 2.06-2.06.94z\"/><path d=\"M17.41 7.96l-1.37-1.37c-.4-.4-.92-.59-1.43-.59-.52 0-1.04.2-1.43.59L10.3 9.45l-7.72 7.72c-.78.78-.78 2.05 0 2.83L4 21.41c.39.39.9.59 1.41.59.51 0 1.02-.2 1.41-.59l7.78-7.78 2.81-2.81c.8-.78.8-2.07 0-2.86zM5.41 20L4 18.59l7.72-7.72 1.47 1.35L5.41 20z\"/>\n",
              "  </svg>\n",
              "      </button>\n",
              "      \n",
              "  <style>\n",
              "    .colab-df-container {\n",
              "      display:flex;\n",
              "      flex-wrap:wrap;\n",
              "      gap: 12px;\n",
              "    }\n",
              "\n",
              "    .colab-df-convert {\n",
              "      background-color: #E8F0FE;\n",
              "      border: none;\n",
              "      border-radius: 50%;\n",
              "      cursor: pointer;\n",
              "      display: none;\n",
              "      fill: #1967D2;\n",
              "      height: 32px;\n",
              "      padding: 0 0 0 0;\n",
              "      width: 32px;\n",
              "    }\n",
              "\n",
              "    .colab-df-convert:hover {\n",
              "      background-color: #E2EBFA;\n",
              "      box-shadow: 0px 1px 2px rgba(60, 64, 67, 0.3), 0px 1px 3px 1px rgba(60, 64, 67, 0.15);\n",
              "      fill: #174EA6;\n",
              "    }\n",
              "\n",
              "    [theme=dark] .colab-df-convert {\n",
              "      background-color: #3B4455;\n",
              "      fill: #D2E3FC;\n",
              "    }\n",
              "\n",
              "    [theme=dark] .colab-df-convert:hover {\n",
              "      background-color: #434B5C;\n",
              "      box-shadow: 0px 1px 3px 1px rgba(0, 0, 0, 0.15);\n",
              "      filter: drop-shadow(0px 1px 2px rgba(0, 0, 0, 0.3));\n",
              "      fill: #FFFFFF;\n",
              "    }\n",
              "  </style>\n",
              "\n",
              "      <script>\n",
              "        const buttonEl =\n",
              "          document.querySelector('#df-1ca4b531-65c3-4b32-9a03-237b374e87b3 button.colab-df-convert');\n",
              "        buttonEl.style.display =\n",
              "          google.colab.kernel.accessAllowed ? 'block' : 'none';\n",
              "\n",
              "        async function convertToInteractive(key) {\n",
              "          const element = document.querySelector('#df-1ca4b531-65c3-4b32-9a03-237b374e87b3');\n",
              "          const dataTable =\n",
              "            await google.colab.kernel.invokeFunction('convertToInteractive',\n",
              "                                                     [key], {});\n",
              "          if (!dataTable) return;\n",
              "\n",
              "          const docLinkHtml = 'Like what you see? Visit the ' +\n",
              "            '<a target=\"_blank\" href=https://colab.research.google.com/notebooks/data_table.ipynb>data table notebook</a>'\n",
              "            + ' to learn more about interactive tables.';\n",
              "          element.innerHTML = '';\n",
              "          dataTable['output_type'] = 'display_data';\n",
              "          await google.colab.output.renderOutput(dataTable, element);\n",
              "          const docLink = document.createElement('div');\n",
              "          docLink.innerHTML = docLinkHtml;\n",
              "          element.appendChild(docLink);\n",
              "        }\n",
              "      </script>\n",
              "    </div>\n",
              "  </div>\n",
              "  "
            ]
          },
          "metadata": {},
          "execution_count": 119
        }
      ]
    },
    {
      "cell_type": "code",
      "source": [
        "X_train, X_test, y_train, y_test = train_test_split(X, y, test_size=0.3, random_state=42)"
      ],
      "metadata": {
        "id": "ux8p9X78SiBg"
      },
      "execution_count": 120,
      "outputs": []
    },
    {
      "cell_type": "markdown",
      "source": [
        "#Part 1"
      ],
      "metadata": {
        "id": "0cBXxYX_RxZq"
      }
    },
    {
      "cell_type": "code",
      "source": [
        "class LDA:\n",
        "    def __init__(self, n_components):\n",
        "        self.n_components = n_components\n",
        "        self.linear_discriminants = None\n",
        "\n",
        "    def fit(self, X, y):\n",
        "        n_features = X.shape[1]\n",
        "        class_labels = np.unique(y)\n",
        "\n",
        "        # Within class scatter matrix:\n",
        "        # SW = sum((X_c - mean_X_c)^2 )\n",
        "\n",
        "        # Between class scatter:\n",
        "        # SB = sum( n_c * (mean_X_c - mean_overall)^2 )\n",
        "\n",
        "        mean_overall = np.mean(X, axis=0)\n",
        "        SW = np.zeros((n_features, n_features))\n",
        "        SB = np.zeros((n_features, n_features))\n",
        "        for c in class_labels:\n",
        "            X_c = X[y == c]\n",
        "            mean_c = np.mean(X_c, axis=0)\n",
        "            # (4, n_c) * (n_c, 4) = (4,4) -> transpose\n",
        "            SW += (X_c - mean_c).T.dot((X_c - mean_c))\n",
        "\n",
        "            # (4, 1) * (1, 4) = (4,4) -> reshape\n",
        "            n_c = X_c.shape[0]\n",
        "            mean_diff = (mean_c - mean_overall).reshape(n_features, 1)\n",
        "            SB += n_c * (mean_diff).dot(mean_diff.T)\n",
        "\n",
        "        # Determine SW^-1 * SB\n",
        "        A = np.linalg.inv(SW).dot(SB)\n",
        "        # Get eigenvalues and eigenvectors of SW^-1 * SB\n",
        "        eigenvalues, eigenvectors = np.linalg.eig(A)\n",
        "        # -> eigenvector v = [:,i] column vector, transpose for easier calculations\n",
        "        # sort eigenvalues high to low\n",
        "        eigenvectors = eigenvectors.T\n",
        "        idxs = np.argsort(abs(eigenvalues))[::-1]\n",
        "        eigenvalues = eigenvalues[idxs]\n",
        "        eigenvectors = eigenvectors[idxs]\n",
        "        # store first n eigenvectors\n",
        "        self.linear_discriminants = eigenvectors[0 : self.n_components]\n",
        "\n",
        "    def transform(self, X):\n",
        "        # project data\n",
        "        return np.dot(X, self.linear_discriminants.T)"
      ],
      "metadata": {
        "id": "7FiTLAdiQXyJ"
      },
      "execution_count": 121,
      "outputs": []
    },
    {
      "cell_type": "code",
      "source": [
        "lda = LDA(n_components=8)\n",
        "lda.fit(X_train.to_numpy(),y_train)\n",
        "X_train_lda = lda.transform(X_train)\n",
        "X_train_lda.shape"
      ],
      "metadata": {
        "colab": {
          "base_uri": "https://localhost:8080/"
        },
        "id": "VPqvaBivTu_6",
        "outputId": "439c8506-d96a-413b-e044-159e8fe384ea"
      },
      "execution_count": 140,
      "outputs": [
        {
          "output_type": "execute_result",
          "data": {
            "text/plain": [
              "(124, 8)"
            ]
          },
          "metadata": {},
          "execution_count": 140
        }
      ]
    },
    {
      "cell_type": "code",
      "source": [
        "X_train_lda = np.real(X_train_lda)\n",
        "X_train_lda.shape"
      ],
      "metadata": {
        "colab": {
          "base_uri": "https://localhost:8080/"
        },
        "id": "6RzicwZMVnt0",
        "outputId": "82a98a2e-08c1-45a9-a7d2-2d794f7a3409"
      },
      "execution_count": 141,
      "outputs": [
        {
          "output_type": "execute_result",
          "data": {
            "text/plain": [
              "(124, 8)"
            ]
          },
          "metadata": {},
          "execution_count": 141
        }
      ]
    },
    {
      "cell_type": "code",
      "source": [
        "lda.fit(X_test.to_numpy(),y_test)\n",
        "X_test_lda = lda.transform(X_test)\n",
        "X_test_lda.shape"
      ],
      "metadata": {
        "colab": {
          "base_uri": "https://localhost:8080/"
        },
        "id": "iQkYfwf5Uqb-",
        "outputId": "4dd3f37c-669b-4800-b836-2030bd80a32a"
      },
      "execution_count": 142,
      "outputs": [
        {
          "output_type": "execute_result",
          "data": {
            "text/plain": [
              "(54, 8)"
            ]
          },
          "metadata": {},
          "execution_count": 142
        }
      ]
    },
    {
      "cell_type": "code",
      "source": [
        "X_test_lda = np.real(X_test_lda)\n",
        "X_test_lda.shape"
      ],
      "metadata": {
        "colab": {
          "base_uri": "https://localhost:8080/"
        },
        "id": "5lnMFCE9Vhn3",
        "outputId": "fcfc6667-713f-4555-d298-4f43cb6ca11e"
      },
      "execution_count": 143,
      "outputs": [
        {
          "output_type": "execute_result",
          "data": {
            "text/plain": [
              "(54, 8)"
            ]
          },
          "metadata": {},
          "execution_count": 143
        }
      ]
    },
    {
      "cell_type": "code",
      "source": [
        "dtc = DecisionTreeClassifier()\n",
        "dtc.fit(X_train_lda, y_train)\n",
        "y_pred = dtc.predict(X_test_lda)\n",
        "dtc.score(X_test_lda,y_test)"
      ],
      "metadata": {
        "colab": {
          "base_uri": "https://localhost:8080/"
        },
        "id": "o3EQ9k74TlxD",
        "outputId": "5ca966e7-3c00-4d7f-bd5f-babcdc1d658a"
      },
      "execution_count": 144,
      "outputs": [
        {
          "output_type": "execute_result",
          "data": {
            "text/plain": [
              "1.0"
            ]
          },
          "metadata": {},
          "execution_count": 144
        }
      ]
    },
    {
      "cell_type": "code",
      "source": [
        "sup_vc = svm.SVC()\n",
        "sup_vc.fit(X_train_lda, y_train)\n",
        "y_pred_svc = sup_vc.predict(X_test_lda)\n",
        "sup_vc.score(X_test_lda,y_test)"
      ],
      "metadata": {
        "colab": {
          "base_uri": "https://localhost:8080/"
        },
        "id": "9ViJO2ElWr7v",
        "outputId": "8384e174-6089-4a93-fdf9-0181fa752fc9"
      },
      "execution_count": 145,
      "outputs": [
        {
          "output_type": "execute_result",
          "data": {
            "text/plain": [
              "1.0"
            ]
          },
          "metadata": {},
          "execution_count": 145
        }
      ]
    },
    {
      "cell_type": "markdown",
      "source": [
        "#Part 3"
      ],
      "metadata": {
        "id": "_uvBoj33Y3Cr"
      }
    },
    {
      "cell_type": "code",
      "source": [
        "X_train_pca = PCA(X_train.to_numpy(),8)\n",
        "X_train_pca.shape"
      ],
      "metadata": {
        "colab": {
          "base_uri": "https://localhost:8080/"
        },
        "id": "MDgM6NUyXrJA",
        "outputId": "912bf84b-4b03-48c7-8b01-4f897e9ab8ef"
      },
      "execution_count": 150,
      "outputs": [
        {
          "output_type": "execute_result",
          "data": {
            "text/plain": [
              "(124, 8)"
            ]
          },
          "metadata": {},
          "execution_count": 150
        }
      ]
    },
    {
      "cell_type": "code",
      "source": [
        "X_test_pca = PCA(X_test.to_numpy(),8)\n",
        "X_test_pca.shape"
      ],
      "metadata": {
        "colab": {
          "base_uri": "https://localhost:8080/"
        },
        "id": "Ud-2Ag_9X_wb",
        "outputId": "a4e31793-4430-4524-cf76-438e60813199"
      },
      "execution_count": 152,
      "outputs": [
        {
          "output_type": "execute_result",
          "data": {
            "text/plain": [
              "(54, 8)"
            ]
          },
          "metadata": {},
          "execution_count": 152
        }
      ]
    },
    {
      "cell_type": "code",
      "source": [
        "dtc_pca = DecisionTreeClassifier()\n",
        "dtc_pca.fit(X_train_pca, y_train)\n",
        "y_pred_dtc = dtc_pca.predict(X_test_pca)\n",
        "dtc_pca.score(X_test_pca,y_test)"
      ],
      "metadata": {
        "colab": {
          "base_uri": "https://localhost:8080/"
        },
        "id": "wefMv2y2YSOr",
        "outputId": "dcf0e6ee-6b4b-4495-ae87-c35e796849be"
      },
      "execution_count": 153,
      "outputs": [
        {
          "output_type": "execute_result",
          "data": {
            "text/plain": [
              "0.9259259259259259"
            ]
          },
          "metadata": {},
          "execution_count": 153
        }
      ]
    },
    {
      "cell_type": "code",
      "source": [
        "sup_vc_pca = svm.SVC()\n",
        "sup_vc_pca.fit(X_train_pca, y_train)\n",
        "y_pred_svc_pca = sup_vc_pca.predict(X_test_pca)\n",
        "sup_vc_pca.score(X_test_pca,y_test)"
      ],
      "metadata": {
        "colab": {
          "base_uri": "https://localhost:8080/"
        },
        "id": "EY-K5Nw4YgSx",
        "outputId": "5b9833d2-6503-4d76-f3bf-305c01beda8a"
      },
      "execution_count": 154,
      "outputs": [
        {
          "output_type": "execute_result",
          "data": {
            "text/plain": [
              "0.9814814814814815"
            ]
          },
          "metadata": {},
          "execution_count": 154
        }
      ]
    },
    {
      "cell_type": "markdown",
      "source": [
        "#Part 5"
      ],
      "metadata": {
        "id": "7ApBfTsqbU8t"
      }
    },
    {
      "cell_type": "code",
      "source": [
        "def cross_validation(model,X,y,*,folds=5):\n",
        "  for i in range(0,folds):\n",
        "    X_train,X_test,y_train,y_test = train_test_split(X,y,test_size = 1/folds)\n",
        "    model.fit(X_train, y_train) \n",
        "    print(model.score(X_test, y_test))"
      ],
      "metadata": {
        "id": "TOlu8FSGft9s"
      },
      "execution_count": 155,
      "outputs": []
    },
    {
      "cell_type": "code",
      "source": [
        "lda_clf = LinearDiscriminantAnalysis()\n",
        "cross_validation(lda_clf,X,y)"
      ],
      "metadata": {
        "colab": {
          "base_uri": "https://localhost:8080/"
        },
        "id": "lrEhIRSigwWK",
        "outputId": "792b2725-d414-4221-9031-b7d11f11d534"
      },
      "execution_count": 166,
      "outputs": [
        {
          "output_type": "stream",
          "name": "stdout",
          "text": [
            "1.0\n",
            "0.9722222222222222\n",
            "0.9444444444444444\n",
            "1.0\n",
            "1.0\n"
          ]
        }
      ]
    }
  ]
}