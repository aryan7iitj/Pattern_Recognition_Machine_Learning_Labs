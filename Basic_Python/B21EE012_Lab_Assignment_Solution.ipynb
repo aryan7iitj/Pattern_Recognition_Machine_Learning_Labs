{
 "cells": [
  {
   "cell_type": "markdown",
   "metadata": {
    "id": "qPCx1CAYz2Tl"
   },
   "source": [
    "Problem 1.a Convert file data to list "
   ]
  },
  {
   "cell_type": "code",
   "execution_count": 162,
   "metadata": {
    "colab": {
     "base_uri": "https://localhost:8080/"
    },
    "id": "YkxQ4RTQz6T2",
    "outputId": "07311eb6-3789-42da-e236-de2f90f477db"
   },
   "outputs": [
    {
     "name": "stdout",
     "output_type": "stream",
     "text": [
      "['Line 1', 'LIne 2', 'Line 3', 'Line 4', 'Line 5', 'Line 6', 'etc.....']\n"
     ]
    }
   ],
   "source": [
    "#txt file refrence: https://drive.google.com/file/d/1r9_s1AZcAs5fLK4302bK_ONu2a8Ibi0V/view?usp=share_link\n",
    "fileobj=open(\"/content/B21EE012.txt\")\n",
    "lines=fileobj.read().split('\\n')\n",
    "print(lines)"
   ]
  },
  {
   "cell_type": "markdown",
   "metadata": {
    "id": "zm7mlyt72B7l"
   },
   "source": [
    "Problem 1.b Convert User Input to a Number"
   ]
  },
  {
   "cell_type": "code",
   "execution_count": 163,
   "metadata": {
    "colab": {
     "base_uri": "https://localhost:8080/"
    },
    "id": "34N5xkDu2Jfm",
    "outputId": "3c69cbc8-84ef-4ba2-b929-4d8f0fe6a668"
   },
   "outputs": [
    {
     "name": "stdout",
     "output_type": "stream",
     "text": [
      "Enter a number: 10\n",
      "default data-type:  <class 'str'>\n",
      "after converting to int:  <class 'int'>\n"
     ]
    }
   ],
   "source": [
    "number = input(\"Enter a number: \")\n",
    "print(\"default data-type: \", type(number))\n",
    "number = int(number);\n",
    "print(\"after converting to int: \",type(number))"
   ]
  },
  {
   "cell_type": "markdown",
   "metadata": {
    "id": "hSoa6KK-GqVx"
   },
   "source": [
    "Problem 1.c Convert String to Datetime in Python"
   ]
  },
  {
   "cell_type": "code",
   "execution_count": 164,
   "metadata": {
    "colab": {
     "base_uri": "https://localhost:8080/"
    },
    "id": "fdsijJjjGxe7",
    "outputId": "ae3c9c3e-459c-4a1f-a119-ee4268a3aeda"
   },
   "outputs": [
    {
     "name": "stdout",
     "output_type": "stream",
     "text": [
      "Before: \n",
      "<class 'str'>\n",
      "12/01/22 15:15:26\n",
      "After:\n",
      "<class 'datetime.datetime'>\n",
      "2022-01-12 15:15:26\n"
     ]
    }
   ],
   "source": [
    "from datetime import datetime\n",
    "\n",
    "datetime_str = '12/01/22 15:15:26'\n",
    "\n",
    "datetime_object = datetime.strptime(datetime_str, '%d/%m/%y %H:%M:%S')\n",
    "print(\"Before: \")\n",
    "print(type(datetime_str))\n",
    "print(datetime_str)\n",
    "print(\"After:\")\n",
    "print(type(datetime_object))\n",
    "print(datetime_object)  "
   ]
  },
  {
   "cell_type": "markdown",
   "metadata": {
    "id": "cr3WSQs4I50n"
   },
   "source": [
    "Problem 1.d How to call external commands in Python? "
   ]
  },
  {
   "cell_type": "code",
   "execution_count": 165,
   "metadata": {
    "id": "IiE_Qj3jJUnQ"
   },
   "outputs": [],
   "source": [
    "import os"
   ]
  },
  {
   "cell_type": "markdown",
   "metadata": {
    "id": "wRO_XSR0YcI-"
   },
   "source": [
    "Problem 1.e How to count the occurrences of a list item?"
   ]
  },
  {
   "cell_type": "code",
   "execution_count": 166,
   "metadata": {
    "colab": {
     "base_uri": "https://localhost:8080/"
    },
    "id": "Y5Pd91AWYhK6",
    "outputId": "894a2e4c-5e0a-4bbf-ca89-ebd426244365"
   },
   "outputs": [
    {
     "name": "stdout",
     "output_type": "stream",
     "text": [
      "No. of Occurrences of 1: 2\n",
      "No. of Occurrences of 5: 3\n",
      "No. of Occurrences of 3: 2\n"
     ]
    }
   ],
   "source": [
    "lst = [1,1,3,4,5,5,5,6,7,19,19,12]\n",
    "print(\"No. of Occurrences of 1:\",lst.count(1))\n",
    "print(\"No. of Occurrences of 5:\",lst.count(5))\n",
    "print(\"No. of Occurrences of 3:\",lst.count(1))"
   ]
  },
  {
   "cell_type": "markdown",
   "metadata": {
    "id": "xR5sgoXIZb0S"
   },
   "source": [
    "Probem 1.f How to flatten lists in Python?"
   ]
  },
  {
   "cell_type": "code",
   "execution_count": 167,
   "metadata": {
    "colab": {
     "base_uri": "https://localhost:8080/"
    },
    "id": "h78QgCzMZjnQ",
    "outputId": "8eaa3ca9-d9ec-4d71-8ad5-6c9b700994de"
   },
   "outputs": [
    {
     "name": "stdout",
     "output_type": "stream",
     "text": [
      "Flatten list: [1, 2, 3, 4, 5, 6, 7, 8, 9]\n"
     ]
    }
   ],
   "source": [
    "lst = [[1,2,3],[4,5,6],[7,8,9]]\n",
    "flatten_lst = []\n",
    "\n",
    "for i in range(len(lst)):\n",
    "  for j in range(len(lst[i])):\n",
    "    flatten_lst.append(lst[i][j])\n",
    "\n",
    "print(\"Flatten list:\",flatten_lst)"
   ]
  },
  {
   "cell_type": "markdown",
   "metadata": {
    "id": "dvjFH7H2a5Ve"
   },
   "source": [
    "Problem 1.g How to merge dictionaries in Python?"
   ]
  },
  {
   "cell_type": "code",
   "execution_count": 168,
   "metadata": {
    "colab": {
     "base_uri": "https://localhost:8080/"
    },
    "id": "S3cA73LVbBFQ",
    "outputId": "1356a003-d321-4e26-aa1e-b9a2f843f3ce"
   },
   "outputs": [
    {
     "name": "stdout",
     "output_type": "stream",
     "text": [
      "Merged Dictionary: {'aryan': 'B21EE012', 'atharva': 'B21EE013', 'rachit': 'B21EE054', 'saksham': 'B21EE059'}\n"
     ]
    }
   ],
   "source": [
    "dict1 = {'aryan':'B21EE012', 'atharva':'B21EE013'}\n",
    "dict2 = {'rachit':'B21EE054', 'saksham':'B21EE059'}\n",
    "\n",
    "merged_dict = {}\n",
    "\n",
    "for key in dict1:\n",
    "  merged_dict[key]=dict1[key]\n",
    "\n",
    "for key in dict2:\n",
    "  merged_dict[key]=dict2[key]\n",
    "\n",
    "print(\"Merged Dictionary:\", merged_dict)"
   ]
  },
  {
   "cell_type": "markdown",
   "metadata": {
    "id": "zKjZ4SdGdBeT"
   },
   "source": [
    "Problem 1.h Remove duplicate items from a list in Python?"
   ]
  },
  {
   "cell_type": "code",
   "execution_count": 169,
   "metadata": {
    "colab": {
     "base_uri": "https://localhost:8080/"
    },
    "id": "WfAoy39zdoQ4",
    "outputId": "66911193-373b-47a1-d6d6-4a453d6ebce1"
   },
   "outputs": [
    {
     "name": "stdout",
     "output_type": "stream",
     "text": [
      "Original List: [1, 2, 2, 3, 3, 3, 4, 4, 4, 4, 5, 5, 5, 5, 5]\n",
      "After removing duplicates: [1, 2, 3, 4, 5]\n"
     ]
    }
   ],
   "source": [
    "lst = [1,2,2,3,3,3,4,4,4,4,5,5,5,5,5]\n",
    "out_lst = []\n",
    "for i in range(len(lst)):\n",
    "  if lst[i] not in out_lst:\n",
    "    out_lst.append(lst[i])\n",
    "print(\"Original List:\", lst)\n",
    "print(\"After removing duplicates:\", out_lst)"
   ]
  },
  {
   "cell_type": "markdown",
   "metadata": {
    "id": "PKer71CAemca"
   },
   "source": [
    "Problem 1.i Write a Python script to check whether a given key already exists in a dictionary."
   ]
  },
  {
   "cell_type": "code",
   "execution_count": 170,
   "metadata": {
    "colab": {
     "base_uri": "https://localhost:8080/"
    },
    "id": "DwCXxYFgevUq",
    "outputId": "8d56f083-aa72-4d65-8c17-501c6287450a"
   },
   "outputs": [
    {
     "name": "stdout",
     "output_type": "stream",
     "text": [
      "aryan exists in dictionary\n",
      "tarun doesn't exist in dictionary\n",
      "sameer doesn't exist in dictionary\n",
      "atharva exists in dictionary\n"
     ]
    }
   ],
   "source": [
    "dic = {'aryan':'b21ee012','atharva':'b21ee013','rachit':'b21ee054','saksham':'b21ee059'}\n",
    "keys = ['aryan','tarun','sameer','atharva']\n",
    "\n",
    "for i in range(len(keys)):\n",
    "  if keys[i] in dic.keys():\n",
    "    print(keys[i],\"exists in dictionary\")\n",
    "  else:\n",
    "    print(keys[i],\"doesn't exist in dictionary\")"
   ]
  },
  {
   "cell_type": "markdown",
   "metadata": {
    "id": "qDr1_qUMj2uq"
   },
   "source": [
    "Problem 2 (Numpy): Using numpy create two matrices of same size of your choice, fill\n",
    "the non-zero values into these two matrices."
   ]
  },
  {
   "cell_type": "code",
   "execution_count": 171,
   "metadata": {
    "id": "wpkMBhoVkEyP"
   },
   "outputs": [],
   "source": [
    "import numpy as np\n",
    "matrix1 = np.array([[1,2,3],[4,5,6],[7,8,9]])\n",
    "matrix2 = np.array([[9,8,7],[6,5,4],[3,2,1]])"
   ]
  },
  {
   "cell_type": "markdown",
   "metadata": {
    "id": "EgzguDFEhoEg"
   },
   "source": [
    "Problem 2(a)  Display first row of first matrix"
   ]
  },
  {
   "cell_type": "code",
   "execution_count": 172,
   "metadata": {
    "colab": {
     "base_uri": "https://localhost:8080/"
    },
    "id": "aR_Imjoxh0tA",
    "outputId": "4b31f3e0-e98b-4b63-aca2-be0582e3fa3a"
   },
   "outputs": [
    {
     "name": "stdout",
     "output_type": "stream",
     "text": [
      "First row of first matrix is: [1 2 3]\n"
     ]
    }
   ],
   "source": [
    "row1 = matrix1[0,:]\n",
    "print(\"First row of first matrix is:\", row1)"
   ]
  },
  {
   "cell_type": "markdown",
   "metadata": {
    "id": "oVk4Ik_pixyT"
   },
   "source": [
    "Problem 2(b) Display second column of second matrix"
   ]
  },
  {
   "cell_type": "code",
   "execution_count": 173,
   "metadata": {
    "colab": {
     "base_uri": "https://localhost:8080/"
    },
    "id": "dZlt7_XpjGRH",
    "outputId": "e79f1cf7-83cc-4307-dd97-bbf6fd3b77f1"
   },
   "outputs": [
    {
     "name": "stdout",
     "output_type": "stream",
     "text": [
      "Second column of second matrix is: [8 5 2]\n"
     ]
    }
   ],
   "source": [
    "col2 = matrix2[:,1]\n",
    "print(\"Second column of second matrix is:\",col2)"
   ]
  },
  {
   "cell_type": "markdown",
   "metadata": {
    "id": "Tp8ylvBFkSpP"
   },
   "source": [
    "Problem 2(c) Perform matrix multiplication"
   ]
  },
  {
   "cell_type": "code",
   "execution_count": 174,
   "metadata": {
    "colab": {
     "base_uri": "https://localhost:8080/"
    },
    "id": "r_z6TU2LkX_4",
    "outputId": "87450019-1102-4c91-c15f-9fc0b8fa02e0"
   },
   "outputs": [
    {
     "name": "stdout",
     "output_type": "stream",
     "text": [
      "Matrix Multiplication of matrix1 and matrix2 is:\n",
      "[[ 30  24  18]\n",
      " [ 84  69  54]\n",
      " [138 114  90]]\n"
     ]
    }
   ],
   "source": [
    "matrix_mult = np.matmul(matrix1,matrix2)\n",
    "print(\"Matrix Multiplication of matrix1 and matrix2 is:\")\n",
    "print(matrix_mult)"
   ]
  },
  {
   "cell_type": "markdown",
   "metadata": {
    "id": "8b6yT8hnlF7x"
   },
   "source": [
    "Problem 2(d) Perform element-wise multiplication"
   ]
  },
  {
   "cell_type": "code",
   "execution_count": 175,
   "metadata": {
    "colab": {
     "base_uri": "https://localhost:8080/"
    },
    "id": "H8WaWRNylMMP",
    "outputId": "c1ca4568-319a-4c69-99d4-55405ddba1a0"
   },
   "outputs": [
    {
     "name": "stdout",
     "output_type": "stream",
     "text": [
      "Element-wise Multiplication of matrix1 and matrix2 is:\n",
      "[[ 9 16 21]\n",
      " [24 25 24]\n",
      " [21 16  9]]\n"
     ]
    }
   ],
   "source": [
    "elewise_mult = np.multiply(matrix1,matrix2)\n",
    "print(\"Element-wise Multiplication of matrix1 and matrix2 is:\")\n",
    "print(elewise_mult)"
   ]
  },
  {
   "cell_type": "markdown",
   "metadata": {
    "id": "1L9qCOfbluBG"
   },
   "source": [
    "Problem 2(e) Perform dot product between each column of first matrix and each column of second matrix"
   ]
  },
  {
   "cell_type": "code",
   "execution_count": 176,
   "metadata": {
    "colab": {
     "base_uri": "https://localhost:8080/"
    },
    "id": "zlbltOUGl3k1",
    "outputId": "2894b972-1d7d-4aea-b7f6-0b36dadc5952"
   },
   "outputs": [
    {
     "name": "stdout",
     "output_type": "stream",
     "text": [
      "dot product between each column of first matrix and each column of second matrix:\n",
      "[[54 42 30]\n",
      " [72 57 42]\n",
      " [90 72 54]]\n",
      "Note: index[i][j] represents dot product between ith column of matrix1 and jth column of matrix2. Indexing starts from 0.\n"
     ]
    }
   ],
   "source": [
    "dot_product = np.array([[np.dot(matrix1[:,0],matrix2[:,0]),np.dot(matrix1[:,0],matrix2[:,1]),np.dot(matrix1[:,0],matrix2[:,2])],[np.dot(matrix1[:,1],matrix2[:,0]),np.dot(matrix1[:,1],matrix2[:,1]),np.dot(matrix1[:,1],matrix2[:,2])],[np.dot(matrix1[:,2],matrix2[:,0]),np.dot(matrix1[:,2],matrix2[:,1]),np.dot(matrix1[:,2],matrix2[:,2])]])\n",
    "print(\"dot product between each column of first matrix and each column of second matrix:\")\n",
    "print(dot_product)\n",
    "print(\"Note: index[i][j] represents dot product between ith column of matrix1 and jth column of matrix2. Indexing starts from 0.\")"
   ]
  },
  {
   "cell_type": "markdown",
   "metadata": {
    "id": "sp7gf7hne8ZU"
   },
   "source": [
    "Problem 4 (Plotting): Plot following functions: "
   ]
  },
  {
   "cell_type": "markdown",
   "metadata": {
    "id": "Oq1J264lY0KR"
   },
   "source": [
    "Problem 4 a. y = 5x + 4 where x ranges from [-10, 10]"
   ]
  },
  {
   "cell_type": "code",
   "execution_count": 177,
   "metadata": {
    "colab": {
     "base_uri": "https://localhost:8080/",
     "height": 295
    },
    "id": "0V3D40hWY46j",
    "outputId": "89c9908d-2ae1-441c-8aa1-6de1b596ab56"
   },
   "outputs": [
    {
     "data": {
      "image/png": "[encoded data removed]",
      "text/plain": [
       "<Figure size 432x288 with 1 Axes>"
      ]
     },
     "metadata": {
      "needs_background": "light"
     },
     "output_type": "display_data"
    }
   ],
   "source": [
    "import matplotlib.pyplot as plt\n",
    "import numpy as np\n",
    "\n",
    "x = np.linspace(-10, 10, 100)\n",
    "y = 5*x + 4\n",
    "plt.plot(x, y)\n",
    "plt.title(\"y = 5x + 4\")\n",
    "plt.xlabel(\"x\")\n",
    "plt.ylabel(\"y\")\n",
    "plt.show()"
   ]
  },
  {
   "cell_type": "markdown",
   "metadata": {
    "id": "XtKXDvKqZNSS"
   },
   "source": [
    "Problem 4 b. y = ln(x) where x > 10 and x < 100."
   ]
  },
  {
   "cell_type": "code",
   "execution_count": 178,
   "metadata": {
    "colab": {
     "base_uri": "https://localhost:8080/",
     "height": 295
    },
    "id": "OZDSXjxAZQ-3",
    "outputId": "a68cb1bf-b03f-49e4-e844-02818687caf1"
   },
   "outputs": [
    {
     "data": {
      "image/png": "[encoded data removed]",
      "text/plain": [
       "<Figure size 432x288 with 1 Axes>"
      ]
     },
     "metadata": {
      "needs_background": "light"
     },
     "output_type": "display_data"
    }
   ],
   "source": [
    "x = np.linspace(10,100,100)\n",
    "y = np.log(x)\n",
    "plt.plot(x,y)\n",
    "plt.title(\"y = ln(x)\")\n",
    "plt.xlabel(\"x\")\n",
    "plt.ylabel(\"y\")\n",
    "plt.show()"
   ]
  },
  {
   "cell_type": "markdown",
   "metadata": {
    "id": "WE2vq511Zsyx"
   },
   "source": [
    "Problem 4 c. y = x^2 where x ranges from [-10, 10]."
   ]
  },
  {
   "cell_type": "code",
   "execution_count": 179,
   "metadata": {
    "colab": {
     "base_uri": "https://localhost:8080/",
     "height": 295
    },
    "id": "W_bRi3B6Zv6J",
    "outputId": "cf5a51e4-d5e5-44eb-8830-6cb64fca20d2"
   },
   "outputs": [
    {
     "data": {
      "image/png": "[encoded data removed]",
      "text/plain": [
       "<Figure size 432x288 with 1 Axes>"
      ]
     },
     "metadata": {
      "needs_background": "light"
     },
     "output_type": "display_data"
    }
   ],
   "source": [
    "x = np.linspace(-10,10,100)\n",
    "y = x**2\n",
    "plt.plot(x,y)\n",
    "plt.title(\"y = x^2\")\n",
    "plt.xlabel(\"x\")\n",
    "plt.ylabel(\"y\")\n",
    "plt.show()"
   ]
  },
  {
   "cell_type": "markdown",
   "metadata": {
    "id": "edG5xq88W04D"
   },
   "source": [
    "Problem 4 d. Plot table data"
   ]
  },
  {
   "cell_type": "code",
   "execution_count": 180,
   "metadata": {
    "colab": {
     "base_uri": "https://localhost:8080/",
     "height": 295
    },
    "id": "MjBUVnG-Wzdr",
    "outputId": "2b08742e-7dce-4b40-8c2a-156ef935cf3a"
   },
   "outputs": [
    {
     "data": {
      "image/png": "[encoded data removed]",
      "text/plain": [
       "<Figure size 432x288 with 1 Axes>"
      ]
     },
     "metadata": {
      "needs_background": "light"
     },
     "output_type": "display_data"
    }
   ],
   "source": [
    "x = np.array([0,1,2,3,4])\n",
    "y = np.array([2,3,4,5,6])\n",
    "plt.plot(x,y)\n",
    "plt.title(\"Table 1 data\")\n",
    "plt.xlabel(\"X\")\n",
    "plt.ylabel(\"Y\")\n",
    "plt.show()"
   ]
  },
  {
   "cell_type": "markdown",
   "metadata": {
    "id": "LaVnN7Tut-2q"
   },
   "source": [
    "Problem 3(Pandas): The given dataset is related\n",
    "to cars and contains 26 columns.In the given dataset, “Price” is the target variable (i.e., the\n",
    "output).\n",
    "\n",
    "**acknowledgement:** Discussed concept and implementation with Tarun Raj Singh(B21CS076) in part(iii) of Problem 3."
   ]
  },
  {
   "cell_type": "code",
   "execution_count": 181,
   "metadata": {
    "colab": {
     "base_uri": "https://localhost:8080/",
     "height": 386
    },
    "id": "Dqjb2AK3uMqZ",
    "outputId": "40f485dc-4367-456b-bb0c-82404d5c2ffa"
   },
   "outputs": [
    {
     "data": {
      "text/html": [
       "\n",
       "  <div id=\"df-d53439fe-3be2-4006-b449-30148a986a76\">\n",
       "    <div class=\"colab-df-container\">\n",
       "      <div>\n",
       "<style scoped>\n",
       "    .dataframe tbody tr th:only-of-type {\n",
       "        vertical-align: middle;\n",
       "    }\n",
       "\n",
       "    .dataframe tbody tr th {\n",
       "        vertical-align: top;\n",
       "    }\n",
       "\n",
       "    .dataframe thead th {\n",
       "        text-align: right;\n",
       "    }\n",
       "</style>\n",
       "<table border=\"1\" class=\"dataframe\">\n",
       "  <thead>\n",
       "    <tr style=\"text-align: right;\">\n",
       "      <th></th>\n",
       "      <th>Manufacturer</th>\n",
       "      <th>Model</th>\n",
       "      <th>Type</th>\n",
       "      <th>Min.Price</th>\n",
       "      <th>Price</th>\n",
       "      <th>Max.Price</th>\n",
       "      <th>MPG.city</th>\n",
       "      <th>MPG.highway</th>\n",
       "      <th>AirBags</th>\n",
       "      <th>DriveTrain</th>\n",
       "      <th>...</th>\n",
       "      <th>Fuel.tank.capacity</th>\n",
       "      <th>Passengers</th>\n",
       "      <th>Length</th>\n",
       "      <th>Wheelbase</th>\n",
       "      <th>Width</th>\n",
       "      <th>Turn.circle</th>\n",
       "      <th>Rear_seat_room</th>\n",
       "      <th>Luggage_room</th>\n",
       "      <th>Weight</th>\n",
       "      <th>Origin</th>\n",
       "    </tr>\n",
       "  </thead>\n",
       "  <tbody>\n",
       "    <tr>\n",
       "      <th>0</th>\n",
       "      <td>Acura</td>\n",
       "      <td>Integra</td>\n",
       "      <td>Small</td>\n",
       "      <td>12.9</td>\n",
       "      <td>15.9</td>\n",
       "      <td>18.8</td>\n",
       "      <td>25</td>\n",
       "      <td>31</td>\n",
       "      <td>None</td>\n",
       "      <td>Front</td>\n",
       "      <td>...</td>\n",
       "      <td>13.2</td>\n",
       "      <td>5</td>\n",
       "      <td>177</td>\n",
       "      <td>102</td>\n",
       "      <td>68</td>\n",
       "      <td>37</td>\n",
       "      <td>26.5</td>\n",
       "      <td>11.0</td>\n",
       "      <td>2705</td>\n",
       "      <td>non-USA</td>\n",
       "    </tr>\n",
       "    <tr>\n",
       "      <th>1</th>\n",
       "      <td>Acura</td>\n",
       "      <td>Legend</td>\n",
       "      <td>Midsize</td>\n",
       "      <td>29.2</td>\n",
       "      <td>33.9</td>\n",
       "      <td>38.7</td>\n",
       "      <td>18</td>\n",
       "      <td>25</td>\n",
       "      <td>Driver &amp; Passenger</td>\n",
       "      <td>Front</td>\n",
       "      <td>...</td>\n",
       "      <td>18.0</td>\n",
       "      <td>5</td>\n",
       "      <td>195</td>\n",
       "      <td>115</td>\n",
       "      <td>71</td>\n",
       "      <td>38</td>\n",
       "      <td>30.0</td>\n",
       "      <td>15.0</td>\n",
       "      <td>3560</td>\n",
       "      <td>non-USA</td>\n",
       "    </tr>\n",
       "    <tr>\n",
       "      <th>2</th>\n",
       "      <td>Audi</td>\n",
       "      <td>90</td>\n",
       "      <td>Compact</td>\n",
       "      <td>25.9</td>\n",
       "      <td>29.1</td>\n",
       "      <td>32.3</td>\n",
       "      <td>20</td>\n",
       "      <td>26</td>\n",
       "      <td>Driver only</td>\n",
       "      <td>Front</td>\n",
       "      <td>...</td>\n",
       "      <td>16.9</td>\n",
       "      <td>5</td>\n",
       "      <td>180</td>\n",
       "      <td>102</td>\n",
       "      <td>67</td>\n",
       "      <td>37</td>\n",
       "      <td>28.0</td>\n",
       "      <td>14.0</td>\n",
       "      <td>3375</td>\n",
       "      <td>non-USA</td>\n",
       "    </tr>\n",
       "    <tr>\n",
       "      <th>3</th>\n",
       "      <td>Audi</td>\n",
       "      <td>100</td>\n",
       "      <td>Midsize</td>\n",
       "      <td>30.8</td>\n",
       "      <td>37.7</td>\n",
       "      <td>44.6</td>\n",
       "      <td>19</td>\n",
       "      <td>26</td>\n",
       "      <td>Driver &amp; Passenger</td>\n",
       "      <td>Front</td>\n",
       "      <td>...</td>\n",
       "      <td>21.1</td>\n",
       "      <td>6</td>\n",
       "      <td>193</td>\n",
       "      <td>106</td>\n",
       "      <td>70</td>\n",
       "      <td>37</td>\n",
       "      <td>31.0</td>\n",
       "      <td>17.0</td>\n",
       "      <td>3405</td>\n",
       "      <td>non-USA</td>\n",
       "    </tr>\n",
       "    <tr>\n",
       "      <th>4</th>\n",
       "      <td>BMW</td>\n",
       "      <td>535i</td>\n",
       "      <td>Midsize</td>\n",
       "      <td>23.7</td>\n",
       "      <td>30.0</td>\n",
       "      <td>36.2</td>\n",
       "      <td>22</td>\n",
       "      <td>30</td>\n",
       "      <td>Driver only</td>\n",
       "      <td>Rear</td>\n",
       "      <td>...</td>\n",
       "      <td>21.1</td>\n",
       "      <td>4</td>\n",
       "      <td>186</td>\n",
       "      <td>109</td>\n",
       "      <td>69</td>\n",
       "      <td>39</td>\n",
       "      <td>27.0</td>\n",
       "      <td>13.0</td>\n",
       "      <td>3640</td>\n",
       "      <td>non-USA</td>\n",
       "    </tr>\n",
       "  </tbody>\n",
       "</table>\n",
       "<p>5 rows × 26 columns</p>\n",
       "</div>\n",
       "      <button class=\"colab-df-convert\" onclick=\"convertToInteractive('df-d53439fe-3be2-4006-b449-30148a986a76')\"\n",
       "              title=\"Convert this dataframe to an interactive table.\"\n",
       "              style=\"display:none;\">\n",
       "        \n",
       "  <svg xmlns=\"http://www.w3.org/2000/svg\" height=\"24px\"viewBox=\"0 0 24 24\"\n",
       "       width=\"24px\">\n",
       "    <path d=\"M0 0h24v24H0V0z\" fill=\"none\"/>\n",
       "    <path d=\"M18.56 5.44l.94 2.06.94-2.06 2.06-.94-2.06-.94-.94-2.06-.94 2.06-2.06.94zm-11 1L8.5 8.5l.94-2.06 2.06-.94-2.06-.94L8.5 2.5l-.94 2.06-2.06.94zm10 10l.94 2.06.94-2.06 2.06-.94-2.06-.94-.94-2.06-.94 2.06-2.06.94z\"/><path d=\"M17.41 7.96l-1.37-1.37c-.4-.4-.92-.59-1.43-.59-.52 0-1.04.2-1.43.59L10.3 9.45l-7.72 7.72c-.78.78-.78 2.05 0 2.83L4 21.41c.39.39.9.59 1.41.59.51 0 1.02-.2 1.41-.59l7.78-7.78 2.81-2.81c.8-.78.8-2.07 0-2.86zM5.41 20L4 18.59l7.72-7.72 1.47 1.35L5.41 20z\"/>\n",
       "  </svg>\n",
       "      </button>\n",
       "      \n",
       "  <style>\n",
       "    .colab-df-container {\n",
       "      display:flex;\n",
       "      flex-wrap:wrap;\n",
       "      gap: 12px;\n",
       "    }\n",
       "\n",
       "    .colab-df-convert {\n",
       "      background-color: #E8F0FE;\n",
       "      border: none;\n",
       "      border-radius: 50%;\n",
       "      cursor: pointer;\n",
       "      display: none;\n",
       "      fill: #1967D2;\n",
       "      height: 32px;\n",
       "      padding: 0 0 0 0;\n",
       "      width: 32px;\n",
       "    }\n",
       "\n",
       "    .colab-df-convert:hover {\n",
       "      background-color: #E2EBFA;\n",
       "      box-shadow: 0px 1px 2px rgba(60, 64, 67, 0.3), 0px 1px 3px 1px rgba(60, 64, 67, 0.15);\n",
       "      fill: #174EA6;\n",
       "    }\n",
       "\n",
       "    [theme=dark] .colab-df-convert {\n",
       "      background-color: #3B4455;\n",
       "      fill: #D2E3FC;\n",
       "    }\n",
       "\n",
       "    [theme=dark] .colab-df-convert:hover {\n",
       "      background-color: #434B5C;\n",
       "      box-shadow: 0px 1px 3px 1px rgba(0, 0, 0, 0.15);\n",
       "      filter: drop-shadow(0px 1px 2px rgba(0, 0, 0, 0.3));\n",
       "      fill: #FFFFFF;\n",
       "    }\n",
       "  </style>\n",
       "\n",
       "      <script>\n",
       "        const buttonEl =\n",
       "          document.querySelector('#df-d53439fe-3be2-4006-b449-30148a986a76 button.colab-df-convert');\n",
       "        buttonEl.style.display =\n",
       "          google.colab.kernel.accessAllowed ? 'block' : 'none';\n",
       "\n",
       "        async function convertToInteractive(key) {\n",
       "          const element = document.querySelector('#df-d53439fe-3be2-4006-b449-30148a986a76');\n",
       "          const dataTable =\n",
       "            await google.colab.kernel.invokeFunction('convertToInteractive',\n",
       "                                                     [key], {});\n",
       "          if (!dataTable) return;\n",
       "\n",
       "          const docLinkHtml = 'Like what you see? Visit the ' +\n",
       "            '<a target=\"_blank\" href=https://colab.research.google.com/notebooks/data_table.ipynb>data table notebook</a>'\n",
       "            + ' to learn more about interactive tables.';\n",
       "          element.innerHTML = '';\n",
       "          dataTable['output_type'] = 'display_data';\n",
       "          await google.colab.output.renderOutput(dataTable, element);\n",
       "          const docLink = document.createElement('div');\n",
       "          docLink.innerHTML = docLinkHtml;\n",
       "          element.appendChild(docLink);\n",
       "        }\n",
       "      </script>\n",
       "    </div>\n",
       "  </div>\n",
       "  "
      ],
      "text/plain": [
       "  Manufacturer    Model     Type  Min.Price  Price  Max.Price  MPG.city  \\\n",
       "0        Acura  Integra    Small       12.9   15.9       18.8        25   \n",
       "1        Acura   Legend  Midsize       29.2   33.9       38.7        18   \n",
       "2         Audi       90  Compact       25.9   29.1       32.3        20   \n",
       "3         Audi      100  Midsize       30.8   37.7       44.6        19   \n",
       "4          BMW     535i  Midsize       23.7   30.0       36.2        22   \n",
       "\n",
       "   MPG.highway             AirBags DriveTrain  ... Fuel.tank.capacity  \\\n",
       "0           31                None      Front  ...               13.2   \n",
       "1           25  Driver & Passenger      Front  ...               18.0   \n",
       "2           26         Driver only      Front  ...               16.9   \n",
       "3           26  Driver & Passenger      Front  ...               21.1   \n",
       "4           30         Driver only       Rear  ...               21.1   \n",
       "\n",
       "   Passengers  Length  Wheelbase  Width Turn.circle  Rear_seat_room  \\\n",
       "0           5     177        102     68          37            26.5   \n",
       "1           5     195        115     71          38            30.0   \n",
       "2           5     180        102     67          37            28.0   \n",
       "3           6     193        106     70          37            31.0   \n",
       "4           4     186        109     69          39            27.0   \n",
       "\n",
       "   Luggage_room  Weight   Origin  \n",
       "0          11.0    2705  non-USA  \n",
       "1          15.0    3560  non-USA  \n",
       "2          14.0    3375  non-USA  \n",
       "3          17.0    3405  non-USA  \n",
       "4          13.0    3640  non-USA  \n",
       "\n",
       "[5 rows x 26 columns]"
      ]
     },
     "execution_count": 181,
     "metadata": {},
     "output_type": "execute_result"
    }
   ],
   "source": [
    "#reading csv file\n",
    "import pandas as pd\n",
    "# Dataset Reference :- https://drive.google.com/file/d/1rcuZTrLr2L3RG3bJPE5_JBG4gDb2BPj8/view?usp=share_link\n",
    "df = pd.read_csv('/content/Cars93.csv')\n",
    "df.head()"
   ]
  },
  {
   "cell_type": "code",
   "execution_count": 182,
   "metadata": {
    "colab": {
     "base_uri": "https://localhost:8080/"
    },
    "id": "QGRcnEd6wedT",
    "outputId": "e40fa4d9-6fb1-46e7-eeb2-8182bf01b151"
   },
   "outputs": [
    {
     "name": "stdout",
     "output_type": "stream",
     "text": [
      "(rows,columns): (93, 26)\n"
     ]
    }
   ],
   "source": [
    "print(\"(rows,columns):\",df.shape)"
   ]
  },
  {
   "cell_type": "markdown",
   "metadata": {
    "id": "EN6oylwywCLb"
   },
   "source": [
    "Problem 3(i) Assign a type to each of the following features (a) Model, (b)Type, (c) Max. Price and\n",
    "(d)Airbags from the following: ordinal/nominal/ratio/interval scale."
   ]
  },
  {
   "cell_type": "markdown",
   "metadata": {
    "id": "Bnj7u_KpMQqL"
   },
   "source": [
    "<p>(a) Model: nominal <br>\n",
    "(b) Type: ordinal (since it represents a category with a certain order, such as \"small\" being less than \"midsize\")<br>\n",
    "(c) Max. Price: ratio (since it represents a numerical value with a clear zero point, such as 0 dollars)<br>\n",
    "(d) Airbags: ordinal (the number of airbags: 0,1 or 2(None,Driver, Driver&Passenger))</p>"
   ]
  },
  {
   "cell_type": "markdown",
   "metadata": {
    "id": "rq7rGVYCwJc6"
   },
   "source": [
    "Problem 3(ii) Write a function to handle the missing values in the dataset (e.g., any NA, NaN values)."
   ]
  },
  {
   "cell_type": "code",
   "execution_count": 183,
   "metadata": {
    "colab": {
     "base_uri": "https://localhost:8080/"
    },
    "id": "zqGcOYIYwP5G",
    "outputId": "3e5a0be8-38ad-4c14-c171-6f44f4839df4"
   },
   "outputs": [
    {
     "name": "stdout",
     "output_type": "stream",
     "text": [
      "Missing Values in each Feature:\n"
     ]
    },
    {
     "data": {
      "text/plain": [
       "Manufacturer           0\n",
       "Model                  0\n",
       "Type                   0\n",
       "Min.Price              0\n",
       "Price                  0\n",
       "Max.Price              0\n",
       "MPG.city               0\n",
       "MPG.highway            0\n",
       "AirBags                0\n",
       "DriveTrain             0\n",
       "Cylinders              0\n",
       "EngineSize             0\n",
       "Horsepower             0\n",
       "RPM                    0\n",
       "Rev.per.mile           0\n",
       "Man.trans.avail        0\n",
       "Fuel.tank.capacity     0\n",
       "Passengers             0\n",
       "Length                 0\n",
       "Wheelbase              0\n",
       "Width                  0\n",
       "Turn.circle            0\n",
       "Rear_seat_room         2\n",
       "Luggage_room          11\n",
       "Weight                 0\n",
       "Origin                 0\n",
       "dtype: int64"
      ]
     },
     "execution_count": 183,
     "metadata": {},
     "output_type": "execute_result"
    }
   ],
   "source": [
    "print(\"Missing Values in each Feature:\")\n",
    "df.isnull().sum()"
   ]
  },
  {
   "cell_type": "code",
   "execution_count": 184,
   "metadata": {
    "colab": {
     "base_uri": "https://localhost:8080/"
    },
    "id": "Kk1Sj0HpwXLd",
    "outputId": "9175490b-bbcd-4d11-96f0-9024385669f0"
   },
   "outputs": [
    {
     "name": "stdout",
     "output_type": "stream",
     "text": [
      "Total number of missing values: 13\n"
     ]
    }
   ],
   "source": [
    "print(\"Total number of missing values:\",df.isnull().sum().sum())"
   ]
  },
  {
   "cell_type": "code",
   "execution_count": 185,
   "metadata": {
    "id": "J0S_b79Hwi08"
   },
   "outputs": [],
   "source": [
    "#function to handle missing values\n",
    "def handle_missval(df):\n",
    "  #replacing mean value with mean of that feature\n",
    "  df['Rear_seat_room']=df['Rear_seat_room'].fillna(df['Rear_seat_room'].mean())\n",
    "  df['Luggage_room']=df['Luggage_room'].fillna(df['Luggage_room'].mean())"
   ]
  },
  {
   "cell_type": "code",
   "execution_count": 186,
   "metadata": {
    "id": "31OfTNZJwomj"
   },
   "outputs": [],
   "source": [
    "#calling function to handle missing values\n",
    "handle_missval(df)"
   ]
  },
  {
   "cell_type": "code",
   "execution_count": 187,
   "metadata": {
    "colab": {
     "base_uri": "https://localhost:8080/"
    },
    "id": "QUOga8EBygaN",
    "outputId": "1864fb36-29ee-488a-f8cc-e396a2a4cc8a"
   },
   "outputs": [
    {
     "name": "stdout",
     "output_type": "stream",
     "text": [
      "Total No. of missing values: 0\n"
     ]
    }
   ],
   "source": [
    "print(\"Total No. of missing values:\",df.isnull().sum().sum())"
   ]
  },
  {
   "cell_type": "markdown",
   "metadata": {
    "id": "Hy7JalwHGseg"
   },
   "source": [
    "Problem 3(iii) Write a function to reduce noise (any error in the feature) in individual attributes"
   ]
  },
  {
   "cell_type": "markdown",
   "metadata": {
    "id": "iEsvnDnIqiQ8"
   },
   "source": [
    "Binning method is used to smoothing data or to handle noisy data. In this method, the data is first sorted and then the sorted values are distributed into a number of buckets or bins. As binning methods consult the neighbourhood of values, they perform local smoothing. There are three approaches to performing smoothing –\n",
    "\n",
    "Smoothing by bin means : In smoothing by bin means, each value in a bin is replaced by the mean value of the bin. Smoothing by bin median : In this method each bin value is replaced by its bin median value. Smoothing by bin boundary : In smoothing by bin boundaries, the minimum and maximum values in a given bin are identified as the bin boundaries. Each bin value is then replaced by the closest boundary value.\n",
    "\n",
    "Source: GeeksforGeeks"
   ]
  },
  {
   "cell_type": "code",
   "execution_count": 188,
   "metadata": {
    "colab": {
     "base_uri": "https://localhost:8080/",
     "height": 540
    },
    "id": "OUcBn3D2G2Oo",
    "outputId": "a6e87f7b-8e18-4e70-dccc-0c0fd7cd9ac1"
   },
   "outputs": [
    {
     "data": {
      "text/html": [
       "\n",
       "  <div id=\"df-b5dc2ea7-9279-48f3-87c3-53f922318271\">\n",
       "    <div class=\"colab-df-container\">\n",
       "      <div>\n",
       "<style scoped>\n",
       "    .dataframe tbody tr th:only-of-type {\n",
       "        vertical-align: middle;\n",
       "    }\n",
       "\n",
       "    .dataframe tbody tr th {\n",
       "        vertical-align: top;\n",
       "    }\n",
       "\n",
       "    .dataframe thead th {\n",
       "        text-align: right;\n",
       "    }\n",
       "</style>\n",
       "<table border=\"1\" class=\"dataframe\">\n",
       "  <thead>\n",
       "    <tr style=\"text-align: right;\">\n",
       "      <th></th>\n",
       "      <th>Manufacturer</th>\n",
       "      <th>Model</th>\n",
       "      <th>Type</th>\n",
       "      <th>Min.Price</th>\n",
       "      <th>Price</th>\n",
       "      <th>Max.Price</th>\n",
       "      <th>MPG.city</th>\n",
       "      <th>MPG.highway</th>\n",
       "      <th>AirBags</th>\n",
       "      <th>DriveTrain</th>\n",
       "      <th>...</th>\n",
       "      <th>Rev.per.mile_smoothen</th>\n",
       "      <th>Fuel.tank.capacity_smoothen</th>\n",
       "      <th>Passengers_smoothen</th>\n",
       "      <th>Length_smoothen</th>\n",
       "      <th>Wheelbase_smoothen</th>\n",
       "      <th>Width_smoothen</th>\n",
       "      <th>Turn.circle_smoothen</th>\n",
       "      <th>Rear_seat_room_smoothen</th>\n",
       "      <th>Luggage_room_smoothen</th>\n",
       "      <th>Weight_smoothen</th>\n",
       "    </tr>\n",
       "  </thead>\n",
       "  <tbody>\n",
       "    <tr>\n",
       "      <th>0</th>\n",
       "      <td>Acura</td>\n",
       "      <td>Integra</td>\n",
       "      <td>Small</td>\n",
       "      <td>6.7</td>\n",
       "      <td>7.4</td>\n",
       "      <td>7.9</td>\n",
       "      <td>15</td>\n",
       "      <td>20</td>\n",
       "      <td>None</td>\n",
       "      <td>Front</td>\n",
       "      <td>...</td>\n",
       "      <td>1361.666667</td>\n",
       "      <td>9.933333</td>\n",
       "      <td>2.666667</td>\n",
       "      <td>146.000000</td>\n",
       "      <td>91.000000</td>\n",
       "      <td>62.000000</td>\n",
       "      <td>32.333333</td>\n",
       "      <td>20.666667</td>\n",
       "      <td>7.333333</td>\n",
       "      <td>1835.000000</td>\n",
       "    </tr>\n",
       "    <tr>\n",
       "      <th>1</th>\n",
       "      <td>Acura</td>\n",
       "      <td>Legend</td>\n",
       "      <td>Midsize</td>\n",
       "      <td>6.8</td>\n",
       "      <td>8.0</td>\n",
       "      <td>9.1</td>\n",
       "      <td>15</td>\n",
       "      <td>20</td>\n",
       "      <td>Driver &amp; Passenger</td>\n",
       "      <td>Front</td>\n",
       "      <td>...</td>\n",
       "      <td>1361.666667</td>\n",
       "      <td>9.933333</td>\n",
       "      <td>2.666667</td>\n",
       "      <td>146.000000</td>\n",
       "      <td>91.000000</td>\n",
       "      <td>62.000000</td>\n",
       "      <td>32.333333</td>\n",
       "      <td>20.666667</td>\n",
       "      <td>7.333333</td>\n",
       "      <td>1835.000000</td>\n",
       "    </tr>\n",
       "    <tr>\n",
       "      <th>2</th>\n",
       "      <td>Audi</td>\n",
       "      <td>90</td>\n",
       "      <td>Compact</td>\n",
       "      <td>6.9</td>\n",
       "      <td>8.3</td>\n",
       "      <td>9.2</td>\n",
       "      <td>16</td>\n",
       "      <td>21</td>\n",
       "      <td>Driver only</td>\n",
       "      <td>Front</td>\n",
       "      <td>...</td>\n",
       "      <td>1361.666667</td>\n",
       "      <td>9.933333</td>\n",
       "      <td>2.666667</td>\n",
       "      <td>146.000000</td>\n",
       "      <td>91.000000</td>\n",
       "      <td>62.000000</td>\n",
       "      <td>32.333333</td>\n",
       "      <td>20.666667</td>\n",
       "      <td>7.333333</td>\n",
       "      <td>1835.000000</td>\n",
       "    </tr>\n",
       "    <tr>\n",
       "      <th>3</th>\n",
       "      <td>Audi</td>\n",
       "      <td>100</td>\n",
       "      <td>Midsize</td>\n",
       "      <td>7.3</td>\n",
       "      <td>8.4</td>\n",
       "      <td>9.5</td>\n",
       "      <td>16</td>\n",
       "      <td>21</td>\n",
       "      <td>Driver &amp; Passenger</td>\n",
       "      <td>Front</td>\n",
       "      <td>...</td>\n",
       "      <td>1508.333333</td>\n",
       "      <td>11.200000</td>\n",
       "      <td>4.000000</td>\n",
       "      <td>160.666667</td>\n",
       "      <td>93.333333</td>\n",
       "      <td>63.000000</td>\n",
       "      <td>33.666667</td>\n",
       "      <td>23.333333</td>\n",
       "      <td>9.333333</td>\n",
       "      <td>2113.333333</td>\n",
       "    </tr>\n",
       "    <tr>\n",
       "      <th>4</th>\n",
       "      <td>BMW</td>\n",
       "      <td>535i</td>\n",
       "      <td>Midsize</td>\n",
       "      <td>7.3</td>\n",
       "      <td>8.4</td>\n",
       "      <td>9.5</td>\n",
       "      <td>16</td>\n",
       "      <td>22</td>\n",
       "      <td>Driver only</td>\n",
       "      <td>Rear</td>\n",
       "      <td>...</td>\n",
       "      <td>1508.333333</td>\n",
       "      <td>11.200000</td>\n",
       "      <td>4.000000</td>\n",
       "      <td>160.666667</td>\n",
       "      <td>93.333333</td>\n",
       "      <td>63.000000</td>\n",
       "      <td>33.666667</td>\n",
       "      <td>23.333333</td>\n",
       "      <td>9.333333</td>\n",
       "      <td>2113.333333</td>\n",
       "    </tr>\n",
       "    <tr>\n",
       "      <th>...</th>\n",
       "      <td>...</td>\n",
       "      <td>...</td>\n",
       "      <td>...</td>\n",
       "      <td>...</td>\n",
       "      <td>...</td>\n",
       "      <td>...</td>\n",
       "      <td>...</td>\n",
       "      <td>...</td>\n",
       "      <td>...</td>\n",
       "      <td>...</td>\n",
       "      <td>...</td>\n",
       "      <td>...</td>\n",
       "      <td>...</td>\n",
       "      <td>...</td>\n",
       "      <td>...</td>\n",
       "      <td>...</td>\n",
       "      <td>...</td>\n",
       "      <td>...</td>\n",
       "      <td>...</td>\n",
       "      <td>...</td>\n",
       "      <td>...</td>\n",
       "    </tr>\n",
       "    <tr>\n",
       "      <th>88</th>\n",
       "      <td>Volkswagen</td>\n",
       "      <td>Eurovan</td>\n",
       "      <td>Van</td>\n",
       "      <td>34.6</td>\n",
       "      <td>37.7</td>\n",
       "      <td>41.5</td>\n",
       "      <td>32</td>\n",
       "      <td>38</td>\n",
       "      <td>None</td>\n",
       "      <td>Front</td>\n",
       "      <td>...</td>\n",
       "      <td>3298.333333</td>\n",
       "      <td>21.566667</td>\n",
       "      <td>7.000000</td>\n",
       "      <td>207.666667</td>\n",
       "      <td>115.333333</td>\n",
       "      <td>76.333333</td>\n",
       "      <td>44.000000</td>\n",
       "      <td>33.000000</td>\n",
       "      <td>19.000000</td>\n",
       "      <td>3995.000000</td>\n",
       "    </tr>\n",
       "    <tr>\n",
       "      <th>89</th>\n",
       "      <td>Volkswagen</td>\n",
       "      <td>Passat</td>\n",
       "      <td>Compact</td>\n",
       "      <td>34.7</td>\n",
       "      <td>38.0</td>\n",
       "      <td>42.7</td>\n",
       "      <td>33</td>\n",
       "      <td>41</td>\n",
       "      <td>None</td>\n",
       "      <td>Front</td>\n",
       "      <td>...</td>\n",
       "      <td>3298.333333</td>\n",
       "      <td>21.566667</td>\n",
       "      <td>7.000000</td>\n",
       "      <td>207.666667</td>\n",
       "      <td>115.333333</td>\n",
       "      <td>76.333333</td>\n",
       "      <td>44.000000</td>\n",
       "      <td>33.000000</td>\n",
       "      <td>19.000000</td>\n",
       "      <td>3995.000000</td>\n",
       "    </tr>\n",
       "    <tr>\n",
       "      <th>90</th>\n",
       "      <td>Volkswagen</td>\n",
       "      <td>Corrado</td>\n",
       "      <td>Sporty</td>\n",
       "      <td>37.5</td>\n",
       "      <td>40.1</td>\n",
       "      <td>44.6</td>\n",
       "      <td>39</td>\n",
       "      <td>43</td>\n",
       "      <td>None</td>\n",
       "      <td>Front</td>\n",
       "      <td>...</td>\n",
       "      <td>3545.000000</td>\n",
       "      <td>24.333333</td>\n",
       "      <td>7.333333</td>\n",
       "      <td>216.333333</td>\n",
       "      <td>117.333333</td>\n",
       "      <td>78.000000</td>\n",
       "      <td>45.000000</td>\n",
       "      <td>35.333333</td>\n",
       "      <td>21.333333</td>\n",
       "      <td>4086.666667</td>\n",
       "    </tr>\n",
       "    <tr>\n",
       "      <th>91</th>\n",
       "      <td>Volvo</td>\n",
       "      <td>240</td>\n",
       "      <td>Compact</td>\n",
       "      <td>43.8</td>\n",
       "      <td>47.9</td>\n",
       "      <td>50.4</td>\n",
       "      <td>42</td>\n",
       "      <td>46</td>\n",
       "      <td>Driver only</td>\n",
       "      <td>Rear</td>\n",
       "      <td>...</td>\n",
       "      <td>3545.000000</td>\n",
       "      <td>24.333333</td>\n",
       "      <td>7.333333</td>\n",
       "      <td>216.333333</td>\n",
       "      <td>117.333333</td>\n",
       "      <td>78.000000</td>\n",
       "      <td>45.000000</td>\n",
       "      <td>35.333333</td>\n",
       "      <td>21.333333</td>\n",
       "      <td>4086.666667</td>\n",
       "    </tr>\n",
       "    <tr>\n",
       "      <th>92</th>\n",
       "      <td>Volvo</td>\n",
       "      <td>850</td>\n",
       "      <td>Midsize</td>\n",
       "      <td>45.4</td>\n",
       "      <td>61.9</td>\n",
       "      <td>80.0</td>\n",
       "      <td>46</td>\n",
       "      <td>50</td>\n",
       "      <td>Driver &amp; Passenger</td>\n",
       "      <td>Front</td>\n",
       "      <td>...</td>\n",
       "      <td>3545.000000</td>\n",
       "      <td>24.333333</td>\n",
       "      <td>7.333333</td>\n",
       "      <td>216.333333</td>\n",
       "      <td>117.333333</td>\n",
       "      <td>78.000000</td>\n",
       "      <td>45.000000</td>\n",
       "      <td>35.333333</td>\n",
       "      <td>21.333333</td>\n",
       "      <td>4086.666667</td>\n",
       "    </tr>\n",
       "  </tbody>\n",
       "</table>\n",
       "<p>93 rows × 45 columns</p>\n",
       "</div>\n",
       "      <button class=\"colab-df-convert\" onclick=\"convertToInteractive('df-b5dc2ea7-9279-48f3-87c3-53f922318271')\"\n",
       "              title=\"Convert this dataframe to an interactive table.\"\n",
       "              style=\"display:none;\">\n",
       "        \n",
       "  <svg xmlns=\"http://www.w3.org/2000/svg\" height=\"24px\"viewBox=\"0 0 24 24\"\n",
       "       width=\"24px\">\n",
       "    <path d=\"M0 0h24v24H0V0z\" fill=\"none\"/>\n",
       "    <path d=\"M18.56 5.44l.94 2.06.94-2.06 2.06-.94-2.06-.94-.94-2.06-.94 2.06-2.06.94zm-11 1L8.5 8.5l.94-2.06 2.06-.94-2.06-.94L8.5 2.5l-.94 2.06-2.06.94zm10 10l.94 2.06.94-2.06 2.06-.94-2.06-.94-.94-2.06-.94 2.06-2.06.94z\"/><path d=\"M17.41 7.96l-1.37-1.37c-.4-.4-.92-.59-1.43-.59-.52 0-1.04.2-1.43.59L10.3 9.45l-7.72 7.72c-.78.78-.78 2.05 0 2.83L4 21.41c.39.39.9.59 1.41.59.51 0 1.02-.2 1.41-.59l7.78-7.78 2.81-2.81c.8-.78.8-2.07 0-2.86zM5.41 20L4 18.59l7.72-7.72 1.47 1.35L5.41 20z\"/>\n",
       "  </svg>\n",
       "      </button>\n",
       "      \n",
       "  <style>\n",
       "    .colab-df-container {\n",
       "      display:flex;\n",
       "      flex-wrap:wrap;\n",
       "      gap: 12px;\n",
       "    }\n",
       "\n",
       "    .colab-df-convert {\n",
       "      background-color: #E8F0FE;\n",
       "      border: none;\n",
       "      border-radius: 50%;\n",
       "      cursor: pointer;\n",
       "      display: none;\n",
       "      fill: #1967D2;\n",
       "      height: 32px;\n",
       "      padding: 0 0 0 0;\n",
       "      width: 32px;\n",
       "    }\n",
       "\n",
       "    .colab-df-convert:hover {\n",
       "      background-color: #E2EBFA;\n",
       "      box-shadow: 0px 1px 2px rgba(60, 64, 67, 0.3), 0px 1px 3px 1px rgba(60, 64, 67, 0.15);\n",
       "      fill: #174EA6;\n",
       "    }\n",
       "\n",
       "    [theme=dark] .colab-df-convert {\n",
       "      background-color: #3B4455;\n",
       "      fill: #D2E3FC;\n",
       "    }\n",
       "\n",
       "    [theme=dark] .colab-df-convert:hover {\n",
       "      background-color: #434B5C;\n",
       "      box-shadow: 0px 1px 3px 1px rgba(0, 0, 0, 0.15);\n",
       "      filter: drop-shadow(0px 1px 2px rgba(0, 0, 0, 0.3));\n",
       "      fill: #FFFFFF;\n",
       "    }\n",
       "  </style>\n",
       "\n",
       "      <script>\n",
       "        const buttonEl =\n",
       "          document.querySelector('#df-b5dc2ea7-9279-48f3-87c3-53f922318271 button.colab-df-convert');\n",
       "        buttonEl.style.display =\n",
       "          google.colab.kernel.accessAllowed ? 'block' : 'none';\n",
       "\n",
       "        async function convertToInteractive(key) {\n",
       "          const element = document.querySelector('#df-b5dc2ea7-9279-48f3-87c3-53f922318271');\n",
       "          const dataTable =\n",
       "            await google.colab.kernel.invokeFunction('convertToInteractive',\n",
       "                                                     [key], {});\n",
       "          if (!dataTable) return;\n",
       "\n",
       "          const docLinkHtml = 'Like what you see? Visit the ' +\n",
       "            '<a target=\"_blank\" href=https://colab.research.google.com/notebooks/data_table.ipynb>data table notebook</a>'\n",
       "            + ' to learn more about interactive tables.';\n",
       "          element.innerHTML = '';\n",
       "          dataTable['output_type'] = 'display_data';\n",
       "          await google.colab.output.renderOutput(dataTable, element);\n",
       "          const docLink = document.createElement('div');\n",
       "          docLink.innerHTML = docLinkHtml;\n",
       "          element.appendChild(docLink);\n",
       "        }\n",
       "      </script>\n",
       "    </div>\n",
       "  </div>\n",
       "  "
      ],
      "text/plain": [
       "   Manufacturer    Model     Type  Min.Price  Price  Max.Price  MPG.city  \\\n",
       "0         Acura  Integra    Small        6.7    7.4        7.9        15   \n",
       "1         Acura   Legend  Midsize        6.8    8.0        9.1        15   \n",
       "2          Audi       90  Compact        6.9    8.3        9.2        16   \n",
       "3          Audi      100  Midsize        7.3    8.4        9.5        16   \n",
       "4           BMW     535i  Midsize        7.3    8.4        9.5        16   \n",
       "..          ...      ...      ...        ...    ...        ...       ...   \n",
       "88   Volkswagen  Eurovan      Van       34.6   37.7       41.5        32   \n",
       "89   Volkswagen   Passat  Compact       34.7   38.0       42.7        33   \n",
       "90   Volkswagen  Corrado   Sporty       37.5   40.1       44.6        39   \n",
       "91        Volvo      240  Compact       43.8   47.9       50.4        42   \n",
       "92        Volvo      850  Midsize       45.4   61.9       80.0        46   \n",
       "\n",
       "    MPG.highway             AirBags DriveTrain  ...  Rev.per.mile_smoothen  \\\n",
       "0            20                None      Front  ...            1361.666667   \n",
       "1            20  Driver & Passenger      Front  ...            1361.666667   \n",
       "2            21         Driver only      Front  ...            1361.666667   \n",
       "3            21  Driver & Passenger      Front  ...            1508.333333   \n",
       "4            22         Driver only       Rear  ...            1508.333333   \n",
       "..          ...                 ...        ...  ...                    ...   \n",
       "88           38                None      Front  ...            3298.333333   \n",
       "89           41                None      Front  ...            3298.333333   \n",
       "90           43                None      Front  ...            3545.000000   \n",
       "91           46         Driver only       Rear  ...            3545.000000   \n",
       "92           50  Driver & Passenger      Front  ...            3545.000000   \n",
       "\n",
       "    Fuel.tank.capacity_smoothen  Passengers_smoothen  Length_smoothen  \\\n",
       "0                      9.933333             2.666667       146.000000   \n",
       "1                      9.933333             2.666667       146.000000   \n",
       "2                      9.933333             2.666667       146.000000   \n",
       "3                     11.200000             4.000000       160.666667   \n",
       "4                     11.200000             4.000000       160.666667   \n",
       "..                          ...                  ...              ...   \n",
       "88                    21.566667             7.000000       207.666667   \n",
       "89                    21.566667             7.000000       207.666667   \n",
       "90                    24.333333             7.333333       216.333333   \n",
       "91                    24.333333             7.333333       216.333333   \n",
       "92                    24.333333             7.333333       216.333333   \n",
       "\n",
       "    Wheelbase_smoothen Width_smoothen  Turn.circle_smoothen  \\\n",
       "0            91.000000      62.000000             32.333333   \n",
       "1            91.000000      62.000000             32.333333   \n",
       "2            91.000000      62.000000             32.333333   \n",
       "3            93.333333      63.000000             33.666667   \n",
       "4            93.333333      63.000000             33.666667   \n",
       "..                 ...            ...                   ...   \n",
       "88          115.333333      76.333333             44.000000   \n",
       "89          115.333333      76.333333             44.000000   \n",
       "90          117.333333      78.000000             45.000000   \n",
       "91          117.333333      78.000000             45.000000   \n",
       "92          117.333333      78.000000             45.000000   \n",
       "\n",
       "    Rear_seat_room_smoothen  Luggage_room_smoothen  Weight_smoothen  \n",
       "0                 20.666667               7.333333      1835.000000  \n",
       "1                 20.666667               7.333333      1835.000000  \n",
       "2                 20.666667               7.333333      1835.000000  \n",
       "3                 23.333333               9.333333      2113.333333  \n",
       "4                 23.333333               9.333333      2113.333333  \n",
       "..                      ...                    ...              ...  \n",
       "88                33.000000              19.000000      3995.000000  \n",
       "89                33.000000              19.000000      3995.000000  \n",
       "90                35.333333              21.333333      4086.666667  \n",
       "91                35.333333              21.333333      4086.666667  \n",
       "92                35.333333              21.333333      4086.666667  \n",
       "\n",
       "[93 rows x 45 columns]"
      ]
     },
     "execution_count": 188,
     "metadata": {},
     "output_type": "execute_result"
    }
   ],
   "source": [
    "def reduce_noise(df):\n",
    "  #reducing noice/smoothing data using binning mean method\n",
    "  df1 = df.copy()\n",
    "  #replacing string rotary string value with 6 in cylinder column as all values in cylinders columns is integer only 'rotary' is object type so to convert Cyliders column from object dtype to int I replaced value of 'rotary' with integer value\n",
    "  df1[\"Cylinders\"] = df1[\"Cylinders\"].replace(to_replace='rotary',value=6)\n",
    "  #changing data type of Cylinders column from object to int\n",
    "  df1[\"Cylinders\"] = df1[\"Cylinders\"].astype(int)\n",
    "  for column in df1.columns:\n",
    "    if df1[column].dtype != object:\n",
    "      #sorting column\n",
    "      df1[column] = np.sort(df1[column])\n",
    "      #using bins of size 3\n",
    "      bins = []\n",
    "      for i in range(0,93,3):\n",
    "        #calculating mean\n",
    "        mean = (df1[column][i] + df1[column][i+1] + df1[column][i+2])/3;\n",
    "        temp_bin = []\n",
    "        for j in range(3):\n",
    "          temp_bin.append(mean)\n",
    "        bins.append(temp_bin)\n",
    "        #flattening bins array\n",
    "        flatten_bins = []\n",
    "        for i in range(len(bins)):\n",
    "          for j in range(len(bins[i])):\n",
    "            flatten_bins.append(bins[i][j])\n",
    "      #instead of changing existing column we have added extra columns which represents smoothen data\n",
    "      df1[column+\"_smoothen\"]=flatten_bins\n",
    "  return df1\n",
    "\n",
    "df1 = reduce_noise(df)\n",
    "df1\n",
    "    "
   ]
  },
  {
   "cell_type": "markdown",
   "metadata": {
    "id": "Ie0KB4S1BnBI"
   },
   "source": [
    "Problem 3 iv) Write a function to encode all the categorical features in the dataset according to the type of\n",
    "variable jointly"
   ]
  },
  {
   "cell_type": "code",
   "execution_count": 189,
   "metadata": {
    "colab": {
     "base_uri": "https://localhost:8080/",
     "height": 488
    },
    "id": "iEZTKLLkHGDM",
    "outputId": "2763b2e8-c119-46bb-b660-e7b2dd132e15"
   },
   "outputs": [
    {
     "data": {
      "text/html": [
       "\n",
       "  <div id=\"df-a00494e4-3b86-45d3-a25f-2b1240182b76\">\n",
       "    <div class=\"colab-df-container\">\n",
       "      <div>\n",
       "<style scoped>\n",
       "    .dataframe tbody tr th:only-of-type {\n",
       "        vertical-align: middle;\n",
       "    }\n",
       "\n",
       "    .dataframe tbody tr th {\n",
       "        vertical-align: top;\n",
       "    }\n",
       "\n",
       "    .dataframe thead th {\n",
       "        text-align: right;\n",
       "    }\n",
       "</style>\n",
       "<table border=\"1\" class=\"dataframe\">\n",
       "  <thead>\n",
       "    <tr style=\"text-align: right;\">\n",
       "      <th></th>\n",
       "      <th>Manufacturer</th>\n",
       "      <th>Model</th>\n",
       "      <th>Type</th>\n",
       "      <th>Min.Price</th>\n",
       "      <th>Price</th>\n",
       "      <th>Max.Price</th>\n",
       "      <th>MPG.city</th>\n",
       "      <th>MPG.highway</th>\n",
       "      <th>AirBags</th>\n",
       "      <th>DriveTrain</th>\n",
       "      <th>...</th>\n",
       "      <th>Fuel.tank.capacity</th>\n",
       "      <th>Passengers</th>\n",
       "      <th>Length</th>\n",
       "      <th>Wheelbase</th>\n",
       "      <th>Width</th>\n",
       "      <th>Turn.circle</th>\n",
       "      <th>Rear_seat_room</th>\n",
       "      <th>Luggage_room</th>\n",
       "      <th>Weight</th>\n",
       "      <th>Origin</th>\n",
       "    </tr>\n",
       "  </thead>\n",
       "  <tbody>\n",
       "    <tr>\n",
       "      <th>0</th>\n",
       "      <td>0</td>\n",
       "      <td>0</td>\n",
       "      <td>0</td>\n",
       "      <td>12.9</td>\n",
       "      <td>15.9</td>\n",
       "      <td>18.8</td>\n",
       "      <td>25</td>\n",
       "      <td>31</td>\n",
       "      <td>0</td>\n",
       "      <td>0</td>\n",
       "      <td>...</td>\n",
       "      <td>13.2</td>\n",
       "      <td>5</td>\n",
       "      <td>177</td>\n",
       "      <td>102</td>\n",
       "      <td>68</td>\n",
       "      <td>37</td>\n",
       "      <td>26.5</td>\n",
       "      <td>11.000000</td>\n",
       "      <td>2705</td>\n",
       "      <td>0</td>\n",
       "    </tr>\n",
       "    <tr>\n",
       "      <th>1</th>\n",
       "      <td>0</td>\n",
       "      <td>1</td>\n",
       "      <td>1</td>\n",
       "      <td>29.2</td>\n",
       "      <td>33.9</td>\n",
       "      <td>38.7</td>\n",
       "      <td>18</td>\n",
       "      <td>25</td>\n",
       "      <td>1</td>\n",
       "      <td>0</td>\n",
       "      <td>...</td>\n",
       "      <td>18.0</td>\n",
       "      <td>5</td>\n",
       "      <td>195</td>\n",
       "      <td>115</td>\n",
       "      <td>71</td>\n",
       "      <td>38</td>\n",
       "      <td>30.0</td>\n",
       "      <td>15.000000</td>\n",
       "      <td>3560</td>\n",
       "      <td>0</td>\n",
       "    </tr>\n",
       "    <tr>\n",
       "      <th>2</th>\n",
       "      <td>1</td>\n",
       "      <td>2</td>\n",
       "      <td>2</td>\n",
       "      <td>25.9</td>\n",
       "      <td>29.1</td>\n",
       "      <td>32.3</td>\n",
       "      <td>20</td>\n",
       "      <td>26</td>\n",
       "      <td>2</td>\n",
       "      <td>0</td>\n",
       "      <td>...</td>\n",
       "      <td>16.9</td>\n",
       "      <td>5</td>\n",
       "      <td>180</td>\n",
       "      <td>102</td>\n",
       "      <td>67</td>\n",
       "      <td>37</td>\n",
       "      <td>28.0</td>\n",
       "      <td>14.000000</td>\n",
       "      <td>3375</td>\n",
       "      <td>0</td>\n",
       "    </tr>\n",
       "    <tr>\n",
       "      <th>3</th>\n",
       "      <td>1</td>\n",
       "      <td>3</td>\n",
       "      <td>1</td>\n",
       "      <td>30.8</td>\n",
       "      <td>37.7</td>\n",
       "      <td>44.6</td>\n",
       "      <td>19</td>\n",
       "      <td>26</td>\n",
       "      <td>1</td>\n",
       "      <td>0</td>\n",
       "      <td>...</td>\n",
       "      <td>21.1</td>\n",
       "      <td>6</td>\n",
       "      <td>193</td>\n",
       "      <td>106</td>\n",
       "      <td>70</td>\n",
       "      <td>37</td>\n",
       "      <td>31.0</td>\n",
       "      <td>17.000000</td>\n",
       "      <td>3405</td>\n",
       "      <td>0</td>\n",
       "    </tr>\n",
       "    <tr>\n",
       "      <th>4</th>\n",
       "      <td>2</td>\n",
       "      <td>4</td>\n",
       "      <td>1</td>\n",
       "      <td>23.7</td>\n",
       "      <td>30.0</td>\n",
       "      <td>36.2</td>\n",
       "      <td>22</td>\n",
       "      <td>30</td>\n",
       "      <td>2</td>\n",
       "      <td>1</td>\n",
       "      <td>...</td>\n",
       "      <td>21.1</td>\n",
       "      <td>4</td>\n",
       "      <td>186</td>\n",
       "      <td>109</td>\n",
       "      <td>69</td>\n",
       "      <td>39</td>\n",
       "      <td>27.0</td>\n",
       "      <td>13.000000</td>\n",
       "      <td>3640</td>\n",
       "      <td>0</td>\n",
       "    </tr>\n",
       "    <tr>\n",
       "      <th>...</th>\n",
       "      <td>...</td>\n",
       "      <td>...</td>\n",
       "      <td>...</td>\n",
       "      <td>...</td>\n",
       "      <td>...</td>\n",
       "      <td>...</td>\n",
       "      <td>...</td>\n",
       "      <td>...</td>\n",
       "      <td>...</td>\n",
       "      <td>...</td>\n",
       "      <td>...</td>\n",
       "      <td>...</td>\n",
       "      <td>...</td>\n",
       "      <td>...</td>\n",
       "      <td>...</td>\n",
       "      <td>...</td>\n",
       "      <td>...</td>\n",
       "      <td>...</td>\n",
       "      <td>...</td>\n",
       "      <td>...</td>\n",
       "      <td>...</td>\n",
       "    </tr>\n",
       "    <tr>\n",
       "      <th>88</th>\n",
       "      <td>30</td>\n",
       "      <td>88</td>\n",
       "      <td>5</td>\n",
       "      <td>16.6</td>\n",
       "      <td>19.7</td>\n",
       "      <td>22.7</td>\n",
       "      <td>17</td>\n",
       "      <td>21</td>\n",
       "      <td>0</td>\n",
       "      <td>0</td>\n",
       "      <td>...</td>\n",
       "      <td>21.1</td>\n",
       "      <td>7</td>\n",
       "      <td>187</td>\n",
       "      <td>115</td>\n",
       "      <td>72</td>\n",
       "      <td>38</td>\n",
       "      <td>34.0</td>\n",
       "      <td>13.890244</td>\n",
       "      <td>3960</td>\n",
       "      <td>0</td>\n",
       "    </tr>\n",
       "    <tr>\n",
       "      <th>89</th>\n",
       "      <td>30</td>\n",
       "      <td>89</td>\n",
       "      <td>2</td>\n",
       "      <td>17.6</td>\n",
       "      <td>20.0</td>\n",
       "      <td>22.4</td>\n",
       "      <td>21</td>\n",
       "      <td>30</td>\n",
       "      <td>0</td>\n",
       "      <td>0</td>\n",
       "      <td>...</td>\n",
       "      <td>18.5</td>\n",
       "      <td>5</td>\n",
       "      <td>180</td>\n",
       "      <td>103</td>\n",
       "      <td>67</td>\n",
       "      <td>35</td>\n",
       "      <td>31.5</td>\n",
       "      <td>14.000000</td>\n",
       "      <td>2985</td>\n",
       "      <td>0</td>\n",
       "    </tr>\n",
       "    <tr>\n",
       "      <th>90</th>\n",
       "      <td>30</td>\n",
       "      <td>90</td>\n",
       "      <td>4</td>\n",
       "      <td>22.9</td>\n",
       "      <td>23.3</td>\n",
       "      <td>23.7</td>\n",
       "      <td>18</td>\n",
       "      <td>25</td>\n",
       "      <td>0</td>\n",
       "      <td>0</td>\n",
       "      <td>...</td>\n",
       "      <td>18.5</td>\n",
       "      <td>4</td>\n",
       "      <td>159</td>\n",
       "      <td>97</td>\n",
       "      <td>66</td>\n",
       "      <td>36</td>\n",
       "      <td>26.0</td>\n",
       "      <td>15.000000</td>\n",
       "      <td>2810</td>\n",
       "      <td>0</td>\n",
       "    </tr>\n",
       "    <tr>\n",
       "      <th>91</th>\n",
       "      <td>31</td>\n",
       "      <td>91</td>\n",
       "      <td>2</td>\n",
       "      <td>21.8</td>\n",
       "      <td>22.7</td>\n",
       "      <td>23.5</td>\n",
       "      <td>21</td>\n",
       "      <td>28</td>\n",
       "      <td>2</td>\n",
       "      <td>1</td>\n",
       "      <td>...</td>\n",
       "      <td>15.8</td>\n",
       "      <td>5</td>\n",
       "      <td>190</td>\n",
       "      <td>104</td>\n",
       "      <td>67</td>\n",
       "      <td>37</td>\n",
       "      <td>29.5</td>\n",
       "      <td>14.000000</td>\n",
       "      <td>2985</td>\n",
       "      <td>0</td>\n",
       "    </tr>\n",
       "    <tr>\n",
       "      <th>92</th>\n",
       "      <td>31</td>\n",
       "      <td>92</td>\n",
       "      <td>1</td>\n",
       "      <td>24.8</td>\n",
       "      <td>26.7</td>\n",
       "      <td>28.5</td>\n",
       "      <td>20</td>\n",
       "      <td>28</td>\n",
       "      <td>1</td>\n",
       "      <td>0</td>\n",
       "      <td>...</td>\n",
       "      <td>19.3</td>\n",
       "      <td>5</td>\n",
       "      <td>184</td>\n",
       "      <td>105</td>\n",
       "      <td>69</td>\n",
       "      <td>38</td>\n",
       "      <td>30.0</td>\n",
       "      <td>15.000000</td>\n",
       "      <td>3245</td>\n",
       "      <td>0</td>\n",
       "    </tr>\n",
       "  </tbody>\n",
       "</table>\n",
       "<p>93 rows × 26 columns</p>\n",
       "</div>\n",
       "      <button class=\"colab-df-convert\" onclick=\"convertToInteractive('df-a00494e4-3b86-45d3-a25f-2b1240182b76')\"\n",
       "              title=\"Convert this dataframe to an interactive table.\"\n",
       "              style=\"display:none;\">\n",
       "        \n",
       "  <svg xmlns=\"http://www.w3.org/2000/svg\" height=\"24px\"viewBox=\"0 0 24 24\"\n",
       "       width=\"24px\">\n",
       "    <path d=\"M0 0h24v24H0V0z\" fill=\"none\"/>\n",
       "    <path d=\"M18.56 5.44l.94 2.06.94-2.06 2.06-.94-2.06-.94-.94-2.06-.94 2.06-2.06.94zm-11 1L8.5 8.5l.94-2.06 2.06-.94-2.06-.94L8.5 2.5l-.94 2.06-2.06.94zm10 10l.94 2.06.94-2.06 2.06-.94-2.06-.94-.94-2.06-.94 2.06-2.06.94z\"/><path d=\"M17.41 7.96l-1.37-1.37c-.4-.4-.92-.59-1.43-.59-.52 0-1.04.2-1.43.59L10.3 9.45l-7.72 7.72c-.78.78-.78 2.05 0 2.83L4 21.41c.39.39.9.59 1.41.59.51 0 1.02-.2 1.41-.59l7.78-7.78 2.81-2.81c.8-.78.8-2.07 0-2.86zM5.41 20L4 18.59l7.72-7.72 1.47 1.35L5.41 20z\"/>\n",
       "  </svg>\n",
       "      </button>\n",
       "      \n",
       "  <style>\n",
       "    .colab-df-container {\n",
       "      display:flex;\n",
       "      flex-wrap:wrap;\n",
       "      gap: 12px;\n",
       "    }\n",
       "\n",
       "    .colab-df-convert {\n",
       "      background-color: #E8F0FE;\n",
       "      border: none;\n",
       "      border-radius: 50%;\n",
       "      cursor: pointer;\n",
       "      display: none;\n",
       "      fill: #1967D2;\n",
       "      height: 32px;\n",
       "      padding: 0 0 0 0;\n",
       "      width: 32px;\n",
       "    }\n",
       "\n",
       "    .colab-df-convert:hover {\n",
       "      background-color: #E2EBFA;\n",
       "      box-shadow: 0px 1px 2px rgba(60, 64, 67, 0.3), 0px 1px 3px 1px rgba(60, 64, 67, 0.15);\n",
       "      fill: #174EA6;\n",
       "    }\n",
       "\n",
       "    [theme=dark] .colab-df-convert {\n",
       "      background-color: #3B4455;\n",
       "      fill: #D2E3FC;\n",
       "    }\n",
       "\n",
       "    [theme=dark] .colab-df-convert:hover {\n",
       "      background-color: #434B5C;\n",
       "      box-shadow: 0px 1px 3px 1px rgba(0, 0, 0, 0.15);\n",
       "      filter: drop-shadow(0px 1px 2px rgba(0, 0, 0, 0.3));\n",
       "      fill: #FFFFFF;\n",
       "    }\n",
       "  </style>\n",
       "\n",
       "      <script>\n",
       "        const buttonEl =\n",
       "          document.querySelector('#df-a00494e4-3b86-45d3-a25f-2b1240182b76 button.colab-df-convert');\n",
       "        buttonEl.style.display =\n",
       "          google.colab.kernel.accessAllowed ? 'block' : 'none';\n",
       "\n",
       "        async function convertToInteractive(key) {\n",
       "          const element = document.querySelector('#df-a00494e4-3b86-45d3-a25f-2b1240182b76');\n",
       "          const dataTable =\n",
       "            await google.colab.kernel.invokeFunction('convertToInteractive',\n",
       "                                                     [key], {});\n",
       "          if (!dataTable) return;\n",
       "\n",
       "          const docLinkHtml = 'Like what you see? Visit the ' +\n",
       "            '<a target=\"_blank\" href=https://colab.research.google.com/notebooks/data_table.ipynb>data table notebook</a>'\n",
       "            + ' to learn more about interactive tables.';\n",
       "          element.innerHTML = '';\n",
       "          dataTable['output_type'] = 'display_data';\n",
       "          await google.colab.output.renderOutput(dataTable, element);\n",
       "          const docLink = document.createElement('div');\n",
       "          docLink.innerHTML = docLinkHtml;\n",
       "          element.appendChild(docLink);\n",
       "        }\n",
       "      </script>\n",
       "    </div>\n",
       "  </div>\n",
       "  "
      ],
      "text/plain": [
       "    Manufacturer  Model  Type  Min.Price  Price  Max.Price  MPG.city  \\\n",
       "0              0      0     0       12.9   15.9       18.8        25   \n",
       "1              0      1     1       29.2   33.9       38.7        18   \n",
       "2              1      2     2       25.9   29.1       32.3        20   \n",
       "3              1      3     1       30.8   37.7       44.6        19   \n",
       "4              2      4     1       23.7   30.0       36.2        22   \n",
       "..           ...    ...   ...        ...    ...        ...       ...   \n",
       "88            30     88     5       16.6   19.7       22.7        17   \n",
       "89            30     89     2       17.6   20.0       22.4        21   \n",
       "90            30     90     4       22.9   23.3       23.7        18   \n",
       "91            31     91     2       21.8   22.7       23.5        21   \n",
       "92            31     92     1       24.8   26.7       28.5        20   \n",
       "\n",
       "    MPG.highway  AirBags  DriveTrain  ...  Fuel.tank.capacity  Passengers  \\\n",
       "0            31        0           0  ...                13.2           5   \n",
       "1            25        1           0  ...                18.0           5   \n",
       "2            26        2           0  ...                16.9           5   \n",
       "3            26        1           0  ...                21.1           6   \n",
       "4            30        2           1  ...                21.1           4   \n",
       "..          ...      ...         ...  ...                 ...         ...   \n",
       "88           21        0           0  ...                21.1           7   \n",
       "89           30        0           0  ...                18.5           5   \n",
       "90           25        0           0  ...                18.5           4   \n",
       "91           28        2           1  ...                15.8           5   \n",
       "92           28        1           0  ...                19.3           5   \n",
       "\n",
       "    Length  Wheelbase  Width  Turn.circle  Rear_seat_room  Luggage_room  \\\n",
       "0      177        102     68           37            26.5     11.000000   \n",
       "1      195        115     71           38            30.0     15.000000   \n",
       "2      180        102     67           37            28.0     14.000000   \n",
       "3      193        106     70           37            31.0     17.000000   \n",
       "4      186        109     69           39            27.0     13.000000   \n",
       "..     ...        ...    ...          ...             ...           ...   \n",
       "88     187        115     72           38            34.0     13.890244   \n",
       "89     180        103     67           35            31.5     14.000000   \n",
       "90     159         97     66           36            26.0     15.000000   \n",
       "91     190        104     67           37            29.5     14.000000   \n",
       "92     184        105     69           38            30.0     15.000000   \n",
       "\n",
       "    Weight  Origin  \n",
       "0     2705       0  \n",
       "1     3560       0  \n",
       "2     3375       0  \n",
       "3     3405       0  \n",
       "4     3640       0  \n",
       "..     ...     ...  \n",
       "88    3960       0  \n",
       "89    2985       0  \n",
       "90    2810       0  \n",
       "91    2985       0  \n",
       "92    3245       0  \n",
       "\n",
       "[93 rows x 26 columns]"
      ]
     },
     "execution_count": 189,
     "metadata": {},
     "output_type": "execute_result"
    }
   ],
   "source": [
    "#integer encoding to object type data-type (i.e In manufacturer column Acura = 0, Audi =1, etc...)\n",
    "def encode_categorical(df):\n",
    "  df2 = df.copy()\n",
    "  for column in df2.columns:\n",
    "    if df2[column].dtype == object:\n",
    "      dic = {}\n",
    "      cnt = 0\n",
    "      for i in range(len(df2[column])):\n",
    "        if df2[column][i] not in dic:\n",
    "          dic[df2[column][i]] = cnt\n",
    "          cnt+=1\n",
    "\n",
    "      df2[column] = df2[column].replace(dic)\n",
    "\n",
    "  return df2\n",
    "\n",
    "df2 = encode_categorical(df)\n",
    "df2"
   ]
  },
  {
   "cell_type": "markdown",
   "metadata": {
    "id": "ZsCVwTpKvfuA"
   },
   "source": [
    "Problem 3(v) Write a function to normalize / scale the features either individually or jointly."
   ]
  },
  {
   "cell_type": "code",
   "execution_count": 190,
   "metadata": {
    "colab": {
     "base_uri": "https://localhost:8080/",
     "height": 661
    },
    "id": "EG45RCSfwFs-",
    "outputId": "ea943db6-bc41-45ab-9baf-b26ef61e88d4"
   },
   "outputs": [
    {
     "data": {
      "text/html": [
       "\n",
       "  <div id=\"df-bbf5235b-baf3-44f7-b6b0-f8e5162aa2ef\">\n",
       "    <div class=\"colab-df-container\">\n",
       "      <div>\n",
       "<style scoped>\n",
       "    .dataframe tbody tr th:only-of-type {\n",
       "        vertical-align: middle;\n",
       "    }\n",
       "\n",
       "    .dataframe tbody tr th {\n",
       "        vertical-align: top;\n",
       "    }\n",
       "\n",
       "    .dataframe thead th {\n",
       "        text-align: right;\n",
       "    }\n",
       "</style>\n",
       "<table border=\"1\" class=\"dataframe\">\n",
       "  <thead>\n",
       "    <tr style=\"text-align: right;\">\n",
       "      <th></th>\n",
       "      <th>Manufacturer</th>\n",
       "      <th>Model</th>\n",
       "      <th>Type</th>\n",
       "      <th>Min.Price</th>\n",
       "      <th>Price</th>\n",
       "      <th>Max.Price</th>\n",
       "      <th>MPG.city</th>\n",
       "      <th>MPG.highway</th>\n",
       "      <th>AirBags</th>\n",
       "      <th>DriveTrain</th>\n",
       "      <th>...</th>\n",
       "      <th>Fuel.tank.capacity</th>\n",
       "      <th>Passengers</th>\n",
       "      <th>Length</th>\n",
       "      <th>Wheelbase</th>\n",
       "      <th>Width</th>\n",
       "      <th>Turn.circle</th>\n",
       "      <th>Rear_seat_room</th>\n",
       "      <th>Luggage_room</th>\n",
       "      <th>Weight</th>\n",
       "      <th>Origin</th>\n",
       "    </tr>\n",
       "  </thead>\n",
       "  <tbody>\n",
       "    <tr>\n",
       "      <th>0</th>\n",
       "      <td>Acura</td>\n",
       "      <td>Integra</td>\n",
       "      <td>Small</td>\n",
       "      <td>0.160207</td>\n",
       "      <td>0.155963</td>\n",
       "      <td>0.151179</td>\n",
       "      <td>0.322581</td>\n",
       "      <td>0.366667</td>\n",
       "      <td>None</td>\n",
       "      <td>Front</td>\n",
       "      <td>...</td>\n",
       "      <td>0.224719</td>\n",
       "      <td>0.500000</td>\n",
       "      <td>0.461538</td>\n",
       "      <td>0.413793</td>\n",
       "      <td>0.444444</td>\n",
       "      <td>0.384615</td>\n",
       "      <td>0.441176</td>\n",
       "      <td>0.31250</td>\n",
       "      <td>0.419087</td>\n",
       "      <td>non-USA</td>\n",
       "    </tr>\n",
       "    <tr>\n",
       "      <th>1</th>\n",
       "      <td>Acura</td>\n",
       "      <td>Legend</td>\n",
       "      <td>Midsize</td>\n",
       "      <td>0.581395</td>\n",
       "      <td>0.486239</td>\n",
       "      <td>0.427184</td>\n",
       "      <td>0.096774</td>\n",
       "      <td>0.166667</td>\n",
       "      <td>Driver &amp; Passenger</td>\n",
       "      <td>Front</td>\n",
       "      <td>...</td>\n",
       "      <td>0.494382</td>\n",
       "      <td>0.500000</td>\n",
       "      <td>0.692308</td>\n",
       "      <td>0.862069</td>\n",
       "      <td>0.611111</td>\n",
       "      <td>0.461538</td>\n",
       "      <td>0.647059</td>\n",
       "      <td>0.56250</td>\n",
       "      <td>0.773859</td>\n",
       "      <td>non-USA</td>\n",
       "    </tr>\n",
       "    <tr>\n",
       "      <th>2</th>\n",
       "      <td>Audi</td>\n",
       "      <td>90</td>\n",
       "      <td>Compact</td>\n",
       "      <td>0.496124</td>\n",
       "      <td>0.398165</td>\n",
       "      <td>0.338419</td>\n",
       "      <td>0.161290</td>\n",
       "      <td>0.200000</td>\n",
       "      <td>Driver only</td>\n",
       "      <td>Front</td>\n",
       "      <td>...</td>\n",
       "      <td>0.432584</td>\n",
       "      <td>0.500000</td>\n",
       "      <td>0.500000</td>\n",
       "      <td>0.413793</td>\n",
       "      <td>0.388889</td>\n",
       "      <td>0.384615</td>\n",
       "      <td>0.529412</td>\n",
       "      <td>0.50000</td>\n",
       "      <td>0.697095</td>\n",
       "      <td>non-USA</td>\n",
       "    </tr>\n",
       "    <tr>\n",
       "      <th>3</th>\n",
       "      <td>Audi</td>\n",
       "      <td>100</td>\n",
       "      <td>Midsize</td>\n",
       "      <td>0.622739</td>\n",
       "      <td>0.555963</td>\n",
       "      <td>0.509015</td>\n",
       "      <td>0.129032</td>\n",
       "      <td>0.200000</td>\n",
       "      <td>Driver &amp; Passenger</td>\n",
       "      <td>Front</td>\n",
       "      <td>...</td>\n",
       "      <td>0.668539</td>\n",
       "      <td>0.666667</td>\n",
       "      <td>0.666667</td>\n",
       "      <td>0.551724</td>\n",
       "      <td>0.555556</td>\n",
       "      <td>0.384615</td>\n",
       "      <td>0.705882</td>\n",
       "      <td>0.68750</td>\n",
       "      <td>0.709544</td>\n",
       "      <td>non-USA</td>\n",
       "    </tr>\n",
       "    <tr>\n",
       "      <th>4</th>\n",
       "      <td>BMW</td>\n",
       "      <td>535i</td>\n",
       "      <td>Midsize</td>\n",
       "      <td>0.439276</td>\n",
       "      <td>0.414679</td>\n",
       "      <td>0.392510</td>\n",
       "      <td>0.225806</td>\n",
       "      <td>0.333333</td>\n",
       "      <td>Driver only</td>\n",
       "      <td>Rear</td>\n",
       "      <td>...</td>\n",
       "      <td>0.668539</td>\n",
       "      <td>0.333333</td>\n",
       "      <td>0.576923</td>\n",
       "      <td>0.655172</td>\n",
       "      <td>0.500000</td>\n",
       "      <td>0.538462</td>\n",
       "      <td>0.470588</td>\n",
       "      <td>0.43750</td>\n",
       "      <td>0.807054</td>\n",
       "      <td>non-USA</td>\n",
       "    </tr>\n",
       "    <tr>\n",
       "      <th>...</th>\n",
       "      <td>...</td>\n",
       "      <td>...</td>\n",
       "      <td>...</td>\n",
       "      <td>...</td>\n",
       "      <td>...</td>\n",
       "      <td>...</td>\n",
       "      <td>...</td>\n",
       "      <td>...</td>\n",
       "      <td>...</td>\n",
       "      <td>...</td>\n",
       "      <td>...</td>\n",
       "      <td>...</td>\n",
       "      <td>...</td>\n",
       "      <td>...</td>\n",
       "      <td>...</td>\n",
       "      <td>...</td>\n",
       "      <td>...</td>\n",
       "      <td>...</td>\n",
       "      <td>...</td>\n",
       "      <td>...</td>\n",
       "      <td>...</td>\n",
       "    </tr>\n",
       "    <tr>\n",
       "      <th>88</th>\n",
       "      <td>Volkswagen</td>\n",
       "      <td>Eurovan</td>\n",
       "      <td>Van</td>\n",
       "      <td>0.255814</td>\n",
       "      <td>0.225688</td>\n",
       "      <td>0.205270</td>\n",
       "      <td>0.064516</td>\n",
       "      <td>0.033333</td>\n",
       "      <td>None</td>\n",
       "      <td>Front</td>\n",
       "      <td>...</td>\n",
       "      <td>0.668539</td>\n",
       "      <td>0.833333</td>\n",
       "      <td>0.589744</td>\n",
       "      <td>0.862069</td>\n",
       "      <td>0.666667</td>\n",
       "      <td>0.461538</td>\n",
       "      <td>0.882353</td>\n",
       "      <td>0.49314</td>\n",
       "      <td>0.939834</td>\n",
       "      <td>non-USA</td>\n",
       "    </tr>\n",
       "    <tr>\n",
       "      <th>89</th>\n",
       "      <td>Volkswagen</td>\n",
       "      <td>Passat</td>\n",
       "      <td>Compact</td>\n",
       "      <td>0.281654</td>\n",
       "      <td>0.231193</td>\n",
       "      <td>0.201110</td>\n",
       "      <td>0.193548</td>\n",
       "      <td>0.333333</td>\n",
       "      <td>None</td>\n",
       "      <td>Front</td>\n",
       "      <td>...</td>\n",
       "      <td>0.522472</td>\n",
       "      <td>0.500000</td>\n",
       "      <td>0.500000</td>\n",
       "      <td>0.448276</td>\n",
       "      <td>0.388889</td>\n",
       "      <td>0.230769</td>\n",
       "      <td>0.735294</td>\n",
       "      <td>0.50000</td>\n",
       "      <td>0.535270</td>\n",
       "      <td>non-USA</td>\n",
       "    </tr>\n",
       "    <tr>\n",
       "      <th>90</th>\n",
       "      <td>Volkswagen</td>\n",
       "      <td>Corrado</td>\n",
       "      <td>Sporty</td>\n",
       "      <td>0.418605</td>\n",
       "      <td>0.291743</td>\n",
       "      <td>0.219140</td>\n",
       "      <td>0.096774</td>\n",
       "      <td>0.166667</td>\n",
       "      <td>None</td>\n",
       "      <td>Front</td>\n",
       "      <td>...</td>\n",
       "      <td>0.522472</td>\n",
       "      <td>0.333333</td>\n",
       "      <td>0.230769</td>\n",
       "      <td>0.241379</td>\n",
       "      <td>0.333333</td>\n",
       "      <td>0.307692</td>\n",
       "      <td>0.411765</td>\n",
       "      <td>0.56250</td>\n",
       "      <td>0.462656</td>\n",
       "      <td>non-USA</td>\n",
       "    </tr>\n",
       "    <tr>\n",
       "      <th>91</th>\n",
       "      <td>Volvo</td>\n",
       "      <td>240</td>\n",
       "      <td>Compact</td>\n",
       "      <td>0.390181</td>\n",
       "      <td>0.280734</td>\n",
       "      <td>0.216366</td>\n",
       "      <td>0.193548</td>\n",
       "      <td>0.266667</td>\n",
       "      <td>Driver only</td>\n",
       "      <td>Rear</td>\n",
       "      <td>...</td>\n",
       "      <td>0.370787</td>\n",
       "      <td>0.500000</td>\n",
       "      <td>0.628205</td>\n",
       "      <td>0.482759</td>\n",
       "      <td>0.388889</td>\n",
       "      <td>0.384615</td>\n",
       "      <td>0.617647</td>\n",
       "      <td>0.50000</td>\n",
       "      <td>0.535270</td>\n",
       "      <td>non-USA</td>\n",
       "    </tr>\n",
       "    <tr>\n",
       "      <th>92</th>\n",
       "      <td>Volvo</td>\n",
       "      <td>850</td>\n",
       "      <td>Midsize</td>\n",
       "      <td>0.467700</td>\n",
       "      <td>0.354128</td>\n",
       "      <td>0.285714</td>\n",
       "      <td>0.161290</td>\n",
       "      <td>0.266667</td>\n",
       "      <td>Driver &amp; Passenger</td>\n",
       "      <td>Front</td>\n",
       "      <td>...</td>\n",
       "      <td>0.567416</td>\n",
       "      <td>0.500000</td>\n",
       "      <td>0.551282</td>\n",
       "      <td>0.517241</td>\n",
       "      <td>0.500000</td>\n",
       "      <td>0.461538</td>\n",
       "      <td>0.647059</td>\n",
       "      <td>0.56250</td>\n",
       "      <td>0.643154</td>\n",
       "      <td>non-USA</td>\n",
       "    </tr>\n",
       "  </tbody>\n",
       "</table>\n",
       "<p>93 rows × 26 columns</p>\n",
       "</div>\n",
       "      <button class=\"colab-df-convert\" onclick=\"convertToInteractive('df-bbf5235b-baf3-44f7-b6b0-f8e5162aa2ef')\"\n",
       "              title=\"Convert this dataframe to an interactive table.\"\n",
       "              style=\"display:none;\">\n",
       "        \n",
       "  <svg xmlns=\"http://www.w3.org/2000/svg\" height=\"24px\"viewBox=\"0 0 24 24\"\n",
       "       width=\"24px\">\n",
       "    <path d=\"M0 0h24v24H0V0z\" fill=\"none\"/>\n",
       "    <path d=\"M18.56 5.44l.94 2.06.94-2.06 2.06-.94-2.06-.94-.94-2.06-.94 2.06-2.06.94zm-11 1L8.5 8.5l.94-2.06 2.06-.94-2.06-.94L8.5 2.5l-.94 2.06-2.06.94zm10 10l.94 2.06.94-2.06 2.06-.94-2.06-.94-.94-2.06-.94 2.06-2.06.94z\"/><path d=\"M17.41 7.96l-1.37-1.37c-.4-.4-.92-.59-1.43-.59-.52 0-1.04.2-1.43.59L10.3 9.45l-7.72 7.72c-.78.78-.78 2.05 0 2.83L4 21.41c.39.39.9.59 1.41.59.51 0 1.02-.2 1.41-.59l7.78-7.78 2.81-2.81c.8-.78.8-2.07 0-2.86zM5.41 20L4 18.59l7.72-7.72 1.47 1.35L5.41 20z\"/>\n",
       "  </svg>\n",
       "      </button>\n",
       "      \n",
       "  <style>\n",
       "    .colab-df-container {\n",
       "      display:flex;\n",
       "      flex-wrap:wrap;\n",
       "      gap: 12px;\n",
       "    }\n",
       "\n",
       "    .colab-df-convert {\n",
       "      background-color: #E8F0FE;\n",
       "      border: none;\n",
       "      border-radius: 50%;\n",
       "      cursor: pointer;\n",
       "      display: none;\n",
       "      fill: #1967D2;\n",
       "      height: 32px;\n",
       "      padding: 0 0 0 0;\n",
       "      width: 32px;\n",
       "    }\n",
       "\n",
       "    .colab-df-convert:hover {\n",
       "      background-color: #E2EBFA;\n",
       "      box-shadow: 0px 1px 2px rgba(60, 64, 67, 0.3), 0px 1px 3px 1px rgba(60, 64, 67, 0.15);\n",
       "      fill: #174EA6;\n",
       "    }\n",
       "\n",
       "    [theme=dark] .colab-df-convert {\n",
       "      background-color: #3B4455;\n",
       "      fill: #D2E3FC;\n",
       "    }\n",
       "\n",
       "    [theme=dark] .colab-df-convert:hover {\n",
       "      background-color: #434B5C;\n",
       "      box-shadow: 0px 1px 3px 1px rgba(0, 0, 0, 0.15);\n",
       "      filter: drop-shadow(0px 1px 2px rgba(0, 0, 0, 0.3));\n",
       "      fill: #FFFFFF;\n",
       "    }\n",
       "  </style>\n",
       "\n",
       "      <script>\n",
       "        const buttonEl =\n",
       "          document.querySelector('#df-bbf5235b-baf3-44f7-b6b0-f8e5162aa2ef button.colab-df-convert');\n",
       "        buttonEl.style.display =\n",
       "          google.colab.kernel.accessAllowed ? 'block' : 'none';\n",
       "\n",
       "        async function convertToInteractive(key) {\n",
       "          const element = document.querySelector('#df-bbf5235b-baf3-44f7-b6b0-f8e5162aa2ef');\n",
       "          const dataTable =\n",
       "            await google.colab.kernel.invokeFunction('convertToInteractive',\n",
       "                                                     [key], {});\n",
       "          if (!dataTable) return;\n",
       "\n",
       "          const docLinkHtml = 'Like what you see? Visit the ' +\n",
       "            '<a target=\"_blank\" href=https://colab.research.google.com/notebooks/data_table.ipynb>data table notebook</a>'\n",
       "            + ' to learn more about interactive tables.';\n",
       "          element.innerHTML = '';\n",
       "          dataTable['output_type'] = 'display_data';\n",
       "          await google.colab.output.renderOutput(dataTable, element);\n",
       "          const docLink = document.createElement('div');\n",
       "          docLink.innerHTML = docLinkHtml;\n",
       "          element.appendChild(docLink);\n",
       "        }\n",
       "      </script>\n",
       "    </div>\n",
       "  </div>\n",
       "  "
      ],
      "text/plain": [
       "   Manufacturer    Model     Type  Min.Price     Price  Max.Price  MPG.city  \\\n",
       "0         Acura  Integra    Small   0.160207  0.155963   0.151179  0.322581   \n",
       "1         Acura   Legend  Midsize   0.581395  0.486239   0.427184  0.096774   \n",
       "2          Audi       90  Compact   0.496124  0.398165   0.338419  0.161290   \n",
       "3          Audi      100  Midsize   0.622739  0.555963   0.509015  0.129032   \n",
       "4           BMW     535i  Midsize   0.439276  0.414679   0.392510  0.225806   \n",
       "..          ...      ...      ...        ...       ...        ...       ...   \n",
       "88   Volkswagen  Eurovan      Van   0.255814  0.225688   0.205270  0.064516   \n",
       "89   Volkswagen   Passat  Compact   0.281654  0.231193   0.201110  0.193548   \n",
       "90   Volkswagen  Corrado   Sporty   0.418605  0.291743   0.219140  0.096774   \n",
       "91        Volvo      240  Compact   0.390181  0.280734   0.216366  0.193548   \n",
       "92        Volvo      850  Midsize   0.467700  0.354128   0.285714  0.161290   \n",
       "\n",
       "    MPG.highway             AirBags DriveTrain  ...  Fuel.tank.capacity  \\\n",
       "0      0.366667                None      Front  ...            0.224719   \n",
       "1      0.166667  Driver & Passenger      Front  ...            0.494382   \n",
       "2      0.200000         Driver only      Front  ...            0.432584   \n",
       "3      0.200000  Driver & Passenger      Front  ...            0.668539   \n",
       "4      0.333333         Driver only       Rear  ...            0.668539   \n",
       "..          ...                 ...        ...  ...                 ...   \n",
       "88     0.033333                None      Front  ...            0.668539   \n",
       "89     0.333333                None      Front  ...            0.522472   \n",
       "90     0.166667                None      Front  ...            0.522472   \n",
       "91     0.266667         Driver only       Rear  ...            0.370787   \n",
       "92     0.266667  Driver & Passenger      Front  ...            0.567416   \n",
       "\n",
       "    Passengers    Length  Wheelbase     Width Turn.circle  Rear_seat_room  \\\n",
       "0     0.500000  0.461538   0.413793  0.444444    0.384615        0.441176   \n",
       "1     0.500000  0.692308   0.862069  0.611111    0.461538        0.647059   \n",
       "2     0.500000  0.500000   0.413793  0.388889    0.384615        0.529412   \n",
       "3     0.666667  0.666667   0.551724  0.555556    0.384615        0.705882   \n",
       "4     0.333333  0.576923   0.655172  0.500000    0.538462        0.470588   \n",
       "..         ...       ...        ...       ...         ...             ...   \n",
       "88    0.833333  0.589744   0.862069  0.666667    0.461538        0.882353   \n",
       "89    0.500000  0.500000   0.448276  0.388889    0.230769        0.735294   \n",
       "90    0.333333  0.230769   0.241379  0.333333    0.307692        0.411765   \n",
       "91    0.500000  0.628205   0.482759  0.388889    0.384615        0.617647   \n",
       "92    0.500000  0.551282   0.517241  0.500000    0.461538        0.647059   \n",
       "\n",
       "    Luggage_room    Weight   Origin  \n",
       "0        0.31250  0.419087  non-USA  \n",
       "1        0.56250  0.773859  non-USA  \n",
       "2        0.50000  0.697095  non-USA  \n",
       "3        0.68750  0.709544  non-USA  \n",
       "4        0.43750  0.807054  non-USA  \n",
       "..           ...       ...      ...  \n",
       "88       0.49314  0.939834  non-USA  \n",
       "89       0.50000  0.535270  non-USA  \n",
       "90       0.56250  0.462656  non-USA  \n",
       "91       0.50000  0.535270  non-USA  \n",
       "92       0.56250  0.643154  non-USA  \n",
       "\n",
       "[93 rows x 26 columns]"
      ]
     },
     "execution_count": 190,
     "metadata": {},
     "output_type": "execute_result"
    }
   ],
   "source": [
    "#replacing string rotary string value with 6 in cylinder column as all values in cylinders columns is integer only 'rotary' is object type so to convert Cyliders column from object dtype to int I replaced value of 'rotary' with integer value\n",
    "df[\"Cylinders\"] = df[\"Cylinders\"].replace(to_replace='rotary',value=6)\n",
    "#changing data type of Cylinders column from object to int\n",
    "df[\"Cylinders\"] = df[\"Cylinders\"].astype(int)\n",
    "def normalize(df):\n",
    "  #using The min-max feature scaling for normalizating columns individuallly whose data type is integer\n",
    "  for column in df.columns:\n",
    "    if df[column].dtype != object:\n",
    "      df[column] = (df[column] - df[column].min())/(df[column].max()-df[column].min())\n",
    "  return df\n",
    "\n",
    "df = normalize(df)\n",
    "df\n"
   ]
  },
  {
   "cell_type": "markdown",
   "metadata": {
    "id": "FZynlDYCz0lD"
   },
   "source": [
    "Problem 3(vi) Write a function to create a random split of the data into train, validation and test sets in the\n",
    "ratio of [70:20:10]."
   ]
  },
  {
   "cell_type": "code",
   "execution_count": 191,
   "metadata": {
    "colab": {
     "base_uri": "https://localhost:8080/"
    },
    "id": "ku2gNoRkz8hy",
    "outputId": "f3897b8e-ded7-4e79-d3a7-fea716f1e892"
   },
   "outputs": [
    {
     "name": "stdout",
     "output_type": "stream",
     "text": [
      "train:validation:test =  65 : 18 : 10 ~= 70:20:10\n"
     ]
    }
   ],
   "source": [
    "#importing necessary library\n",
    "from sklearn.model_selection import train_test_split\n",
    "import math\n",
    "#choosing car manufacturer as desired/target output(label)\n",
    "Y = df[\"Manufacturer\"]\n",
    "#dropping model name from features as it won't have any impact on output Y\n",
    "X = df.drop(['Manufacturer','Model'],axis=1)\n",
    "def train_test_validation(train_ratio,test_ratio,validation_ratio,X,Y):\n",
    "\n",
    "  X_train, X_test, Y_train, Y_test = train_test_split(X, Y, test_size=1 - train_ratio)\n",
    "\n",
    "  X_val, X_test, Y_val, Y_test = train_test_split(X_test, Y_test, test_size=test_ratio/(test_ratio + validation_ratio))\n",
    "\n",
    "  return X_train,Y_train,X_test,Y_test,X_val,Y_val\n",
    "\n",
    "X_train,Y_train,X_test,Y_test,X_val,Y_val = train_test_validation(0.7,0.1,0.2,X,Y)\n",
    "print(\"train:validation:test = \",len(X_train),\":\",len(X_val),\":\",len(X_test),\"~=\",\"70:20:10\")"
   ]
  },
  {
   "cell_type": "markdown",
   "metadata": {
    "id": "YXaMlnaIloIY"
   },
   "source": [
    "Problem 5(Evaluation Matrix):"
   ]
  },
  {
   "cell_type": "markdown",
   "metadata": {
    "id": "yfz9jnM4xClx"
   },
   "source": [
    "# Import the Necessary Python Libraries and Components"
   ]
  },
  {
   "cell_type": "code",
   "execution_count": 192,
   "metadata": {
    "id": "6BckRfjzl5_G"
   },
   "outputs": [],
   "source": [
    "import pandas as pd\n",
    "import numpy as np\n",
    "from sklearn.model_selection import train_test_split as tts\n",
    "from sklearn.linear_model import LogisticRegression as LR\n",
    "from sklearn.tree import DecisionTreeClassifier as DTC\n",
    "from sklearn.metrics import confusion_matrix as cm\n",
    "from sklearn.metrics import precision_score as ps\n",
    "from sklearn.metrics import recall_score as rs\n",
    "from sklearn.metrics import f1_score as f1s\n",
    "from sklearn.metrics import accuracy_score as acc"
   ]
  },
  {
   "cell_type": "markdown",
   "metadata": {
    "id": "NBAaHdKV5NcA"
   },
   "source": [
    "### To Disable Convergence Warnings (For Custom Training)"
   ]
  },
  {
   "cell_type": "code",
   "execution_count": 193,
   "metadata": {
    "id": "JoObP-Hr5HQ0"
   },
   "outputs": [],
   "source": [
    "from warnings import simplefilter\n",
    "from sklearn.exceptions import ConvergenceWarning\n",
    "simplefilter(\"ignore\", category=ConvergenceWarning)"
   ]
  },
  {
   "cell_type": "markdown",
   "metadata": {
    "id": "0k9KnDIDxT40"
   },
   "source": [
    "# 1.) Input the Dataset"
   ]
  },
  {
   "cell_type": "code",
   "execution_count": 194,
   "metadata": {
    "colab": {
     "base_uri": "https://localhost:8080/",
     "height": 505
    },
    "id": "VYDY_p85m-4O",
    "outputId": "9def926a-4c97-47da-c859-d2576cae1849"
   },
   "outputs": [
    {
     "data": {
      "text/html": [
       "\n",
       "  <div id=\"df-59c152ff-a232-4c4f-a99e-80ed70d276f7\">\n",
       "    <div class=\"colab-df-container\">\n",
       "      <div>\n",
       "<style scoped>\n",
       "    .dataframe tbody tr th:only-of-type {\n",
       "        vertical-align: middle;\n",
       "    }\n",
       "\n",
       "    .dataframe tbody tr th {\n",
       "        vertical-align: top;\n",
       "    }\n",
       "\n",
       "    .dataframe thead th {\n",
       "        text-align: right;\n",
       "    }\n",
       "</style>\n",
       "<table border=\"1\" class=\"dataframe\">\n",
       "  <thead>\n",
       "    <tr style=\"text-align: right;\">\n",
       "      <th></th>\n",
       "      <th>id</th>\n",
       "      <th>diagnosis</th>\n",
       "      <th>radius_mean</th>\n",
       "      <th>texture_mean</th>\n",
       "      <th>perimeter_mean</th>\n",
       "      <th>area_mean</th>\n",
       "      <th>smoothness_mean</th>\n",
       "      <th>compactness_mean</th>\n",
       "      <th>concavity_mean</th>\n",
       "      <th>concave points_mean</th>\n",
       "      <th>...</th>\n",
       "      <th>texture_worst</th>\n",
       "      <th>perimeter_worst</th>\n",
       "      <th>area_worst</th>\n",
       "      <th>smoothness_worst</th>\n",
       "      <th>compactness_worst</th>\n",
       "      <th>concavity_worst</th>\n",
       "      <th>concave points_worst</th>\n",
       "      <th>symmetry_worst</th>\n",
       "      <th>fractal_dimension_worst</th>\n",
       "      <th>Unnamed: 32</th>\n",
       "    </tr>\n",
       "  </thead>\n",
       "  <tbody>\n",
       "    <tr>\n",
       "      <th>0</th>\n",
       "      <td>842302</td>\n",
       "      <td>M</td>\n",
       "      <td>17.99</td>\n",
       "      <td>10.38</td>\n",
       "      <td>122.80</td>\n",
       "      <td>1001.0</td>\n",
       "      <td>0.11840</td>\n",
       "      <td>0.27760</td>\n",
       "      <td>0.30010</td>\n",
       "      <td>0.14710</td>\n",
       "      <td>...</td>\n",
       "      <td>17.33</td>\n",
       "      <td>184.60</td>\n",
       "      <td>2019.0</td>\n",
       "      <td>0.16220</td>\n",
       "      <td>0.66560</td>\n",
       "      <td>0.7119</td>\n",
       "      <td>0.2654</td>\n",
       "      <td>0.4601</td>\n",
       "      <td>0.11890</td>\n",
       "      <td>NaN</td>\n",
       "    </tr>\n",
       "    <tr>\n",
       "      <th>1</th>\n",
       "      <td>842517</td>\n",
       "      <td>M</td>\n",
       "      <td>20.57</td>\n",
       "      <td>17.77</td>\n",
       "      <td>132.90</td>\n",
       "      <td>1326.0</td>\n",
       "      <td>0.08474</td>\n",
       "      <td>0.07864</td>\n",
       "      <td>0.08690</td>\n",
       "      <td>0.07017</td>\n",
       "      <td>...</td>\n",
       "      <td>23.41</td>\n",
       "      <td>158.80</td>\n",
       "      <td>1956.0</td>\n",
       "      <td>0.12380</td>\n",
       "      <td>0.18660</td>\n",
       "      <td>0.2416</td>\n",
       "      <td>0.1860</td>\n",
       "      <td>0.2750</td>\n",
       "      <td>0.08902</td>\n",
       "      <td>NaN</td>\n",
       "    </tr>\n",
       "    <tr>\n",
       "      <th>2</th>\n",
       "      <td>84300903</td>\n",
       "      <td>M</td>\n",
       "      <td>19.69</td>\n",
       "      <td>21.25</td>\n",
       "      <td>130.00</td>\n",
       "      <td>1203.0</td>\n",
       "      <td>0.10960</td>\n",
       "      <td>0.15990</td>\n",
       "      <td>0.19740</td>\n",
       "      <td>0.12790</td>\n",
       "      <td>...</td>\n",
       "      <td>25.53</td>\n",
       "      <td>152.50</td>\n",
       "      <td>1709.0</td>\n",
       "      <td>0.14440</td>\n",
       "      <td>0.42450</td>\n",
       "      <td>0.4504</td>\n",
       "      <td>0.2430</td>\n",
       "      <td>0.3613</td>\n",
       "      <td>0.08758</td>\n",
       "      <td>NaN</td>\n",
       "    </tr>\n",
       "    <tr>\n",
       "      <th>3</th>\n",
       "      <td>84348301</td>\n",
       "      <td>M</td>\n",
       "      <td>11.42</td>\n",
       "      <td>20.38</td>\n",
       "      <td>77.58</td>\n",
       "      <td>386.1</td>\n",
       "      <td>0.14250</td>\n",
       "      <td>0.28390</td>\n",
       "      <td>0.24140</td>\n",
       "      <td>0.10520</td>\n",
       "      <td>...</td>\n",
       "      <td>26.50</td>\n",
       "      <td>98.87</td>\n",
       "      <td>567.7</td>\n",
       "      <td>0.20980</td>\n",
       "      <td>0.86630</td>\n",
       "      <td>0.6869</td>\n",
       "      <td>0.2575</td>\n",
       "      <td>0.6638</td>\n",
       "      <td>0.17300</td>\n",
       "      <td>NaN</td>\n",
       "    </tr>\n",
       "    <tr>\n",
       "      <th>4</th>\n",
       "      <td>84358402</td>\n",
       "      <td>M</td>\n",
       "      <td>20.29</td>\n",
       "      <td>14.34</td>\n",
       "      <td>135.10</td>\n",
       "      <td>1297.0</td>\n",
       "      <td>0.10030</td>\n",
       "      <td>0.13280</td>\n",
       "      <td>0.19800</td>\n",
       "      <td>0.10430</td>\n",
       "      <td>...</td>\n",
       "      <td>16.67</td>\n",
       "      <td>152.20</td>\n",
       "      <td>1575.0</td>\n",
       "      <td>0.13740</td>\n",
       "      <td>0.20500</td>\n",
       "      <td>0.4000</td>\n",
       "      <td>0.1625</td>\n",
       "      <td>0.2364</td>\n",
       "      <td>0.07678</td>\n",
       "      <td>NaN</td>\n",
       "    </tr>\n",
       "    <tr>\n",
       "      <th>...</th>\n",
       "      <td>...</td>\n",
       "      <td>...</td>\n",
       "      <td>...</td>\n",
       "      <td>...</td>\n",
       "      <td>...</td>\n",
       "      <td>...</td>\n",
       "      <td>...</td>\n",
       "      <td>...</td>\n",
       "      <td>...</td>\n",
       "      <td>...</td>\n",
       "      <td>...</td>\n",
       "      <td>...</td>\n",
       "      <td>...</td>\n",
       "      <td>...</td>\n",
       "      <td>...</td>\n",
       "      <td>...</td>\n",
       "      <td>...</td>\n",
       "      <td>...</td>\n",
       "      <td>...</td>\n",
       "      <td>...</td>\n",
       "      <td>...</td>\n",
       "    </tr>\n",
       "    <tr>\n",
       "      <th>564</th>\n",
       "      <td>926424</td>\n",
       "      <td>M</td>\n",
       "      <td>21.56</td>\n",
       "      <td>22.39</td>\n",
       "      <td>142.00</td>\n",
       "      <td>1479.0</td>\n",
       "      <td>0.11100</td>\n",
       "      <td>0.11590</td>\n",
       "      <td>0.24390</td>\n",
       "      <td>0.13890</td>\n",
       "      <td>...</td>\n",
       "      <td>26.40</td>\n",
       "      <td>166.10</td>\n",
       "      <td>2027.0</td>\n",
       "      <td>0.14100</td>\n",
       "      <td>0.21130</td>\n",
       "      <td>0.4107</td>\n",
       "      <td>0.2216</td>\n",
       "      <td>0.2060</td>\n",
       "      <td>0.07115</td>\n",
       "      <td>NaN</td>\n",
       "    </tr>\n",
       "    <tr>\n",
       "      <th>565</th>\n",
       "      <td>926682</td>\n",
       "      <td>M</td>\n",
       "      <td>20.13</td>\n",
       "      <td>28.25</td>\n",
       "      <td>131.20</td>\n",
       "      <td>1261.0</td>\n",
       "      <td>0.09780</td>\n",
       "      <td>0.10340</td>\n",
       "      <td>0.14400</td>\n",
       "      <td>0.09791</td>\n",
       "      <td>...</td>\n",
       "      <td>38.25</td>\n",
       "      <td>155.00</td>\n",
       "      <td>1731.0</td>\n",
       "      <td>0.11660</td>\n",
       "      <td>0.19220</td>\n",
       "      <td>0.3215</td>\n",
       "      <td>0.1628</td>\n",
       "      <td>0.2572</td>\n",
       "      <td>0.06637</td>\n",
       "      <td>NaN</td>\n",
       "    </tr>\n",
       "    <tr>\n",
       "      <th>566</th>\n",
       "      <td>926954</td>\n",
       "      <td>M</td>\n",
       "      <td>16.60</td>\n",
       "      <td>28.08</td>\n",
       "      <td>108.30</td>\n",
       "      <td>858.1</td>\n",
       "      <td>0.08455</td>\n",
       "      <td>0.10230</td>\n",
       "      <td>0.09251</td>\n",
       "      <td>0.05302</td>\n",
       "      <td>...</td>\n",
       "      <td>34.12</td>\n",
       "      <td>126.70</td>\n",
       "      <td>1124.0</td>\n",
       "      <td>0.11390</td>\n",
       "      <td>0.30940</td>\n",
       "      <td>0.3403</td>\n",
       "      <td>0.1418</td>\n",
       "      <td>0.2218</td>\n",
       "      <td>0.07820</td>\n",
       "      <td>NaN</td>\n",
       "    </tr>\n",
       "    <tr>\n",
       "      <th>567</th>\n",
       "      <td>927241</td>\n",
       "      <td>M</td>\n",
       "      <td>20.60</td>\n",
       "      <td>29.33</td>\n",
       "      <td>140.10</td>\n",
       "      <td>1265.0</td>\n",
       "      <td>0.11780</td>\n",
       "      <td>0.27700</td>\n",
       "      <td>0.35140</td>\n",
       "      <td>0.15200</td>\n",
       "      <td>...</td>\n",
       "      <td>39.42</td>\n",
       "      <td>184.60</td>\n",
       "      <td>1821.0</td>\n",
       "      <td>0.16500</td>\n",
       "      <td>0.86810</td>\n",
       "      <td>0.9387</td>\n",
       "      <td>0.2650</td>\n",
       "      <td>0.4087</td>\n",
       "      <td>0.12400</td>\n",
       "      <td>NaN</td>\n",
       "    </tr>\n",
       "    <tr>\n",
       "      <th>568</th>\n",
       "      <td>92751</td>\n",
       "      <td>B</td>\n",
       "      <td>7.76</td>\n",
       "      <td>24.54</td>\n",
       "      <td>47.92</td>\n",
       "      <td>181.0</td>\n",
       "      <td>0.05263</td>\n",
       "      <td>0.04362</td>\n",
       "      <td>0.00000</td>\n",
       "      <td>0.00000</td>\n",
       "      <td>...</td>\n",
       "      <td>30.37</td>\n",
       "      <td>59.16</td>\n",
       "      <td>268.6</td>\n",
       "      <td>0.08996</td>\n",
       "      <td>0.06444</td>\n",
       "      <td>0.0000</td>\n",
       "      <td>0.0000</td>\n",
       "      <td>0.2871</td>\n",
       "      <td>0.07039</td>\n",
       "      <td>NaN</td>\n",
       "    </tr>\n",
       "  </tbody>\n",
       "</table>\n",
       "<p>569 rows × 33 columns</p>\n",
       "</div>\n",
       "      <button class=\"colab-df-convert\" onclick=\"convertToInteractive('df-59c152ff-a232-4c4f-a99e-80ed70d276f7')\"\n",
       "              title=\"Convert this dataframe to an interactive table.\"\n",
       "              style=\"display:none;\">\n",
       "        \n",
       "  <svg xmlns=\"http://www.w3.org/2000/svg\" height=\"24px\"viewBox=\"0 0 24 24\"\n",
       "       width=\"24px\">\n",
       "    <path d=\"M0 0h24v24H0V0z\" fill=\"none\"/>\n",
       "    <path d=\"M18.56 5.44l.94 2.06.94-2.06 2.06-.94-2.06-.94-.94-2.06-.94 2.06-2.06.94zm-11 1L8.5 8.5l.94-2.06 2.06-.94-2.06-.94L8.5 2.5l-.94 2.06-2.06.94zm10 10l.94 2.06.94-2.06 2.06-.94-2.06-.94-.94-2.06-.94 2.06-2.06.94z\"/><path d=\"M17.41 7.96l-1.37-1.37c-.4-.4-.92-.59-1.43-.59-.52 0-1.04.2-1.43.59L10.3 9.45l-7.72 7.72c-.78.78-.78 2.05 0 2.83L4 21.41c.39.39.9.59 1.41.59.51 0 1.02-.2 1.41-.59l7.78-7.78 2.81-2.81c.8-.78.8-2.07 0-2.86zM5.41 20L4 18.59l7.72-7.72 1.47 1.35L5.41 20z\"/>\n",
       "  </svg>\n",
       "      </button>\n",
       "      \n",
       "  <style>\n",
       "    .colab-df-container {\n",
       "      display:flex;\n",
       "      flex-wrap:wrap;\n",
       "      gap: 12px;\n",
       "    }\n",
       "\n",
       "    .colab-df-convert {\n",
       "      background-color: #E8F0FE;\n",
       "      border: none;\n",
       "      border-radius: 50%;\n",
       "      cursor: pointer;\n",
       "      display: none;\n",
       "      fill: #1967D2;\n",
       "      height: 32px;\n",
       "      padding: 0 0 0 0;\n",
       "      width: 32px;\n",
       "    }\n",
       "\n",
       "    .colab-df-convert:hover {\n",
       "      background-color: #E2EBFA;\n",
       "      box-shadow: 0px 1px 2px rgba(60, 64, 67, 0.3), 0px 1px 3px 1px rgba(60, 64, 67, 0.15);\n",
       "      fill: #174EA6;\n",
       "    }\n",
       "\n",
       "    [theme=dark] .colab-df-convert {\n",
       "      background-color: #3B4455;\n",
       "      fill: #D2E3FC;\n",
       "    }\n",
       "\n",
       "    [theme=dark] .colab-df-convert:hover {\n",
       "      background-color: #434B5C;\n",
       "      box-shadow: 0px 1px 3px 1px rgba(0, 0, 0, 0.15);\n",
       "      filter: drop-shadow(0px 1px 2px rgba(0, 0, 0, 0.3));\n",
       "      fill: #FFFFFF;\n",
       "    }\n",
       "  </style>\n",
       "\n",
       "      <script>\n",
       "        const buttonEl =\n",
       "          document.querySelector('#df-59c152ff-a232-4c4f-a99e-80ed70d276f7 button.colab-df-convert');\n",
       "        buttonEl.style.display =\n",
       "          google.colab.kernel.accessAllowed ? 'block' : 'none';\n",
       "\n",
       "        async function convertToInteractive(key) {\n",
       "          const element = document.querySelector('#df-59c152ff-a232-4c4f-a99e-80ed70d276f7');\n",
       "          const dataTable =\n",
       "            await google.colab.kernel.invokeFunction('convertToInteractive',\n",
       "                                                     [key], {});\n",
       "          if (!dataTable) return;\n",
       "\n",
       "          const docLinkHtml = 'Like what you see? Visit the ' +\n",
       "            '<a target=\"_blank\" href=https://colab.research.google.com/notebooks/data_table.ipynb>data table notebook</a>'\n",
       "            + ' to learn more about interactive tables.';\n",
       "          element.innerHTML = '';\n",
       "          dataTable['output_type'] = 'display_data';\n",
       "          await google.colab.output.renderOutput(dataTable, element);\n",
       "          const docLink = document.createElement('div');\n",
       "          docLink.innerHTML = docLinkHtml;\n",
       "          element.appendChild(docLink);\n",
       "        }\n",
       "      </script>\n",
       "    </div>\n",
       "  </div>\n",
       "  "
      ],
      "text/plain": [
       "           id diagnosis  radius_mean  texture_mean  perimeter_mean  area_mean  \\\n",
       "0      842302         M        17.99         10.38          122.80     1001.0   \n",
       "1      842517         M        20.57         17.77          132.90     1326.0   \n",
       "2    84300903         M        19.69         21.25          130.00     1203.0   \n",
       "3    84348301         M        11.42         20.38           77.58      386.1   \n",
       "4    84358402         M        20.29         14.34          135.10     1297.0   \n",
       "..        ...       ...          ...           ...             ...        ...   \n",
       "564    926424         M        21.56         22.39          142.00     1479.0   \n",
       "565    926682         M        20.13         28.25          131.20     1261.0   \n",
       "566    926954         M        16.60         28.08          108.30      858.1   \n",
       "567    927241         M        20.60         29.33          140.10     1265.0   \n",
       "568     92751         B         7.76         24.54           47.92      181.0   \n",
       "\n",
       "     smoothness_mean  compactness_mean  concavity_mean  concave points_mean  \\\n",
       "0            0.11840           0.27760         0.30010              0.14710   \n",
       "1            0.08474           0.07864         0.08690              0.07017   \n",
       "2            0.10960           0.15990         0.19740              0.12790   \n",
       "3            0.14250           0.28390         0.24140              0.10520   \n",
       "4            0.10030           0.13280         0.19800              0.10430   \n",
       "..               ...               ...             ...                  ...   \n",
       "564          0.11100           0.11590         0.24390              0.13890   \n",
       "565          0.09780           0.10340         0.14400              0.09791   \n",
       "566          0.08455           0.10230         0.09251              0.05302   \n",
       "567          0.11780           0.27700         0.35140              0.15200   \n",
       "568          0.05263           0.04362         0.00000              0.00000   \n",
       "\n",
       "     ...  texture_worst  perimeter_worst  area_worst  smoothness_worst  \\\n",
       "0    ...          17.33           184.60      2019.0           0.16220   \n",
       "1    ...          23.41           158.80      1956.0           0.12380   \n",
       "2    ...          25.53           152.50      1709.0           0.14440   \n",
       "3    ...          26.50            98.87       567.7           0.20980   \n",
       "4    ...          16.67           152.20      1575.0           0.13740   \n",
       "..   ...            ...              ...         ...               ...   \n",
       "564  ...          26.40           166.10      2027.0           0.14100   \n",
       "565  ...          38.25           155.00      1731.0           0.11660   \n",
       "566  ...          34.12           126.70      1124.0           0.11390   \n",
       "567  ...          39.42           184.60      1821.0           0.16500   \n",
       "568  ...          30.37            59.16       268.6           0.08996   \n",
       "\n",
       "     compactness_worst  concavity_worst  concave points_worst  symmetry_worst  \\\n",
       "0              0.66560           0.7119                0.2654          0.4601   \n",
       "1              0.18660           0.2416                0.1860          0.2750   \n",
       "2              0.42450           0.4504                0.2430          0.3613   \n",
       "3              0.86630           0.6869                0.2575          0.6638   \n",
       "4              0.20500           0.4000                0.1625          0.2364   \n",
       "..                 ...              ...                   ...             ...   \n",
       "564            0.21130           0.4107                0.2216          0.2060   \n",
       "565            0.19220           0.3215                0.1628          0.2572   \n",
       "566            0.30940           0.3403                0.1418          0.2218   \n",
       "567            0.86810           0.9387                0.2650          0.4087   \n",
       "568            0.06444           0.0000                0.0000          0.2871   \n",
       "\n",
       "     fractal_dimension_worst  Unnamed: 32  \n",
       "0                    0.11890          NaN  \n",
       "1                    0.08902          NaN  \n",
       "2                    0.08758          NaN  \n",
       "3                    0.17300          NaN  \n",
       "4                    0.07678          NaN  \n",
       "..                       ...          ...  \n",
       "564                  0.07115          NaN  \n",
       "565                  0.06637          NaN  \n",
       "566                  0.07820          NaN  \n",
       "567                  0.12400          NaN  \n",
       "568                  0.07039          NaN  \n",
       "\n",
       "[569 rows x 33 columns]"
      ]
     },
     "execution_count": 194,
     "metadata": {},
     "output_type": "execute_result"
    }
   ],
   "source": [
    "# Dataset Reference :- https://www.kaggle.com/uciml/breast-cancer-wisconsin-data\n",
    "#  Dataset Reference :- https://drive.google.com/file/d/1upVspDUY_MqGsTCsTlipYCR58KhLlnol/view?usp=share_link\n",
    "data = pd.read_csv(\"/content/data (1).csv\")\n",
    "data"
   ]
  },
  {
   "cell_type": "markdown",
   "metadata": {
    "id": "MjtAg94u0KQq"
   },
   "source": [
    "# 2.) Convert the String Labels into easily-interpretable Numerics"
   ]
  },
  {
   "cell_type": "code",
   "execution_count": 195,
   "metadata": {
    "colab": {
     "base_uri": "https://localhost:8080/",
     "height": 505
    },
    "id": "vs5EUPrCx6yb",
    "outputId": "c11077c6-8119-4e88-f3fc-afa7c262f238"
   },
   "outputs": [
    {
     "data": {
      "text/html": [
       "\n",
       "  <div id=\"df-e177b77d-4b95-4da7-a5a4-e42fe837e37b\">\n",
       "    <div class=\"colab-df-container\">\n",
       "      <div>\n",
       "<style scoped>\n",
       "    .dataframe tbody tr th:only-of-type {\n",
       "        vertical-align: middle;\n",
       "    }\n",
       "\n",
       "    .dataframe tbody tr th {\n",
       "        vertical-align: top;\n",
       "    }\n",
       "\n",
       "    .dataframe thead th {\n",
       "        text-align: right;\n",
       "    }\n",
       "</style>\n",
       "<table border=\"1\" class=\"dataframe\">\n",
       "  <thead>\n",
       "    <tr style=\"text-align: right;\">\n",
       "      <th></th>\n",
       "      <th>id</th>\n",
       "      <th>diagnosis</th>\n",
       "      <th>radius_mean</th>\n",
       "      <th>texture_mean</th>\n",
       "      <th>perimeter_mean</th>\n",
       "      <th>area_mean</th>\n",
       "      <th>smoothness_mean</th>\n",
       "      <th>compactness_mean</th>\n",
       "      <th>concavity_mean</th>\n",
       "      <th>concave points_mean</th>\n",
       "      <th>...</th>\n",
       "      <th>texture_worst</th>\n",
       "      <th>perimeter_worst</th>\n",
       "      <th>area_worst</th>\n",
       "      <th>smoothness_worst</th>\n",
       "      <th>compactness_worst</th>\n",
       "      <th>concavity_worst</th>\n",
       "      <th>concave points_worst</th>\n",
       "      <th>symmetry_worst</th>\n",
       "      <th>fractal_dimension_worst</th>\n",
       "      <th>Unnamed: 32</th>\n",
       "    </tr>\n",
       "  </thead>\n",
       "  <tbody>\n",
       "    <tr>\n",
       "      <th>0</th>\n",
       "      <td>842302</td>\n",
       "      <td>0</td>\n",
       "      <td>17.99</td>\n",
       "      <td>10.38</td>\n",
       "      <td>122.80</td>\n",
       "      <td>1001.0</td>\n",
       "      <td>0.11840</td>\n",
       "      <td>0.27760</td>\n",
       "      <td>0.30010</td>\n",
       "      <td>0.14710</td>\n",
       "      <td>...</td>\n",
       "      <td>17.33</td>\n",
       "      <td>184.60</td>\n",
       "      <td>2019.0</td>\n",
       "      <td>0.16220</td>\n",
       "      <td>0.66560</td>\n",
       "      <td>0.7119</td>\n",
       "      <td>0.2654</td>\n",
       "      <td>0.4601</td>\n",
       "      <td>0.11890</td>\n",
       "      <td>NaN</td>\n",
       "    </tr>\n",
       "    <tr>\n",
       "      <th>1</th>\n",
       "      <td>842517</td>\n",
       "      <td>0</td>\n",
       "      <td>20.57</td>\n",
       "      <td>17.77</td>\n",
       "      <td>132.90</td>\n",
       "      <td>1326.0</td>\n",
       "      <td>0.08474</td>\n",
       "      <td>0.07864</td>\n",
       "      <td>0.08690</td>\n",
       "      <td>0.07017</td>\n",
       "      <td>...</td>\n",
       "      <td>23.41</td>\n",
       "      <td>158.80</td>\n",
       "      <td>1956.0</td>\n",
       "      <td>0.12380</td>\n",
       "      <td>0.18660</td>\n",
       "      <td>0.2416</td>\n",
       "      <td>0.1860</td>\n",
       "      <td>0.2750</td>\n",
       "      <td>0.08902</td>\n",
       "      <td>NaN</td>\n",
       "    </tr>\n",
       "    <tr>\n",
       "      <th>2</th>\n",
       "      <td>84300903</td>\n",
       "      <td>0</td>\n",
       "      <td>19.69</td>\n",
       "      <td>21.25</td>\n",
       "      <td>130.00</td>\n",
       "      <td>1203.0</td>\n",
       "      <td>0.10960</td>\n",
       "      <td>0.15990</td>\n",
       "      <td>0.19740</td>\n",
       "      <td>0.12790</td>\n",
       "      <td>...</td>\n",
       "      <td>25.53</td>\n",
       "      <td>152.50</td>\n",
       "      <td>1709.0</td>\n",
       "      <td>0.14440</td>\n",
       "      <td>0.42450</td>\n",
       "      <td>0.4504</td>\n",
       "      <td>0.2430</td>\n",
       "      <td>0.3613</td>\n",
       "      <td>0.08758</td>\n",
       "      <td>NaN</td>\n",
       "    </tr>\n",
       "    <tr>\n",
       "      <th>3</th>\n",
       "      <td>84348301</td>\n",
       "      <td>0</td>\n",
       "      <td>11.42</td>\n",
       "      <td>20.38</td>\n",
       "      <td>77.58</td>\n",
       "      <td>386.1</td>\n",
       "      <td>0.14250</td>\n",
       "      <td>0.28390</td>\n",
       "      <td>0.24140</td>\n",
       "      <td>0.10520</td>\n",
       "      <td>...</td>\n",
       "      <td>26.50</td>\n",
       "      <td>98.87</td>\n",
       "      <td>567.7</td>\n",
       "      <td>0.20980</td>\n",
       "      <td>0.86630</td>\n",
       "      <td>0.6869</td>\n",
       "      <td>0.2575</td>\n",
       "      <td>0.6638</td>\n",
       "      <td>0.17300</td>\n",
       "      <td>NaN</td>\n",
       "    </tr>\n",
       "    <tr>\n",
       "      <th>4</th>\n",
       "      <td>84358402</td>\n",
       "      <td>0</td>\n",
       "      <td>20.29</td>\n",
       "      <td>14.34</td>\n",
       "      <td>135.10</td>\n",
       "      <td>1297.0</td>\n",
       "      <td>0.10030</td>\n",
       "      <td>0.13280</td>\n",
       "      <td>0.19800</td>\n",
       "      <td>0.10430</td>\n",
       "      <td>...</td>\n",
       "      <td>16.67</td>\n",
       "      <td>152.20</td>\n",
       "      <td>1575.0</td>\n",
       "      <td>0.13740</td>\n",
       "      <td>0.20500</td>\n",
       "      <td>0.4000</td>\n",
       "      <td>0.1625</td>\n",
       "      <td>0.2364</td>\n",
       "      <td>0.07678</td>\n",
       "      <td>NaN</td>\n",
       "    </tr>\n",
       "    <tr>\n",
       "      <th>...</th>\n",
       "      <td>...</td>\n",
       "      <td>...</td>\n",
       "      <td>...</td>\n",
       "      <td>...</td>\n",
       "      <td>...</td>\n",
       "      <td>...</td>\n",
       "      <td>...</td>\n",
       "      <td>...</td>\n",
       "      <td>...</td>\n",
       "      <td>...</td>\n",
       "      <td>...</td>\n",
       "      <td>...</td>\n",
       "      <td>...</td>\n",
       "      <td>...</td>\n",
       "      <td>...</td>\n",
       "      <td>...</td>\n",
       "      <td>...</td>\n",
       "      <td>...</td>\n",
       "      <td>...</td>\n",
       "      <td>...</td>\n",
       "      <td>...</td>\n",
       "    </tr>\n",
       "    <tr>\n",
       "      <th>564</th>\n",
       "      <td>926424</td>\n",
       "      <td>0</td>\n",
       "      <td>21.56</td>\n",
       "      <td>22.39</td>\n",
       "      <td>142.00</td>\n",
       "      <td>1479.0</td>\n",
       "      <td>0.11100</td>\n",
       "      <td>0.11590</td>\n",
       "      <td>0.24390</td>\n",
       "      <td>0.13890</td>\n",
       "      <td>...</td>\n",
       "      <td>26.40</td>\n",
       "      <td>166.10</td>\n",
       "      <td>2027.0</td>\n",
       "      <td>0.14100</td>\n",
       "      <td>0.21130</td>\n",
       "      <td>0.4107</td>\n",
       "      <td>0.2216</td>\n",
       "      <td>0.2060</td>\n",
       "      <td>0.07115</td>\n",
       "      <td>NaN</td>\n",
       "    </tr>\n",
       "    <tr>\n",
       "      <th>565</th>\n",
       "      <td>926682</td>\n",
       "      <td>0</td>\n",
       "      <td>20.13</td>\n",
       "      <td>28.25</td>\n",
       "      <td>131.20</td>\n",
       "      <td>1261.0</td>\n",
       "      <td>0.09780</td>\n",
       "      <td>0.10340</td>\n",
       "      <td>0.14400</td>\n",
       "      <td>0.09791</td>\n",
       "      <td>...</td>\n",
       "      <td>38.25</td>\n",
       "      <td>155.00</td>\n",
       "      <td>1731.0</td>\n",
       "      <td>0.11660</td>\n",
       "      <td>0.19220</td>\n",
       "      <td>0.3215</td>\n",
       "      <td>0.1628</td>\n",
       "      <td>0.2572</td>\n",
       "      <td>0.06637</td>\n",
       "      <td>NaN</td>\n",
       "    </tr>\n",
       "    <tr>\n",
       "      <th>566</th>\n",
       "      <td>926954</td>\n",
       "      <td>0</td>\n",
       "      <td>16.60</td>\n",
       "      <td>28.08</td>\n",
       "      <td>108.30</td>\n",
       "      <td>858.1</td>\n",
       "      <td>0.08455</td>\n",
       "      <td>0.10230</td>\n",
       "      <td>0.09251</td>\n",
       "      <td>0.05302</td>\n",
       "      <td>...</td>\n",
       "      <td>34.12</td>\n",
       "      <td>126.70</td>\n",
       "      <td>1124.0</td>\n",
       "      <td>0.11390</td>\n",
       "      <td>0.30940</td>\n",
       "      <td>0.3403</td>\n",
       "      <td>0.1418</td>\n",
       "      <td>0.2218</td>\n",
       "      <td>0.07820</td>\n",
       "      <td>NaN</td>\n",
       "    </tr>\n",
       "    <tr>\n",
       "      <th>567</th>\n",
       "      <td>927241</td>\n",
       "      <td>0</td>\n",
       "      <td>20.60</td>\n",
       "      <td>29.33</td>\n",
       "      <td>140.10</td>\n",
       "      <td>1265.0</td>\n",
       "      <td>0.11780</td>\n",
       "      <td>0.27700</td>\n",
       "      <td>0.35140</td>\n",
       "      <td>0.15200</td>\n",
       "      <td>...</td>\n",
       "      <td>39.42</td>\n",
       "      <td>184.60</td>\n",
       "      <td>1821.0</td>\n",
       "      <td>0.16500</td>\n",
       "      <td>0.86810</td>\n",
       "      <td>0.9387</td>\n",
       "      <td>0.2650</td>\n",
       "      <td>0.4087</td>\n",
       "      <td>0.12400</td>\n",
       "      <td>NaN</td>\n",
       "    </tr>\n",
       "    <tr>\n",
       "      <th>568</th>\n",
       "      <td>92751</td>\n",
       "      <td>1</td>\n",
       "      <td>7.76</td>\n",
       "      <td>24.54</td>\n",
       "      <td>47.92</td>\n",
       "      <td>181.0</td>\n",
       "      <td>0.05263</td>\n",
       "      <td>0.04362</td>\n",
       "      <td>0.00000</td>\n",
       "      <td>0.00000</td>\n",
       "      <td>...</td>\n",
       "      <td>30.37</td>\n",
       "      <td>59.16</td>\n",
       "      <td>268.6</td>\n",
       "      <td>0.08996</td>\n",
       "      <td>0.06444</td>\n",
       "      <td>0.0000</td>\n",
       "      <td>0.0000</td>\n",
       "      <td>0.2871</td>\n",
       "      <td>0.07039</td>\n",
       "      <td>NaN</td>\n",
       "    </tr>\n",
       "  </tbody>\n",
       "</table>\n",
       "<p>569 rows × 33 columns</p>\n",
       "</div>\n",
       "      <button class=\"colab-df-convert\" onclick=\"convertToInteractive('df-e177b77d-4b95-4da7-a5a4-e42fe837e37b')\"\n",
       "              title=\"Convert this dataframe to an interactive table.\"\n",
       "              style=\"display:none;\">\n",
       "        \n",
       "  <svg xmlns=\"http://www.w3.org/2000/svg\" height=\"24px\"viewBox=\"0 0 24 24\"\n",
       "       width=\"24px\">\n",
       "    <path d=\"M0 0h24v24H0V0z\" fill=\"none\"/>\n",
       "    <path d=\"M18.56 5.44l.94 2.06.94-2.06 2.06-.94-2.06-.94-.94-2.06-.94 2.06-2.06.94zm-11 1L8.5 8.5l.94-2.06 2.06-.94-2.06-.94L8.5 2.5l-.94 2.06-2.06.94zm10 10l.94 2.06.94-2.06 2.06-.94-2.06-.94-.94-2.06-.94 2.06-2.06.94z\"/><path d=\"M17.41 7.96l-1.37-1.37c-.4-.4-.92-.59-1.43-.59-.52 0-1.04.2-1.43.59L10.3 9.45l-7.72 7.72c-.78.78-.78 2.05 0 2.83L4 21.41c.39.39.9.59 1.41.59.51 0 1.02-.2 1.41-.59l7.78-7.78 2.81-2.81c.8-.78.8-2.07 0-2.86zM5.41 20L4 18.59l7.72-7.72 1.47 1.35L5.41 20z\"/>\n",
       "  </svg>\n",
       "      </button>\n",
       "      \n",
       "  <style>\n",
       "    .colab-df-container {\n",
       "      display:flex;\n",
       "      flex-wrap:wrap;\n",
       "      gap: 12px;\n",
       "    }\n",
       "\n",
       "    .colab-df-convert {\n",
       "      background-color: #E8F0FE;\n",
       "      border: none;\n",
       "      border-radius: 50%;\n",
       "      cursor: pointer;\n",
       "      display: none;\n",
       "      fill: #1967D2;\n",
       "      height: 32px;\n",
       "      padding: 0 0 0 0;\n",
       "      width: 32px;\n",
       "    }\n",
       "\n",
       "    .colab-df-convert:hover {\n",
       "      background-color: #E2EBFA;\n",
       "      box-shadow: 0px 1px 2px rgba(60, 64, 67, 0.3), 0px 1px 3px 1px rgba(60, 64, 67, 0.15);\n",
       "      fill: #174EA6;\n",
       "    }\n",
       "\n",
       "    [theme=dark] .colab-df-convert {\n",
       "      background-color: #3B4455;\n",
       "      fill: #D2E3FC;\n",
       "    }\n",
       "\n",
       "    [theme=dark] .colab-df-convert:hover {\n",
       "      background-color: #434B5C;\n",
       "      box-shadow: 0px 1px 3px 1px rgba(0, 0, 0, 0.15);\n",
       "      filter: drop-shadow(0px 1px 2px rgba(0, 0, 0, 0.3));\n",
       "      fill: #FFFFFF;\n",
       "    }\n",
       "  </style>\n",
       "\n",
       "      <script>\n",
       "        const buttonEl =\n",
       "          document.querySelector('#df-e177b77d-4b95-4da7-a5a4-e42fe837e37b button.colab-df-convert');\n",
       "        buttonEl.style.display =\n",
       "          google.colab.kernel.accessAllowed ? 'block' : 'none';\n",
       "\n",
       "        async function convertToInteractive(key) {\n",
       "          const element = document.querySelector('#df-e177b77d-4b95-4da7-a5a4-e42fe837e37b');\n",
       "          const dataTable =\n",
       "            await google.colab.kernel.invokeFunction('convertToInteractive',\n",
       "                                                     [key], {});\n",
       "          if (!dataTable) return;\n",
       "\n",
       "          const docLinkHtml = 'Like what you see? Visit the ' +\n",
       "            '<a target=\"_blank\" href=https://colab.research.google.com/notebooks/data_table.ipynb>data table notebook</a>'\n",
       "            + ' to learn more about interactive tables.';\n",
       "          element.innerHTML = '';\n",
       "          dataTable['output_type'] = 'display_data';\n",
       "          await google.colab.output.renderOutput(dataTable, element);\n",
       "          const docLink = document.createElement('div');\n",
       "          docLink.innerHTML = docLinkHtml;\n",
       "          element.appendChild(docLink);\n",
       "        }\n",
       "      </script>\n",
       "    </div>\n",
       "  </div>\n",
       "  "
      ],
      "text/plain": [
       "           id diagnosis  radius_mean  texture_mean  perimeter_mean  area_mean  \\\n",
       "0      842302         0        17.99         10.38          122.80     1001.0   \n",
       "1      842517         0        20.57         17.77          132.90     1326.0   \n",
       "2    84300903         0        19.69         21.25          130.00     1203.0   \n",
       "3    84348301         0        11.42         20.38           77.58      386.1   \n",
       "4    84358402         0        20.29         14.34          135.10     1297.0   \n",
       "..        ...       ...          ...           ...             ...        ...   \n",
       "564    926424         0        21.56         22.39          142.00     1479.0   \n",
       "565    926682         0        20.13         28.25          131.20     1261.0   \n",
       "566    926954         0        16.60         28.08          108.30      858.1   \n",
       "567    927241         0        20.60         29.33          140.10     1265.0   \n",
       "568     92751         1         7.76         24.54           47.92      181.0   \n",
       "\n",
       "     smoothness_mean  compactness_mean  concavity_mean  concave points_mean  \\\n",
       "0            0.11840           0.27760         0.30010              0.14710   \n",
       "1            0.08474           0.07864         0.08690              0.07017   \n",
       "2            0.10960           0.15990         0.19740              0.12790   \n",
       "3            0.14250           0.28390         0.24140              0.10520   \n",
       "4            0.10030           0.13280         0.19800              0.10430   \n",
       "..               ...               ...             ...                  ...   \n",
       "564          0.11100           0.11590         0.24390              0.13890   \n",
       "565          0.09780           0.10340         0.14400              0.09791   \n",
       "566          0.08455           0.10230         0.09251              0.05302   \n",
       "567          0.11780           0.27700         0.35140              0.15200   \n",
       "568          0.05263           0.04362         0.00000              0.00000   \n",
       "\n",
       "     ...  texture_worst  perimeter_worst  area_worst  smoothness_worst  \\\n",
       "0    ...          17.33           184.60      2019.0           0.16220   \n",
       "1    ...          23.41           158.80      1956.0           0.12380   \n",
       "2    ...          25.53           152.50      1709.0           0.14440   \n",
       "3    ...          26.50            98.87       567.7           0.20980   \n",
       "4    ...          16.67           152.20      1575.0           0.13740   \n",
       "..   ...            ...              ...         ...               ...   \n",
       "564  ...          26.40           166.10      2027.0           0.14100   \n",
       "565  ...          38.25           155.00      1731.0           0.11660   \n",
       "566  ...          34.12           126.70      1124.0           0.11390   \n",
       "567  ...          39.42           184.60      1821.0           0.16500   \n",
       "568  ...          30.37            59.16       268.6           0.08996   \n",
       "\n",
       "     compactness_worst  concavity_worst  concave points_worst  symmetry_worst  \\\n",
       "0              0.66560           0.7119                0.2654          0.4601   \n",
       "1              0.18660           0.2416                0.1860          0.2750   \n",
       "2              0.42450           0.4504                0.2430          0.3613   \n",
       "3              0.86630           0.6869                0.2575          0.6638   \n",
       "4              0.20500           0.4000                0.1625          0.2364   \n",
       "..                 ...              ...                   ...             ...   \n",
       "564            0.21130           0.4107                0.2216          0.2060   \n",
       "565            0.19220           0.3215                0.1628          0.2572   \n",
       "566            0.30940           0.3403                0.1418          0.2218   \n",
       "567            0.86810           0.9387                0.2650          0.4087   \n",
       "568            0.06444           0.0000                0.0000          0.2871   \n",
       "\n",
       "     fractal_dimension_worst  Unnamed: 32  \n",
       "0                    0.11890          NaN  \n",
       "1                    0.08902          NaN  \n",
       "2                    0.08758          NaN  \n",
       "3                    0.17300          NaN  \n",
       "4                    0.07678          NaN  \n",
       "..                       ...          ...  \n",
       "564                  0.07115          NaN  \n",
       "565                  0.06637          NaN  \n",
       "566                  0.07820          NaN  \n",
       "567                  0.12400          NaN  \n",
       "568                  0.07039          NaN  \n",
       "\n",
       "[569 rows x 33 columns]"
      ]
     },
     "execution_count": 195,
     "metadata": {},
     "output_type": "execute_result"
    }
   ],
   "source": [
    "# Note :- There are many existing Encoders for converting String to Numeric Labels, but for convenience, we used Pandas.\n",
    "\n",
    "condition_M = data.diagnosis == \"M\"\n",
    "condition_B = data.diagnosis == \"B\"\n",
    "\n",
    "data.loc[condition_M,\"diagnosis\"]=0\n",
    "data.loc[condition_B,\"diagnosis\"]=1\n",
    "\n",
    "data"
   ]
  },
  {
   "cell_type": "markdown",
   "metadata": {
    "id": "SOvmQOBY023p"
   },
   "source": [
    "# 3.) Converting Dataframe into Numpy Arrays (Features and Labels)"
   ]
  },
  {
   "cell_type": "code",
   "execution_count": 196,
   "metadata": {
    "id": "kxw_NUvW011A"
   },
   "outputs": [],
   "source": [
    "Y = data.diagnosis.to_numpy().astype('int')                                     # Labels\n",
    "\n",
    "X_data = data.drop(columns=[\"id\",\"diagnosis\",\"Unnamed: 32\"])\n",
    "X = X_data.to_numpy()                                                           # Input Features"
   ]
  },
  {
   "cell_type": "markdown",
   "metadata": {
    "id": "6f8ih1Bl0g63"
   },
   "source": [
    "# 4.) Splitting the Dataset into Train and Test Portions"
   ]
  },
  {
   "cell_type": "code",
   "execution_count": 197,
   "metadata": {
    "id": "ag34WnMA0gln"
   },
   "outputs": [],
   "source": [
    "user_prompt = 0.3\n",
    "user_enable = False\n",
    "\n",
    "x_train,x_test,y_train,y_test = tts(X,Y,test_size=user_prompt,shuffle=user_enable)"
   ]
  },
  {
   "cell_type": "markdown",
   "metadata": {
    "id": "UMRmA9jT0TCm"
   },
   "source": [
    "# 5.) Model Training and Predicting"
   ]
  },
  {
   "cell_type": "code",
   "execution_count": 198,
   "metadata": {
    "id": "0_rK_IBFzfs4"
   },
   "outputs": [],
   "source": [
    "# Note :- Don't worry about the code snippet here, it is just to produce the predictions for the test data portion of each classifier\n",
    "\n",
    "logistic_model = LR()\n",
    "logistic_model.fit(x_train,y_train)\n",
    "logistic_pred = logistic_model.predict(x_test)\n",
    "\n",
    "decision_model = DTC()\n",
    "decision_model.fit(x_train,y_train)\n",
    "decision_pred = decision_model.predict(x_test)"
   ]
  },
  {
   "cell_type": "markdown",
   "metadata": {
    "id": "8FsxHygi7Zoa"
   },
   "source": [
    "# 6.) Evaluation Metrics (Inbulit v/s Scaratch)"
   ]
  },
  {
   "cell_type": "code",
   "execution_count": 199,
   "metadata": {
    "colab": {
     "base_uri": "https://localhost:8080/"
    },
    "id": "YP_oItop7lsC",
    "outputId": "f6b2e487-cd47-4ea0-ab08-ef541efc264a"
   },
   "outputs": [
    {
     "name": "stdout",
     "output_type": "stream",
     "text": [
      "Confusion Matrix for Logistic Regression-based Predictions =>\n",
      "[[ 38   1]\n",
      " [ 11 121]]\n",
      "Confusion Matrix for Decision Tree-based Predictions =>\n",
      "[[ 39   0]\n",
      " [ 15 117]]\n",
      "\n",
      "Results when implemented from Scratch:\n",
      "\n",
      "Confusion Matrix for Logistic Regression-based Predictions =>\n",
      "[[ 38   1]\n",
      " [ 11 121]]\n",
      "Confusion Matrix for Decision Tree-based Predictions =>\n",
      "[[ 39   0]\n",
      " [ 15 117]]\n"
     ]
    }
   ],
   "source": [
    "inbuilt_matrix_logistic = cm(y_test,logistic_pred)\n",
    "inbuilt_matrix_decision = cm(y_test,decision_pred)\n",
    "\n",
    "print(\"Confusion Matrix for Logistic Regression-based Predictions =>\")\n",
    "print(inbuilt_matrix_logistic)\n",
    "print(\"Confusion Matrix for Decision Tree-based Predictions =>\")\n",
    "print(inbuilt_matrix_decision)\n",
    "\n",
    "def confusion_matrix(y_test,logistic_pred):\n",
    "  true_Pos = 0\n",
    "  false_Neg = 0\n",
    "  true_Neg = 0\n",
    "  false_Pos = 0\n",
    "  for i in range(len(y_test)):\n",
    "    if(y_test[i]==1 and logistic_pred[i]==1):\n",
    "      true_Pos+=1\n",
    "    elif(y_test[i]==1 and logistic_pred[i]==0):\n",
    "      false_Neg+=1\n",
    "    elif(y_test[i]==0 and logistic_pred[i]==0):\n",
    "      true_Neg+=1;\n",
    "    elif(y_test[i]==0 and logistic_pred[i]==1):\n",
    "      false_Pos+=1;\n",
    "  \n",
    "  cf_matrix = np.array([[true_Neg,false_Pos],[false_Neg,true_Pos]])\n",
    "  return cf_matrix\n",
    "\n",
    "print(\"\")\n",
    "print(\"Results when implemented from Scratch:\")\n",
    "print(\"\")\n",
    "cf_mat_LR = confusion_matrix(y_test,logistic_pred)\n",
    "print(\"Confusion Matrix for Logistic Regression-based Predictions =>\")\n",
    "print(cf_mat_LR)\n",
    "cf_mat_DT = confusion_matrix(y_test,decision_pred)\n",
    "print(\"Confusion Matrix for Decision Tree-based Predictions =>\")\n",
    "print(cf_mat_DT)"
   ]
  },
  {
   "cell_type": "markdown",
   "metadata": {
    "id": "AAFfrbJx7nGF"
   },
   "source": [
    "## Average Accuracy"
   ]
  },
  {
   "cell_type": "code",
   "execution_count": 200,
   "metadata": {
    "colab": {
     "base_uri": "https://localhost:8080/"
    },
    "id": "UAii0HlB7Zux",
    "outputId": "3702501f-9b76-43c3-9235-32742abe00be"
   },
   "outputs": [
    {
     "name": "stdout",
     "output_type": "stream",
     "text": [
      "Accuracy for Logistic Regression-based Predictions => 92.98245614035088%\n",
      "Accuracy for Decision Tree-based Predictions => 91.22807017543859%\n",
      "\n",
      "Results when implemented from Scratch:\n",
      "\n",
      "Accuracy for Logistic Regression-based Predictions => 92.98245614035088%\n",
      "Accuracy for Decision Tree-based Predictions => 91.22807017543859%\n"
     ]
    }
   ],
   "source": [
    "inbuilt_acc_logistic = acc(y_test,logistic_pred)\n",
    "inbuilt_acc_decision = acc(y_test,decision_pred)\n",
    "\n",
    "print(\"Accuracy for Logistic Regression-based Predictions =>\",str(inbuilt_acc_logistic*100)+\"%\")\n",
    "print(\"Accuracy for Decision Tree-based Predictions =>\",str(inbuilt_acc_decision*100)+\"%\")\n",
    "\n",
    "def avg_accuracy(cf_matrix):\n",
    "  true_Pos = cf_matrix[1][1]\n",
    "  false_Neg = cf_matrix[1][0]\n",
    "  true_Neg = cf_matrix[0][0]\n",
    "  false_Pos = cf_matrix[0][1]\n",
    "\n",
    "  avg_acc = (true_Pos+true_Neg)/(true_Pos+false_Pos+true_Neg+false_Neg)\n",
    "  return avg_acc\n",
    "\n",
    "print(\"\")\n",
    "print(\"Results when implemented from Scratch:\")\n",
    "print(\"\")\n",
    "avg_acc_LR = avg_accuracy(cf_mat_LR)\n",
    "print(\"Accuracy for Logistic Regression-based Predictions =>\",str(avg_acc_LR*100)+\"%\")\n",
    "avg_acc_DT = avg_accuracy(cf_mat_DT)\n",
    "print(\"Accuracy for Decision Tree-based Predictions =>\",str(avg_acc_DT*100)+\"%\")\n"
   ]
  },
  {
   "cell_type": "markdown",
   "metadata": {
    "id": "tC-hpfYS7p_r"
   },
   "source": [
    "## Precision"
   ]
  },
  {
   "cell_type": "code",
   "execution_count": 201,
   "metadata": {
    "colab": {
     "base_uri": "https://localhost:8080/"
    },
    "id": "DQ2UAn5U7lWD",
    "outputId": "f3587339-e359-4bd2-e321-b75c2b965a21"
   },
   "outputs": [
    {
     "name": "stdout",
     "output_type": "stream",
     "text": [
      "Precision for Logistic Regression-based Predictions => 99.18032786885246%\n",
      "Precision for Decision Tree-based Predictions => 100.0%\n",
      "\n",
      "Results when implemented from Scratch:\n",
      "\n",
      "Precision for Logistic Regression-based Predictions => 99.18032786885246%\n",
      "Precision for Decision Tree-based Predictions => 100.0%\n"
     ]
    }
   ],
   "source": [
    "inbuilt_ps_logistic = ps(y_test,logistic_pred)\n",
    "inbuilt_ps_decision = ps(y_test,decision_pred)\n",
    "\n",
    "print(\"Precision for Logistic Regression-based Predictions =>\",str(inbuilt_ps_logistic*100)+\"%\")\n",
    "print(\"Precision for Decision Tree-based Predictions =>\",str(inbuilt_ps_decision*100)+\"%\")\n",
    "\n",
    "def precision(cf_matrix):\n",
    "  true_Pos = cf_matrix[1][1]\n",
    "  false_Pos = cf_matrix[0][1]\n",
    "  ps = (true_Pos)/(true_Pos+false_Pos)\n",
    "  return ps\n",
    "\n",
    "print(\"\")\n",
    "print(\"Results when implemented from Scratch:\")\n",
    "print(\"\")\n",
    "precision_LR =precision(cf_mat_LR)\n",
    "print(\"Precision for Logistic Regression-based Predictions =>\",str(precision_LR*100)+\"%\")\n",
    "precision_DT = precision(cf_mat_DT)\n",
    "print(\"Precision for Decision Tree-based Predictions =>\",str(precision_DT*100)+\"%\")\n",
    "\n",
    "  "
   ]
  },
  {
   "cell_type": "markdown",
   "metadata": {
    "id": "VJjpzD1Y7ucm"
   },
   "source": [
    "## Recall"
   ]
  },
  {
   "cell_type": "code",
   "execution_count": 202,
   "metadata": {
    "colab": {
     "base_uri": "https://localhost:8080/"
    },
    "id": "C1WGJmPZ7lda",
    "outputId": "1f909270-19e1-4dd6-dfa5-82c7ac8b9bdc"
   },
   "outputs": [
    {
     "name": "stdout",
     "output_type": "stream",
     "text": [
      "Recall for Logistic Regression-based Predictions => 91.66666666666666%\n",
      "Recall for Decision Tree-based Predictions => 88.63636363636364%\n",
      "\n",
      "Results when implemented from Scratch:\n",
      "\n",
      "Recall for Logistic Regression-based Predictions => 91.66666666666666%\n",
      "Recall for Decision Tree-based Predictions => 88.63636363636364%\n"
     ]
    }
   ],
   "source": [
    "inbuilt_rs_logistic = rs(y_test,logistic_pred)\n",
    "inbuilt_rs_decision = rs(y_test,decision_pred)\n",
    "\n",
    "print(\"Recall for Logistic Regression-based Predictions =>\",str(inbuilt_rs_logistic*100)+\"%\")\n",
    "print(\"Recall for Decision Tree-based Predictions =>\",str(inbuilt_rs_decision*100)+\"%\")\n",
    "\n",
    "def recall(cf_matrix):\n",
    "  true_Pos = cf_matrix[1][1]\n",
    "  false_Neg = cf_matrix[1][0]\n",
    "  rs = (true_Pos)/(true_Pos+false_Neg)\n",
    "  return rs\n",
    "\n",
    "print(\"\")\n",
    "print(\"Results when implemented from Scratch:\")\n",
    "print(\"\")\n",
    "recall_LR =recall(cf_mat_LR)\n",
    "print(\"Recall for Logistic Regression-based Predictions =>\",str(recall_LR*100)+\"%\")\n",
    "recall_DT = recall(cf_mat_DT)\n",
    "print(\"Recall for Decision Tree-based Predictions =>\",str(recall_DT*100)+\"%\")"
   ]
  },
  {
   "cell_type": "markdown",
   "metadata": {
    "id": "b_CvAJ3f7wOQ"
   },
   "source": [
    "## F-1 Score"
   ]
  },
  {
   "cell_type": "code",
   "execution_count": 203,
   "metadata": {
    "colab": {
     "base_uri": "https://localhost:8080/"
    },
    "id": "gwipguxJ7lk6",
    "outputId": "8abf3b78-7435-478d-c05e-4ea14b77cecd"
   },
   "outputs": [
    {
     "name": "stdout",
     "output_type": "stream",
     "text": [
      "F1-Score for Logistic Regression-based Predictions => 95.2755905511811%\n",
      "F1-Score for Decision Tree-based Predictions => 93.97590361445783%\n",
      "\n",
      "Results when implemented from Scratch:\n",
      "\n",
      "F1-Score for Logistic Regression-based Predictions => 95.2755905511811%\n",
      "F1-Score for Decision Tree-based Predictions => 93.97590361445783%\n"
     ]
    }
   ],
   "source": [
    "inbuilt_f1s_logistic = f1s(y_test,logistic_pred)\n",
    "inbuilt_f1s_decision = f1s(y_test,decision_pred)\n",
    "\n",
    "print(\"F1-Score for Logistic Regression-based Predictions =>\",str(inbuilt_f1s_logistic*100)+\"%\")\n",
    "print(\"F1-Score for Decision Tree-based Predictions =>\",str(inbuilt_f1s_decision*100)+\"%\")\n",
    "\n",
    "def f1_score(ps,rs):\n",
    "  f1s = 2/((1/ps)+(1/rs))\n",
    "  return f1s\n",
    "\n",
    "print(\"\")\n",
    "print(\"Results when implemented from Scratch:\")\n",
    "print(\"\")\n",
    "f1s_LR =f1_score(precision_LR,recall_LR)\n",
    "print(\"F1-Score for Logistic Regression-based Predictions =>\",str(f1s_LR*100)+\"%\")\n",
    "f1s_DT =f1_score(precision_DT,recall_DT)\n",
    "print(\"F1-Score for Decision Tree-based Predictions =>\",str(f1s_DT*100)+\"%\")\n"
   ]
  },
  {
   "cell_type": "markdown",
   "metadata": {
    "id": "QfGdvDD2HKdy"
   },
   "source": [
    "## Class-Wise Accuracy"
   ]
  },
  {
   "cell_type": "code",
   "execution_count": 204,
   "metadata": {
    "colab": {
     "base_uri": "https://localhost:8080/"
    },
    "id": "NwPQCWGLHK2f",
    "outputId": "6476cfd3-4742-4ee0-a04a-e843753df0cf"
   },
   "outputs": [
    {
     "name": "stdout",
     "output_type": "stream",
     "text": [
      "Average Class-Wise Accuracy for Logistic Regression-based Predictions => 94.55128205128204%\n",
      "Average Class-Wise Accuracy for Decision Tree-based Predictions => 94.31818181818181%\n"
     ]
    }
   ],
   "source": [
    "def class_accuracy(cf_matrix):\n",
    "  true_Pos = cf_matrix[1][1]\n",
    "  false_Neg = cf_matrix[1][0]\n",
    "  true_Neg = cf_matrix[0][0]\n",
    "  false_Pos = cf_matrix[0][1]\n",
    "\n",
    "  avg_Clswise_Acc = ((true_Pos)/(true_Pos+false_Neg) + (true_Neg)/(true_Neg+false_Pos))/2\n",
    "\n",
    "  return avg_Clswise_Acc\n",
    "\n",
    "class_Accuracy_LR = class_accuracy(cf_mat_LR)\n",
    "print(\"Average Class-Wise Accuracy for Logistic Regression-based Predictions =>\",str(class_Accuracy_LR*100)+\"%\")\n",
    "class_Accuracy_DT = class_accuracy(cf_mat_DT)\n",
    "print(\"Average Class-Wise Accuracy for Decision Tree-based Predictions =>\",str(class_Accuracy_DT*100)+\"%\")"
   ]
  },
  {
   "cell_type": "markdown",
   "metadata": {
    "id": "jZbGtO468-gu"
   },
   "source": [
    "## Sensitivity"
   ]
  },
  {
   "cell_type": "code",
   "execution_count": 205,
   "metadata": {
    "colab": {
     "base_uri": "https://localhost:8080/"
    },
    "id": "-514Tgvj8-Uu",
    "outputId": "2b548a73-f21e-4798-e0c1-9bf422289c35"
   },
   "outputs": [
    {
     "name": "stdout",
     "output_type": "stream",
     "text": [
      "Sensitivity for Logistic Regression-based Predictions => 91.66666666666666%\n",
      "Sensitivity for Decision Tree-based Predictions => 88.63636363636364%\n"
     ]
    }
   ],
   "source": [
    "def sensitivity(cf_matrix):\n",
    "  true_Pos = cf_matrix[1][1]\n",
    "  false_Neg = cf_matrix[1][0]\n",
    "  senst = (true_Pos)/(true_Pos+false_Neg)\n",
    "  return senst\n",
    "\n",
    "sensitivity_LR = sensitivity(cf_mat_LR)\n",
    "print(\"Sensitivity for Logistic Regression-based Predictions =>\",str(sensitivity_LR*100)+\"%\")\n",
    "sensitivity_DT = sensitivity(cf_mat_DT)\n",
    "print(\"Sensitivity for Decision Tree-based Predictions =>\",str(sensitivity_DT*100)+\"%\")"
   ]
  },
  {
   "cell_type": "markdown",
   "metadata": {
    "id": "eNJOxp8o8-wP"
   },
   "source": [
    "## Specificity"
   ]
  },
  {
   "cell_type": "code",
   "execution_count": 206,
   "metadata": {
    "colab": {
     "base_uri": "https://localhost:8080/"
    },
    "id": "oRmH6Ij07lx-",
    "outputId": "34672592-9596-4ad9-cf3a-9f442e19b39f"
   },
   "outputs": [
    {
     "name": "stdout",
     "output_type": "stream",
     "text": [
      "Specificity for Logistic Regression-based Predictions => 97.43589743589743%\n",
      "Specificity for Decision Tree-based Predictions => 100.0%\n"
     ]
    }
   ],
   "source": [
    "def specificity(cf_matrix):\n",
    "  true_Neg = cf_matrix[0][0]\n",
    "  false_Pos = cf_matrix[0][1]\n",
    "  specfvt = (true_Neg)/(true_Neg+false_Pos)\n",
    "  return specfvt\n",
    "\n",
    "specificity_LR = specificity(cf_mat_LR)\n",
    "print(\"Specificity for Logistic Regression-based Predictions =>\",str(specificity_LR*100)+\"%\")\n",
    "specificity_DT = specificity(cf_mat_DT)\n",
    "print(\"Specificity for Decision Tree-based Predictions =>\",str(specificity_DT*100)+\"%\")"
   ]
  }
 ],
 "metadata": {
  "colab": {
   "provenance": []
  },
  "kernelspec": {
   "display_name": "Python 3 (ipykernel)",
   "language": "python",
   "name": "python3"
  },
  "language_info": {
   "codemirror_mode": {
    "name": "ipython",
    "version": 3
   },
   "file_extension": ".py",
   "mimetype": "text/x-python",
   "name": "python",
   "nbconvert_exporter": "python",
   "pygments_lexer": "ipython3",
   "version": "3.10.6"
  }
 },
 "nbformat": 4,
 "nbformat_minor": 1
}
