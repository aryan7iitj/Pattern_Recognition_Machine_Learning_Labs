{
  "cells": [
    {
      "cell_type": "markdown",
      "metadata": {
        "id": "m56vNDi_vT4m"
      },
      "source": [
        "#Question 1"
      ]
    },
    {
      "cell_type": "markdown",
      "metadata": {
        "id": "uYLY50GdvXqr"
      },
      "source": [
        "Pre-Processing"
      ]
    },
    {
      "cell_type": "code",
      "execution_count": null,
      "metadata": {
        "id": "WM_65YvQvax-"
      },
      "outputs": [],
      "source": [
        "import warnings\n",
        "warnings.simplefilter(\"ignore\")\n",
        "import numpy as np\n",
        "import pandas as pd\n",
        "import matplotlib.pyplot as plt"
      ]
    },
    {
      "cell_type": "code",
      "execution_count": null,
      "metadata": {
        "colab": {
          "base_uri": "https://localhost:8080/",
          "height": 423
        },
        "id": "EoGzRt-ovo2e",
        "outputId": "f4df6032-c58b-4bf6-e649-1c268e8d7193"
      },
      "outputs": [
        {
          "data": {
            "text/html": [
              "\n",
              "  <div id=\"df-e9b4cc6c-ac42-4ce3-b48b-6a97e8ce0c1b\">\n",
              "    <div class=\"colab-df-container\">\n",
              "      <div>\n",
              "<style scoped>\n",
              "    .dataframe tbody tr th:only-of-type {\n",
              "        vertical-align: middle;\n",
              "    }\n",
              "\n",
              "    .dataframe tbody tr th {\n",
              "        vertical-align: top;\n",
              "    }\n",
              "\n",
              "    .dataframe thead th {\n",
              "        text-align: right;\n",
              "    }\n",
              "</style>\n",
              "<table border=\"1\" class=\"dataframe\">\n",
              "  <thead>\n",
              "    <tr style=\"text-align: right;\">\n",
              "      <th></th>\n",
              "      <th>sepal_length</th>\n",
              "      <th>sepal_width</th>\n",
              "      <th>petal_length</th>\n",
              "      <th>petal_width</th>\n",
              "      <th>class</th>\n",
              "    </tr>\n",
              "  </thead>\n",
              "  <tbody>\n",
              "    <tr>\n",
              "      <th>0</th>\n",
              "      <td>5.1</td>\n",
              "      <td>3.5</td>\n",
              "      <td>1.4</td>\n",
              "      <td>0.2</td>\n",
              "      <td>Iris-setosa</td>\n",
              "    </tr>\n",
              "    <tr>\n",
              "      <th>1</th>\n",
              "      <td>4.9</td>\n",
              "      <td>3.0</td>\n",
              "      <td>1.4</td>\n",
              "      <td>0.2</td>\n",
              "      <td>Iris-setosa</td>\n",
              "    </tr>\n",
              "    <tr>\n",
              "      <th>2</th>\n",
              "      <td>4.7</td>\n",
              "      <td>3.2</td>\n",
              "      <td>1.3</td>\n",
              "      <td>0.2</td>\n",
              "      <td>Iris-setosa</td>\n",
              "    </tr>\n",
              "    <tr>\n",
              "      <th>3</th>\n",
              "      <td>4.6</td>\n",
              "      <td>3.1</td>\n",
              "      <td>1.5</td>\n",
              "      <td>0.2</td>\n",
              "      <td>Iris-setosa</td>\n",
              "    </tr>\n",
              "    <tr>\n",
              "      <th>4</th>\n",
              "      <td>5.0</td>\n",
              "      <td>3.6</td>\n",
              "      <td>1.4</td>\n",
              "      <td>0.2</td>\n",
              "      <td>Iris-setosa</td>\n",
              "    </tr>\n",
              "    <tr>\n",
              "      <th>...</th>\n",
              "      <td>...</td>\n",
              "      <td>...</td>\n",
              "      <td>...</td>\n",
              "      <td>...</td>\n",
              "      <td>...</td>\n",
              "    </tr>\n",
              "    <tr>\n",
              "      <th>145</th>\n",
              "      <td>6.7</td>\n",
              "      <td>3.0</td>\n",
              "      <td>5.2</td>\n",
              "      <td>2.3</td>\n",
              "      <td>Iris-virginica</td>\n",
              "    </tr>\n",
              "    <tr>\n",
              "      <th>146</th>\n",
              "      <td>6.3</td>\n",
              "      <td>2.5</td>\n",
              "      <td>5.0</td>\n",
              "      <td>1.9</td>\n",
              "      <td>Iris-virginica</td>\n",
              "    </tr>\n",
              "    <tr>\n",
              "      <th>147</th>\n",
              "      <td>6.5</td>\n",
              "      <td>3.0</td>\n",
              "      <td>5.2</td>\n",
              "      <td>2.0</td>\n",
              "      <td>Iris-virginica</td>\n",
              "    </tr>\n",
              "    <tr>\n",
              "      <th>148</th>\n",
              "      <td>6.2</td>\n",
              "      <td>3.4</td>\n",
              "      <td>5.4</td>\n",
              "      <td>2.3</td>\n",
              "      <td>Iris-virginica</td>\n",
              "    </tr>\n",
              "    <tr>\n",
              "      <th>149</th>\n",
              "      <td>5.9</td>\n",
              "      <td>3.0</td>\n",
              "      <td>5.1</td>\n",
              "      <td>1.8</td>\n",
              "      <td>Iris-virginica</td>\n",
              "    </tr>\n",
              "  </tbody>\n",
              "</table>\n",
              "<p>150 rows × 5 columns</p>\n",
              "</div>\n",
              "      <button class=\"colab-df-convert\" onclick=\"convertToInteractive('df-e9b4cc6c-ac42-4ce3-b48b-6a97e8ce0c1b')\"\n",
              "              title=\"Convert this dataframe to an interactive table.\"\n",
              "              style=\"display:none;\">\n",
              "        \n",
              "  <svg xmlns=\"http://www.w3.org/2000/svg\" height=\"24px\"viewBox=\"0 0 24 24\"\n",
              "       width=\"24px\">\n",
              "    <path d=\"M0 0h24v24H0V0z\" fill=\"none\"/>\n",
              "    <path d=\"M18.56 5.44l.94 2.06.94-2.06 2.06-.94-2.06-.94-.94-2.06-.94 2.06-2.06.94zm-11 1L8.5 8.5l.94-2.06 2.06-.94-2.06-.94L8.5 2.5l-.94 2.06-2.06.94zm10 10l.94 2.06.94-2.06 2.06-.94-2.06-.94-.94-2.06-.94 2.06-2.06.94z\"/><path d=\"M17.41 7.96l-1.37-1.37c-.4-.4-.92-.59-1.43-.59-.52 0-1.04.2-1.43.59L10.3 9.45l-7.72 7.72c-.78.78-.78 2.05 0 2.83L4 21.41c.39.39.9.59 1.41.59.51 0 1.02-.2 1.41-.59l7.78-7.78 2.81-2.81c.8-.78.8-2.07 0-2.86zM5.41 20L4 18.59l7.72-7.72 1.47 1.35L5.41 20z\"/>\n",
              "  </svg>\n",
              "      </button>\n",
              "      \n",
              "  <style>\n",
              "    .colab-df-container {\n",
              "      display:flex;\n",
              "      flex-wrap:wrap;\n",
              "      gap: 12px;\n",
              "    }\n",
              "\n",
              "    .colab-df-convert {\n",
              "      background-color: #E8F0FE;\n",
              "      border: none;\n",
              "      border-radius: 50%;\n",
              "      cursor: pointer;\n",
              "      display: none;\n",
              "      fill: #1967D2;\n",
              "      height: 32px;\n",
              "      padding: 0 0 0 0;\n",
              "      width: 32px;\n",
              "    }\n",
              "\n",
              "    .colab-df-convert:hover {\n",
              "      background-color: #E2EBFA;\n",
              "      box-shadow: 0px 1px 2px rgba(60, 64, 67, 0.3), 0px 1px 3px 1px rgba(60, 64, 67, 0.15);\n",
              "      fill: #174EA6;\n",
              "    }\n",
              "\n",
              "    [theme=dark] .colab-df-convert {\n",
              "      background-color: #3B4455;\n",
              "      fill: #D2E3FC;\n",
              "    }\n",
              "\n",
              "    [theme=dark] .colab-df-convert:hover {\n",
              "      background-color: #434B5C;\n",
              "      box-shadow: 0px 1px 3px 1px rgba(0, 0, 0, 0.15);\n",
              "      filter: drop-shadow(0px 1px 2px rgba(0, 0, 0, 0.3));\n",
              "      fill: #FFFFFF;\n",
              "    }\n",
              "  </style>\n",
              "\n",
              "      <script>\n",
              "        const buttonEl =\n",
              "          document.querySelector('#df-e9b4cc6c-ac42-4ce3-b48b-6a97e8ce0c1b button.colab-df-convert');\n",
              "        buttonEl.style.display =\n",
              "          google.colab.kernel.accessAllowed ? 'block' : 'none';\n",
              "\n",
              "        async function convertToInteractive(key) {\n",
              "          const element = document.querySelector('#df-e9b4cc6c-ac42-4ce3-b48b-6a97e8ce0c1b');\n",
              "          const dataTable =\n",
              "            await google.colab.kernel.invokeFunction('convertToInteractive',\n",
              "                                                     [key], {});\n",
              "          if (!dataTable) return;\n",
              "\n",
              "          const docLinkHtml = 'Like what you see? Visit the ' +\n",
              "            '<a target=\"_blank\" href=https://colab.research.google.com/notebooks/data_table.ipynb>data table notebook</a>'\n",
              "            + ' to learn more about interactive tables.';\n",
              "          element.innerHTML = '';\n",
              "          dataTable['output_type'] = 'display_data';\n",
              "          await google.colab.output.renderOutput(dataTable, element);\n",
              "          const docLink = document.createElement('div');\n",
              "          docLink.innerHTML = docLinkHtml;\n",
              "          element.appendChild(docLink);\n",
              "        }\n",
              "      </script>\n",
              "    </div>\n",
              "  </div>\n",
              "  "
            ],
            "text/plain": [
              "     sepal_length  sepal_width  petal_length  petal_width           class\n",
              "0             5.1          3.5           1.4          0.2     Iris-setosa\n",
              "1             4.9          3.0           1.4          0.2     Iris-setosa\n",
              "2             4.7          3.2           1.3          0.2     Iris-setosa\n",
              "3             4.6          3.1           1.5          0.2     Iris-setosa\n",
              "4             5.0          3.6           1.4          0.2     Iris-setosa\n",
              "..            ...          ...           ...          ...             ...\n",
              "145           6.7          3.0           5.2          2.3  Iris-virginica\n",
              "146           6.3          2.5           5.0          1.9  Iris-virginica\n",
              "147           6.5          3.0           5.2          2.0  Iris-virginica\n",
              "148           6.2          3.4           5.4          2.3  Iris-virginica\n",
              "149           5.9          3.0           5.1          1.8  Iris-virginica\n",
              "\n",
              "[150 rows x 5 columns]"
            ]
          },
          "execution_count": 588,
          "metadata": {},
          "output_type": "execute_result"
        }
      ],
      "source": [
        "df = pd.read_csv('/content/drive/MyDrive/Lab_Data/iris.csv')\n",
        "df"
      ]
    },
    {
      "cell_type": "code",
      "execution_count": null,
      "metadata": {
        "colab": {
          "base_uri": "https://localhost:8080/"
        },
        "id": "BV6wSiwwwX7M",
        "outputId": "dd65811d-38e5-4f6c-8a4d-b187d62b5cc0"
      },
      "outputs": [
        {
          "data": {
            "text/plain": [
              "sepal_length    0\n",
              "sepal_width     0\n",
              "petal_length    0\n",
              "petal_width     0\n",
              "class           0\n",
              "dtype: int64"
            ]
          },
          "execution_count": 589,
          "metadata": {},
          "output_type": "execute_result"
        }
      ],
      "source": [
        "df.isnull().sum()"
      ]
    },
    {
      "cell_type": "code",
      "execution_count": null,
      "metadata": {
        "colab": {
          "base_uri": "https://localhost:8080/"
        },
        "id": "1CB1hCKpwfUW",
        "outputId": "d10ce312-71c2-467f-a997-2db9a2dfa006"
      },
      "outputs": [
        {
          "name": "stdout",
          "output_type": "stream",
          "text": [
            "Features:\n",
            "     sepal_length  sepal_width  petal_length  petal_width\n",
            "0             5.1          3.5           1.4          0.2\n",
            "1             4.9          3.0           1.4          0.2\n",
            "2             4.7          3.2           1.3          0.2\n",
            "3             4.6          3.1           1.5          0.2\n",
            "4             5.0          3.6           1.4          0.2\n",
            "..            ...          ...           ...          ...\n",
            "145           6.7          3.0           5.2          2.3\n",
            "146           6.3          2.5           5.0          1.9\n",
            "147           6.5          3.0           5.2          2.0\n",
            "148           6.2          3.4           5.4          2.3\n",
            "149           5.9          3.0           5.1          1.8\n",
            "\n",
            "[150 rows x 4 columns]\n",
            "Labels:\n",
            "0         Iris-setosa\n",
            "1         Iris-setosa\n",
            "2         Iris-setosa\n",
            "3         Iris-setosa\n",
            "4         Iris-setosa\n",
            "            ...      \n",
            "145    Iris-virginica\n",
            "146    Iris-virginica\n",
            "147    Iris-virginica\n",
            "148    Iris-virginica\n",
            "149    Iris-virginica\n",
            "Name: class, Length: 150, dtype: object\n"
          ]
        }
      ],
      "source": [
        "#separating features and labels\n",
        "X = df.drop('class',axis=1)\n",
        "y = df['class']\n",
        "print('Features:')\n",
        "print(X)\n",
        "print('Labels:')\n",
        "print(y)"
      ]
    },
    {
      "cell_type": "code",
      "execution_count": null,
      "metadata": {
        "colab": {
          "base_uri": "https://localhost:8080/"
        },
        "id": "9oFUqufZw2_0",
        "outputId": "8eaa8e27-15dd-4290-f561-0e67413d21f9"
      },
      "outputs": [
        {
          "name": "stdout",
          "output_type": "stream",
          "text": [
            "     sepal_length  sepal_width  petal_length  petal_width\n",
            "0        0.645570     0.795455      0.202899         0.08\n",
            "1        0.620253     0.681818      0.202899         0.08\n",
            "2        0.594937     0.727273      0.188406         0.08\n",
            "3        0.582278     0.704545      0.217391         0.08\n",
            "4        0.632911     0.818182      0.202899         0.08\n",
            "..            ...          ...           ...          ...\n",
            "145      0.848101     0.681818      0.753623         0.92\n",
            "146      0.797468     0.568182      0.724638         0.76\n",
            "147      0.822785     0.681818      0.753623         0.80\n",
            "148      0.784810     0.772727      0.782609         0.92\n",
            "149      0.746835     0.681818      0.739130         0.72\n",
            "\n",
            "[150 rows x 4 columns]\n"
          ]
        }
      ],
      "source": [
        "#normalizing features\n",
        "def normalize(X):\n",
        "  for column in X.columns:\n",
        "    X[column] = X[column]/X[column].max()\n",
        "  return X\n",
        "\n",
        "X = normalize(X)\n",
        "print(X)"
      ]
    },
    {
      "cell_type": "code",
      "execution_count": null,
      "metadata": {
        "colab": {
          "base_uri": "https://localhost:8080/"
        },
        "id": "G0pY_f6fxicl",
        "outputId": "3f1c64a6-1f2e-43ac-9409-1f6e2bb08f01"
      },
      "outputs": [
        {
          "name": "stdout",
          "output_type": "stream",
          "text": [
            "0      0\n",
            "1      0\n",
            "2      0\n",
            "3      0\n",
            "4      0\n",
            "      ..\n",
            "145    2\n",
            "146    2\n",
            "147    2\n",
            "148    2\n",
            "149    2\n",
            "Name: class, Length: 150, dtype: int64\n"
          ]
        }
      ],
      "source": [
        "#encoding categorical label data\n",
        "def encode(y):\n",
        "  y = y.replace(to_replace='Iris-setosa',value=0)\n",
        "  y = y.replace(to_replace='Iris-versicolor',value=1)\n",
        "  y = y.replace(to_replace='Iris-virginica',value=2)\n",
        "  return y\n",
        "\n",
        "y = encode(y)\n",
        "print(y)"
      ]
    },
    {
      "cell_type": "code",
      "execution_count": null,
      "metadata": {
        "colab": {
          "base_uri": "https://localhost:8080/"
        },
        "id": "FRM9Ybdj2gL3",
        "outputId": "255a1ba4-a65d-44bb-df24-f88a9992d525"
      },
      "outputs": [
        {
          "name": "stdout",
          "output_type": "stream",
          "text": [
            "Train:Test = 105 : 45 = 70 : 30\n"
          ]
        }
      ],
      "source": [
        "#splitting in the training and testing data set into the ratio 70:30\n",
        "from sklearn.model_selection import train_test_split\n",
        "X_train,X_test,y_train,y_test = train_test_split(X,y,test_size = 0.3,random_state=0)\n",
        "print(\"Train:Test =\",len(X_train),\":\",len(X_test),\"= 70 : 30\")"
      ]
    },
    {
      "cell_type": "markdown",
      "metadata": {
        "id": "waqjUzvF6buD"
      },
      "source": [
        "#Part 1 & 2"
      ]
    },
    {
      "cell_type": "markdown",
      "metadata": {
        "id": "BI1PGOtw6gej"
      },
      "source": [
        "Gaussian Bayes Classifier from Scratch"
      ]
    },
    {
      "cell_type": "code",
      "execution_count": null,
      "metadata": {
        "id": "4fP20EvvmyPP"
      },
      "outputs": [],
      "source": [
        "from sklearn.datasets import make_classification\n",
        "\n",
        "class GaussianBayesClassifier:\n",
        "    def __init__(self, case=1):\n",
        "        self.case = case\n",
        "        \n",
        "    def fit(self, X, y):\n",
        "        self.X = X\n",
        "        self.y = y\n",
        "        self.classes = np.unique(y)\n",
        "        \n",
        "        if self.case == 1:\n",
        "            self.priors = []\n",
        "            self.means = []\n",
        "            self.vars = []\n",
        "            for class_ in self.classes:\n",
        "                X_class = X[y == class_]\n",
        "                prior = len(X_class) / len(X)\n",
        "                mean = np.mean(X_class, axis=0)\n",
        "                var = np.var(X_class, axis=0)\n",
        "                self.priors.append(prior)\n",
        "                self.means.append(mean)\n",
        "                self.vars.append(var)\n",
        "                \n",
        "        elif self.case == 2:\n",
        "            self.priors = []\n",
        "            self.means = []\n",
        "            self.vars = []\n",
        "            for class_ in self.classes:\n",
        "                X_class = X[y == class_]\n",
        "                prior = len(X_class) / len(X)\n",
        "                mean = np.mean(X_class, axis=0)\n",
        "                var = np.var(X_class, axis=0)\n",
        "                self.priors.append(prior)\n",
        "                self.means.append(mean)\n",
        "                self.vars.append(var)\n",
        "            \n",
        "                \n",
        "        elif self.case == 3:\n",
        "            self.priors = []\n",
        "            self.means = []\n",
        "            self.vars = []\n",
        "            for class_ in self.classes:\n",
        "                X_class = X[y == class_]\n",
        "                prior = len(X_class) / len(X)\n",
        "                mean = np.mean(X_class, axis=0)\n",
        "                var = np.var(X_class, axis=0)\n",
        "                self.priors.append(prior)\n",
        "                self.means.append(mean)\n",
        "                self.vars.append(var)\n",
        "                \n",
        "    def _gaussian_pdf(self, x, mean, std):\n",
        "        exponent = np.exp(-((x - mean)**2) / (2 * std**2))\n",
        "        return (1 / (np.sqrt(2 * np.pi) * std)) * exponent\n",
        "    \n",
        "    def _class_probabilities(self, X):\n",
        "        probs = []\n",
        "        for i, class_ in enumerate(self.classes):\n",
        "            if self.case == 1:\n",
        "                mean = self.means[i]\n",
        "                var = self.vars[0]\n",
        "                prob = np.prod(self._gaussian_pdf(X, mean, np.sqrt(var[0])), axis=1)*self.priors[i]\n",
        "                \n",
        "            elif self.case == 2:\n",
        "                mean = self.means[i]\n",
        "                var = self.vars[0]\n",
        "                prob = np.prod(self._gaussian_pdf(X, mean, np.sqrt(var[1])), axis=1)*self.priors[i]\n",
        "                \n",
        "            elif self.case == 3:\n",
        "                prior = self.priors[i]\n",
        "                mean = self.means[i]\n",
        "                var = self.vars[i]\n",
        "                prob = prior * np.prod(self._gaussian_pdf(X, mean, np.sqrt(var)), axis=1)\n",
        "                \n",
        "            probs.append(prob)\n",
        "        return probs\n",
        "    \n",
        "    def predict(self, X):\n",
        "        probs = self._class_probabilities(X)\n",
        "        return [self.classes[np.argmax(prob)] for prob in np.array(probs).T]\n",
        "    \n",
        "    def predict_proba(self, X):\n",
        "        probs = self._class_probabilities(X)\n",
        "        return np.array(probs).T\n",
        "    \n",
        "    def score(self, X, y):\n",
        "        y_pred = self.predict(X)\n",
        "        accuracy = np.mean(y_pred == y)\n",
        "        return accuracy\n",
        "\n",
        "    def plot_db(self,X,y,cmap = 'Paired_r'):\n",
        "      \n",
        "      # h = 0.01\n",
        "      # x_min, x_max = X[:,0].min() - 10*h, X[:,0].max() + 10*h\n",
        "      # y_min, y_max = X[:,1].min() - 10*h, X[:,1].max() + 10*h\n",
        "\n",
        "      # xx,yy = np.meshgrid(np.arange(x_min,x_max,h),np.arange(y_min,y_max,h))\n",
        "      # xx = xx.reshape(-1,1)\n",
        "      # yy = yy.reshape(-1,1)\n",
        "      # z = clf.predict(np.c_[xx.ravel(), yy.ravel()])\n",
        "      # z = z.reshape(xx.shape)\n",
        "\n",
        "      # plt.figure(figsize = (5,5))\n",
        "      # plt.contourf(xx,yy,z,cmap=cmap,alpha = 0.5)\n",
        "      # plt.contour(xx,yy,z,colors = 'k',linewidths = 0.5)\n",
        "      plt.scatter(X[:,0],X[:,1],c = y , cmap = cmap , edgecolors = 'k')"
      ]
    },
    {
      "cell_type": "markdown",
      "metadata": {
        "id": "Zc4lsnH56rUr"
      },
      "source": [
        "#Part 3"
      ]
    },
    {
      "cell_type": "code",
      "execution_count": null,
      "metadata": {
        "colab": {
          "base_uri": "https://localhost:8080/",
          "height": 282
        },
        "id": "glvFE86EVW2q",
        "outputId": "3027c720-857e-44e6-86a5-6837b8683ed6"
      },
      "outputs": [
        {
          "data": {
            "text/plain": [
              "<matplotlib.collections.PathCollection at 0x7f9a5c07b910>"
            ]
          },
          "execution_count": 619,
          "metadata": {},
          "output_type": "execute_result"
        },
        {
          "data": {
            "image/png": "[encoded data removed]",
            "text/plain": [
              "<Figure size 432x288 with 1 Axes>"
            ]
          },
          "metadata": {
            "needs_background": "light"
          },
          "output_type": "display_data"
        }
      ],
      "source": [
        "plt.scatter(X_test.to_numpy()[:,0],X_test.to_numpy()[:,1],c = y_test , cmap = 'Paired_r' , edgecolors = 'k')"
      ]
    },
    {
      "cell_type": "markdown",
      "metadata": {
        "id": "04kkHSiq6wPk"
      },
      "source": [
        "For case 1"
      ]
    },
    {
      "cell_type": "code",
      "execution_count": null,
      "metadata": {
        "colab": {
          "base_uri": "https://localhost:8080/",
          "height": 300
        },
        "id": "-oEiEmSy6yQB",
        "outputId": "1e32a5c4-8706-4bb6-bf56-4cbc248312a4"
      },
      "outputs": [
        {
          "name": "stdout",
          "output_type": "stream",
          "text": [
            "[2, 1, 0, 2, 0, 2, 0, 1, 2, 1, 2, 1, 1, 1, 1, 0, 1, 1, 0, 0, 1, 1, 0, 0, 1, 0, 0, 1, 1, 0, 2, 1, 0, 2, 2, 1, 0, 2, 1, 1, 2, 0, 2, 0, 0]\n",
            "0.9111111111111111\n"
          ]
        },
        {
          "data": {
            "image/png": "[encoded data removed]",
            "text/plain": [
              "<Figure size 432x288 with 1 Axes>"
            ]
          },
          "metadata": {
            "needs_background": "light"
          },
          "output_type": "display_data"
        }
      ],
      "source": [
        "gb = GaussianBayesClassifier(case=1)\n",
        "gb.fit(X_train, y_train)\n",
        "y_pred = gb.predict(X_test)\n",
        "print(y_pred)\n",
        "print(gb.score(X_test, y_test))\n",
        "gb.plot_db(X_test.to_numpy(),y_pred)"
      ]
    },
    {
      "cell_type": "markdown",
      "metadata": {
        "id": "OMZU4It066s4"
      },
      "source": [
        "For case 2"
      ]
    },
    {
      "cell_type": "code",
      "execution_count": null,
      "metadata": {
        "colab": {
          "base_uri": "https://localhost:8080/",
          "height": 300
        },
        "id": "q2Y-ShOB62JY",
        "outputId": "e9821ea8-1580-46bf-b828-964e6db2605d"
      },
      "outputs": [
        {
          "name": "stdout",
          "output_type": "stream",
          "text": [
            "[2, 1, 0, 2, 0, 2, 0, 1, 2, 1, 2, 1, 1, 1, 1, 0, 1, 1, 0, 0, 1, 1, 0, 0, 1, 0, 0, 1, 1, 0, 2, 1, 0, 2, 2, 1, 0, 2, 1, 1, 2, 0, 2, 0, 0]\n",
            "0.9111111111111111\n"
          ]
        },
        {
          "data": {
            "image/png": "[encoded data removed]",
            "text/plain": [
              "<Figure size 432x288 with 1 Axes>"
            ]
          },
          "metadata": {
            "needs_background": "light"
          },
          "output_type": "display_data"
        }
      ],
      "source": [
        "gb = GaussianBayesClassifier(case=2)\n",
        "gb.fit(X_train, y_train)\n",
        "y_pred = gb.predict(X_test)\n",
        "print(y_pred)\n",
        "print(gb.score(X_test, y_test))\n",
        "gb.plot_db(X_test.to_numpy(),y_pred)"
      ]
    },
    {
      "cell_type": "markdown",
      "metadata": {
        "id": "WnB6WW5k7Dba"
      },
      "source": [
        "For case 3"
      ]
    },
    {
      "cell_type": "code",
      "execution_count": null,
      "metadata": {
        "colab": {
          "base_uri": "https://localhost:8080/",
          "height": 300
        },
        "id": "5giASsUS7HFc",
        "outputId": "540449b2-84be-4bc6-9522-5b7a190dc9a7"
      },
      "outputs": [
        {
          "name": "stdout",
          "output_type": "stream",
          "text": [
            "[2, 1, 0, 2, 0, 2, 0, 1, 1, 1, 2, 1, 1, 1, 1, 0, 1, 1, 0, 0, 2, 1, 0, 0, 2, 0, 0, 1, 1, 0, 2, 1, 0, 2, 2, 1, 0, 1, 1, 1, 2, 0, 2, 0, 0]\n",
            "1.0\n"
          ]
        },
        {
          "data": {
            "image/png": "[encoded data removed]",
            "text/plain": [
              "<Figure size 432x288 with 1 Axes>"
            ]
          },
          "metadata": {
            "needs_background": "light"
          },
          "output_type": "display_data"
        }
      ],
      "source": [
        "gb = GaussianBayesClassifier(case=3)\n",
        "gb.fit(X_train, y_train)\n",
        "y_pred = gb.predict(X_test)\n",
        "print(y_pred)\n",
        "print(gb.score(X_test, y_test))\n",
        "gb.plot_db(X_test.to_numpy(),y_pred)"
      ]
    },
    {
      "cell_type": "markdown",
      "metadata": {
        "id": "8SNaMTaI-gXD"
      },
      "source": [
        "#Part 4"
      ]
    },
    {
      "cell_type": "code",
      "execution_count": null,
      "metadata": {
        "id": "KD8CEdfR9WVv"
      },
      "outputs": [],
      "source": [
        "def cross_validation(X,y,case_n,folds=5):\n",
        "  for i in range(0,folds):\n",
        "    X_train,X_test,y_train,y_test = train_test_split(X,y,test_size = 1/folds)\n",
        "    gb = GaussianBayesClassifier(case=case_n)\n",
        "    gb.fit(X_train, y_train) \n",
        "    print(gb.score(X_test, y_test))"
      ]
    },
    {
      "cell_type": "code",
      "execution_count": null,
      "metadata": {
        "colab": {
          "base_uri": "https://localhost:8080/"
        },
        "id": "Zb5tZYDN_Q-O",
        "outputId": "a944084d-d93a-4559-cefe-539801d150dd"
      },
      "outputs": [
        {
          "name": "stdout",
          "output_type": "stream",
          "text": [
            "1.0\n",
            "0.9333333333333333\n",
            "0.9666666666666667\n",
            "0.9333333333333333\n",
            "1.0\n"
          ]
        }
      ],
      "source": [
        "cross_validation(X,y,1)"
      ]
    },
    {
      "cell_type": "code",
      "execution_count": null,
      "metadata": {
        "colab": {
          "base_uri": "https://localhost:8080/"
        },
        "id": "YWs31kCz-cwa",
        "outputId": "b72586bd-3bd3-4005-addc-38198dfdd714"
      },
      "outputs": [
        {
          "name": "stdout",
          "output_type": "stream",
          "text": [
            "0.9666666666666667\n",
            "0.9666666666666667\n",
            "1.0\n",
            "0.9333333333333333\n",
            "0.9666666666666667\n"
          ]
        }
      ],
      "source": [
        "cross_validation(X,y,2)"
      ]
    },
    {
      "cell_type": "code",
      "execution_count": null,
      "metadata": {
        "colab": {
          "base_uri": "https://localhost:8080/"
        },
        "id": "D3A6I1_U-hXr",
        "outputId": "87a745cb-a25d-4780-8749-ef1b899654fb"
      },
      "outputs": [
        {
          "name": "stdout",
          "output_type": "stream",
          "text": [
            "1.0\n",
            "0.9333333333333333\n",
            "0.9666666666666667\n",
            "1.0\n",
            "1.0\n"
          ]
        }
      ],
      "source": [
        "cross_validation(X,y,3)"
      ]
    },
    {
      "cell_type": "markdown",
      "metadata": {
        "id": "jvJGOkG7Dmi1"
      },
      "source": [
        "#Part 5"
      ]
    },
    {
      "cell_type": "code",
      "execution_count": null,
      "metadata": {
        "colab": {
          "base_uri": "https://localhost:8080/",
          "height": 423
        },
        "id": "ucAV_4i2DqHb",
        "outputId": "9a773e5c-9de3-419b-d22c-e5cdfcfac140"
      },
      "outputs": [
        {
          "data": {
            "text/html": [
              "\n",
              "  <div id=\"df-848f8337-740d-43fd-a54f-bae449148561\">\n",
              "    <div class=\"colab-df-container\">\n",
              "      <div>\n",
              "<style scoped>\n",
              "    .dataframe tbody tr th:only-of-type {\n",
              "        vertical-align: middle;\n",
              "    }\n",
              "\n",
              "    .dataframe tbody tr th {\n",
              "        vertical-align: top;\n",
              "    }\n",
              "\n",
              "    .dataframe thead th {\n",
              "        text-align: right;\n",
              "    }\n",
              "</style>\n",
              "<table border=\"1\" class=\"dataframe\">\n",
              "  <thead>\n",
              "    <tr style=\"text-align: right;\">\n",
              "      <th></th>\n",
              "      <th>X1</th>\n",
              "      <th>X2</th>\n",
              "      <th>Y</th>\n",
              "    </tr>\n",
              "  </thead>\n",
              "  <tbody>\n",
              "    <tr>\n",
              "      <th>0</th>\n",
              "      <td>2.400373</td>\n",
              "      <td>2.340363</td>\n",
              "      <td>2</td>\n",
              "    </tr>\n",
              "    <tr>\n",
              "      <th>1</th>\n",
              "      <td>1.767488</td>\n",
              "      <td>2.119171</td>\n",
              "      <td>1</td>\n",
              "    </tr>\n",
              "    <tr>\n",
              "      <th>2</th>\n",
              "      <td>3.407196</td>\n",
              "      <td>2.047977</td>\n",
              "      <td>2</td>\n",
              "    </tr>\n",
              "    <tr>\n",
              "      <th>3</th>\n",
              "      <td>4.194455</td>\n",
              "      <td>0.940093</td>\n",
              "      <td>2</td>\n",
              "    </tr>\n",
              "    <tr>\n",
              "      <th>4</th>\n",
              "      <td>4.052629</td>\n",
              "      <td>2.416404</td>\n",
              "      <td>2</td>\n",
              "    </tr>\n",
              "    <tr>\n",
              "      <th>...</th>\n",
              "      <td>...</td>\n",
              "      <td>...</td>\n",
              "      <td>...</td>\n",
              "    </tr>\n",
              "    <tr>\n",
              "      <th>195</th>\n",
              "      <td>1.554388</td>\n",
              "      <td>4.213402</td>\n",
              "      <td>2</td>\n",
              "    </tr>\n",
              "    <tr>\n",
              "      <th>196</th>\n",
              "      <td>1.802284</td>\n",
              "      <td>4.007889</td>\n",
              "      <td>2</td>\n",
              "    </tr>\n",
              "    <tr>\n",
              "      <th>197</th>\n",
              "      <td>4.455971</td>\n",
              "      <td>1.796221</td>\n",
              "      <td>2</td>\n",
              "    </tr>\n",
              "    <tr>\n",
              "      <th>198</th>\n",
              "      <td>1.427376</td>\n",
              "      <td>4.289314</td>\n",
              "      <td>2</td>\n",
              "    </tr>\n",
              "    <tr>\n",
              "      <th>199</th>\n",
              "      <td>0.609248</td>\n",
              "      <td>3.036435</td>\n",
              "      <td>2</td>\n",
              "    </tr>\n",
              "  </tbody>\n",
              "</table>\n",
              "<p>200 rows × 3 columns</p>\n",
              "</div>\n",
              "      <button class=\"colab-df-convert\" onclick=\"convertToInteractive('df-848f8337-740d-43fd-a54f-bae449148561')\"\n",
              "              title=\"Convert this dataframe to an interactive table.\"\n",
              "              style=\"display:none;\">\n",
              "        \n",
              "  <svg xmlns=\"http://www.w3.org/2000/svg\" height=\"24px\"viewBox=\"0 0 24 24\"\n",
              "       width=\"24px\">\n",
              "    <path d=\"M0 0h24v24H0V0z\" fill=\"none\"/>\n",
              "    <path d=\"M18.56 5.44l.94 2.06.94-2.06 2.06-.94-2.06-.94-.94-2.06-.94 2.06-2.06.94zm-11 1L8.5 8.5l.94-2.06 2.06-.94-2.06-.94L8.5 2.5l-.94 2.06-2.06.94zm10 10l.94 2.06.94-2.06 2.06-.94-2.06-.94-.94-2.06-.94 2.06-2.06.94z\"/><path d=\"M17.41 7.96l-1.37-1.37c-.4-.4-.92-.59-1.43-.59-.52 0-1.04.2-1.43.59L10.3 9.45l-7.72 7.72c-.78.78-.78 2.05 0 2.83L4 21.41c.39.39.9.59 1.41.59.51 0 1.02-.2 1.41-.59l7.78-7.78 2.81-2.81c.8-.78.8-2.07 0-2.86zM5.41 20L4 18.59l7.72-7.72 1.47 1.35L5.41 20z\"/>\n",
              "  </svg>\n",
              "      </button>\n",
              "      \n",
              "  <style>\n",
              "    .colab-df-container {\n",
              "      display:flex;\n",
              "      flex-wrap:wrap;\n",
              "      gap: 12px;\n",
              "    }\n",
              "\n",
              "    .colab-df-convert {\n",
              "      background-color: #E8F0FE;\n",
              "      border: none;\n",
              "      border-radius: 50%;\n",
              "      cursor: pointer;\n",
              "      display: none;\n",
              "      fill: #1967D2;\n",
              "      height: 32px;\n",
              "      padding: 0 0 0 0;\n",
              "      width: 32px;\n",
              "    }\n",
              "\n",
              "    .colab-df-convert:hover {\n",
              "      background-color: #E2EBFA;\n",
              "      box-shadow: 0px 1px 2px rgba(60, 64, 67, 0.3), 0px 1px 3px 1px rgba(60, 64, 67, 0.15);\n",
              "      fill: #174EA6;\n",
              "    }\n",
              "\n",
              "    [theme=dark] .colab-df-convert {\n",
              "      background-color: #3B4455;\n",
              "      fill: #D2E3FC;\n",
              "    }\n",
              "\n",
              "    [theme=dark] .colab-df-convert:hover {\n",
              "      background-color: #434B5C;\n",
              "      box-shadow: 0px 1px 3px 1px rgba(0, 0, 0, 0.15);\n",
              "      filter: drop-shadow(0px 1px 2px rgba(0, 0, 0, 0.3));\n",
              "      fill: #FFFFFF;\n",
              "    }\n",
              "  </style>\n",
              "\n",
              "      <script>\n",
              "        const buttonEl =\n",
              "          document.querySelector('#df-848f8337-740d-43fd-a54f-bae449148561 button.colab-df-convert');\n",
              "        buttonEl.style.display =\n",
              "          google.colab.kernel.accessAllowed ? 'block' : 'none';\n",
              "\n",
              "        async function convertToInteractive(key) {\n",
              "          const element = document.querySelector('#df-848f8337-740d-43fd-a54f-bae449148561');\n",
              "          const dataTable =\n",
              "            await google.colab.kernel.invokeFunction('convertToInteractive',\n",
              "                                                     [key], {});\n",
              "          if (!dataTable) return;\n",
              "\n",
              "          const docLinkHtml = 'Like what you see? Visit the ' +\n",
              "            '<a target=\"_blank\" href=https://colab.research.google.com/notebooks/data_table.ipynb>data table notebook</a>'\n",
              "            + ' to learn more about interactive tables.';\n",
              "          element.innerHTML = '';\n",
              "          dataTable['output_type'] = 'display_data';\n",
              "          await google.colab.output.renderOutput(dataTable, element);\n",
              "          const docLink = document.createElement('div');\n",
              "          docLink.innerHTML = docLinkHtml;\n",
              "          element.appendChild(docLink);\n",
              "        }\n",
              "      </script>\n",
              "    </div>\n",
              "  </div>\n",
              "  "
            ],
            "text/plain": [
              "           X1        X2  Y\n",
              "0    2.400373  2.340363  2\n",
              "1    1.767488  2.119171  1\n",
              "2    3.407196  2.047977  2\n",
              "3    4.194455  0.940093  2\n",
              "4    4.052629  2.416404  2\n",
              "..        ...       ... ..\n",
              "195  1.554388  4.213402  2\n",
              "196  1.802284  4.007889  2\n",
              "197  4.455971  1.796221  2\n",
              "198  1.427376  4.289314  2\n",
              "199  0.609248  3.036435  2\n",
              "\n",
              "[200 rows x 3 columns]"
            ]
          },
          "execution_count": 625,
          "metadata": {},
          "output_type": "execute_result"
        }
      ],
      "source": [
        "import random\n",
        "from numpy.random import randint\n",
        "X1 = []\n",
        "X2 = []\n",
        "y_ = []\n",
        "X1_temp = [random.uniform(0,5) for _ in range(500)]\n",
        "X2_temp = [random.uniform(0,5) for _ in range(500)]\n",
        "for i in range(0,len(X1_temp)):\n",
        "  if X1_temp[i]**2 + X2_temp[i]**2 > 9 and X1_temp[i]**2 + X2_temp[i]**2 <= 25:\n",
        "    y_.append(2)\n",
        "    X1.append(X1_temp[i])\n",
        "    X2.append(X2_temp[i])\n",
        "  if X1_temp[i]**2 + X2_temp[i]**2 <= 9:\n",
        "    y_.append(1)\n",
        "    X1.append(X1_temp[i])\n",
        "    X2.append(X2_temp[i])\n",
        "\n",
        "my_array = []\n",
        "for i in range(200):\n",
        "  my_array.append([X1[i],X2[i],y_[i]])\n",
        "\n",
        "df1 = pd.DataFrame(my_array, columns = ['X1','X2','Y'])\n",
        "df1\n"
      ]
    },
    {
      "cell_type": "code",
      "execution_count": null,
      "metadata": {
        "id": "OQNgzl6bZBgk"
      },
      "outputs": [],
      "source": [
        "X_cir = df1.drop('Y',axis=1)\n",
        "y_cir = df1['Y']\n",
        "X_train,X_test,y_train,y_test = train_test_split(X_cir,y_cir,test_size = 0.3)"
      ]
    },
    {
      "cell_type": "code",
      "execution_count": null,
      "metadata": {
        "colab": {
          "base_uri": "https://localhost:8080/",
          "height": 282
        },
        "id": "Dl0KnOQCZC1p",
        "outputId": "15c37759-23b8-4b14-e804-07062107e136"
      },
      "outputs": [
        {
          "data": {
            "text/plain": [
              "<matplotlib.collections.PathCollection at 0x7f9a5bdf7fa0>"
            ]
          },
          "execution_count": 632,
          "metadata": {},
          "output_type": "execute_result"
        },
        {
          "data": {
            "image/png": "[encoded data removed]",
            "text/plain": [
              "<Figure size 432x288 with 1 Axes>"
            ]
          },
          "metadata": {
            "needs_background": "light"
          },
          "output_type": "display_data"
        }
      ],
      "source": [
        "plt.scatter(X_test.to_numpy()[:,0],X_test.to_numpy()[:,1],c = y_test , cmap = 'Paired_r' , edgecolors = 'k')"
      ]
    },
    {
      "cell_type": "code",
      "execution_count": null,
      "metadata": {
        "colab": {
          "base_uri": "https://localhost:8080/",
          "height": 282
        },
        "id": "JH8yWP9VHEKS",
        "outputId": "6c40533e-5e15-453c-b0ae-b651b2ed2766"
      },
      "outputs": [
        {
          "name": "stdout",
          "output_type": "stream",
          "text": [
            "0.9\n"
          ]
        },
        {
          "data": {
            "image/png": "[encoded data removed]",
            "text/plain": [
              "<Figure size 432x288 with 1 Axes>"
            ]
          },
          "metadata": {
            "needs_background": "light"
          },
          "output_type": "display_data"
        }
      ],
      "source": [
        "gb = GaussianBayesClassifier(case=3)\n",
        "gb.fit(X_train, y_train) \n",
        "y_pred = gb.predict(X_test)\n",
        "print(gb.score(X_test, y_test))\n",
        "gb.plot_db(X_test.to_numpy(),y_pred)"
      ]
    },
    {
      "cell_type": "markdown",
      "metadata": {
        "id": "4HEBNz4WJ0ev"
      },
      "source": [
        "#Question 2"
      ]
    },
    {
      "cell_type": "markdown",
      "metadata": {
        "id": "vQI5Qd2VQTY2"
      },
      "source": [
        "#Part 1"
      ]
    },
    {
      "cell_type": "code",
      "execution_count": null,
      "metadata": {
        "colab": {
          "base_uri": "https://localhost:8080/",
          "height": 300
        },
        "id": "DnlXfag8ny0n",
        "outputId": "bb0f4742-79da-40ef-b820-b1c03a5ba425"
      },
      "outputs": [
        {
          "data": {
            "image/png": "[encoded data removed]",
            "text/plain": [
              "<Figure size 432x288 with 1 Axes>"
            ]
          },
          "metadata": {
            "needs_background": "light"
          },
          "output_type": "display_data"
        },
        {
          "name": "stdout",
          "output_type": "stream",
          "text": [
            "[[1.56134944 0.60381577]\n",
            " [0.60381577 1.12455011]]\n"
          ]
        }
      ],
      "source": [
        "import numpy as np\n",
        "import matplotlib.pyplot as plt\n",
        "import math\n",
        "\n",
        "def covar(X):\n",
        "  #N = number of rows , M = number of columns\n",
        "  N, M = X.shape\n",
        "  cov = np.zeros((M, M))\n",
        "  for i in range(M):\n",
        "    #mean\n",
        "    mean_i = np.sum(X[:, i]) / N\n",
        "    for j in range(M):\n",
        "        mean_j = np.sum(X[:, j]) / N\n",
        "        #covariance\n",
        "        cov[i, j] = np.sum((X[:, i] - mean_i) * (X[:, j] - mean_j)) / (N - 1)\n",
        "  return cov\n",
        "\n",
        "#mean vector\n",
        "mu = np.array([0, 0])\n",
        "#covariance matrix\n",
        "sigma = np.array([[3/2, 1/2], [1/2, 3/2]])\n",
        "#datapoints\n",
        "X = np.random.multivariate_normal(mu, sigma, size=75)\n",
        "\n",
        "S = covar(X)\n",
        "\n",
        "#eigenvalues and eigenvectors\n",
        "eigenvalues, eigenvectors = np.linalg.eigh(S)\n",
        "\n",
        "#plot\n",
        "plt.scatter(X[:,0], X[:,1], color='b')\n",
        "plt.arrow(mu[0], mu[1], eigenvectors[0,0], eigenvectors[0,1], color='r', width=0.03)\n",
        "plt.arrow(mu[0], mu[1], eigenvectors[1,0], eigenvectors[1,1], color='g', width=0.03)\n",
        "plt.show()\n",
        "print(S)\n"
      ]
    },
    {
      "cell_type": "markdown",
      "metadata": {
        "id": "llSm_mzUQVkM"
      },
      "source": [
        "#Part 2"
      ]
    },
    {
      "cell_type": "code",
      "execution_count": null,
      "metadata": {
        "colab": {
          "base_uri": "https://localhost:8080/"
        },
        "id": "QXUEUvKYoIGe",
        "outputId": "42cf0f91-1796-4bab-afef-98299af222d8"
      },
      "outputs": [
        {
          "name": "stdout",
          "output_type": "stream",
          "text": [
            "[[1.00000000e+00 9.90198914e-17]\n",
            " [9.90198914e-17 1.00000000e+00]]\n"
          ]
        }
      ],
      "source": [
        "from scipy.linalg import sqrtm\n",
        "sqrt_s = sqrtm(np.linalg.inv(S))\n",
        "Y = np.dot(X, sqrt_s)\n",
        "S_Y = covar(Y)\n",
        "\n",
        "print(S_Y)"
      ]
    },
    {
      "cell_type": "markdown",
      "metadata": {
        "id": "SFqyg6NqQYuU"
      },
      "source": [
        "#Part 3"
      ]
    },
    {
      "cell_type": "code",
      "source": [
        "import seaborn as sns\n",
        "P = np.array([[np.sqrt(25 - y**2), y] for y in np.linspace(-5, 5, 10)])\n",
        "categories = np.array([0, 1, 2, 3, 4, 5, 6,7,8,9])\n",
        "colormap = np.array(['r', 'g', 'b','yellow','grey','orange','black','violet','c','m'])\n",
        "plt.title(\"scatter plot of points in P along with the datapoints in X:\")\n",
        "sns.scatterplot(X[:, 0], X[:, 1], color='indigo')\n",
        "sns.scatterplot(P[:, 0], P[:, 1], c=colormap[categories])\n",
        "plt.show()\n",
        "print(\"\")\n",
        "distance = np.linalg.norm(P - mu, axis=1)\n",
        "plt.title(\"the eucledian distance of each point in P from µ using barplot:\")\n",
        "sns.barplot(np.arange(10), distance)\n",
        "plt.show()"
      ],
      "metadata": {
        "colab": {
          "base_uri": "https://localhost:8080/",
          "height": 562
        },
        "outputId": "b765546d-cc21-4a3e-a8c1-41135577a456",
        "id": "hhvvMOKFpvyZ"
      },
      "execution_count": null,
      "outputs": [
        {
          "output_type": "display_data",
          "data": {
            "text/plain": [
              "<Figure size 432x288 with 1 Axes>"
            ],
            "image/png": "[encoded data removed]"
          },
          "metadata": {
            "needs_background": "light"
          }
        },
        {
          "output_type": "stream",
          "name": "stdout",
          "text": [
            "\n"
          ]
        },
        {
          "output_type": "display_data",
          "data": {
            "text/plain": [
              "<Figure size 432x288 with 1 Axes>"
            ],
            "image/png": "[encoded data removed]"
          },
          "metadata": {
            "needs_background": "light"
          }
        }
      ]
    },
    {
      "cell_type": "markdown",
      "metadata": {
        "id": "YqeVO2BWQcEG"
      },
      "source": [
        "#Part 4"
      ]
    },
    {
      "cell_type": "code",
      "source": [
        "from scipy.linalg import sqrtm\n",
        "sqrt_p = sqrtm(np.linalg.inv(S))\n",
        "Q = np.dot(P, sqrt_p)\n",
        "distance_Q = np.linalg.norm(Q - mu, axis=1)\n",
        "plt.title(\"the eucledian distance of each point in Q from µ using barplot:\")\n",
        "sns.barplot(np.arange(10), distance_Q)\n",
        "plt.show()\n",
        "plt.title(\"scatter plot of points in Q along with the datapoints in Y:\")\n",
        "sns.scatterplot(Y[:, 0], Y[:, 1], color='indigo')\n",
        "sns.scatterplot(Q[:, 0], Q[:, 1], c=colormap[categories])\n",
        "plt.show()"
      ],
      "metadata": {
        "colab": {
          "base_uri": "https://localhost:8080/",
          "height": 545
        },
        "outputId": "7e8bd989-c3a3-44b7-a452-840bdd48d27b",
        "id": "bnBj2toup5L2"
      },
      "execution_count": null,
      "outputs": [
        {
          "output_type": "display_data",
          "data": {
            "text/plain": [
              "<Figure size 432x288 with 1 Axes>"
            ],
            "image/png": "[encoded data removed]"
          },
          "metadata": {
            "needs_background": "light"
          }
        },
        {
          "output_type": "display_data",
          "data": {
            "text/plain": [
              "<Figure size 432x288 with 1 Axes>"
            ],
            "image/png": "[encoded data removed]"
          },
          "metadata": {
            "needs_background": "light"
          }
        }
      ]
    }
  ],
  "metadata": {
    "colab": {
      "provenance": []
    },
    "kernelspec": {
      "display_name": "Python 3 (ipykernel)",
      "language": "python",
      "name": "python3"
    },
    "language_info": {
      "codemirror_mode": {
        "name": "ipython",
        "version": 3
      },
      "file_extension": ".py",
      "mimetype": "text/x-python",
      "name": "python",
      "nbconvert_exporter": "python",
      "pygments_lexer": "ipython3",
      "version": "3.10.6"
    }
  },
  "nbformat": 4,
  "nbformat_minor": 0
}